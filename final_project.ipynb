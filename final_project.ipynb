{
 "cells": [
  {
   "cell_type": "markdown",
   "metadata": {},
   "source": [
    "# Stock Market Analysis\n",
    "##### Shubham Mittal - CMSC320 Final Project Tutorial\n",
    "\n",
    "### 1. Introduction\n",
    "Interest in the stock market has been increasing especially after the introduction of more user friendly trading apps such as Robinhood. Financial data has also started becoming more accessible in part fueling this increase. The pandemic shook the global economy and the market experienced a lot of volatility. As a result, at the beginning of the pandemic, people started [moving away](https://www.statista.com/topics/7856/covid-19-and-investment-behavior-worldwide/#dossierKeyfigures) from the stock market to more low risk investments. However, as the pandemic has continued, a [new surge of people](https://www.cnbc.com/2021/04/08/a-large-chunk-of-the-retail-investing-crowd-got-their-start-during-the-pandemic-schwab-survey-shows.html) have started coming back to the stock market. \n",
    "\n",
    "Data analysis of the stock market can help traders and investors make decisions about buying and selling securities and gain an edge in the market. In this tutorial, I will analyze stock market data in different intervals to identify intraday, monthly, and yearly trends. Then we will use machine learning to also verify and predict trends. These trends could help identify periods of time that may be more lucrative for trading (a certain time of day or a certain month of a year) allowing investors to make better trading decisions. This tutorial will also help you gain a better understanding of the data science pipeline and hopefully allow you to analyze stock market data for your own purposes. \n",
    "\n",
    "The data science pipeline in this tutorial will consist of the following steps:\n",
    "- Data Collection\n",
    "- Data Cleaning & Processing\n",
    "- Visualization\n",
    "- Analysis & Hypothesis Testing\n",
    "- Conclusions & Insights\n",
    "\n",
    "### 2. Required Tools\n",
    "In order to understand this tutorial and follow along, you will need to have a basic understanding of Python. [Click here](https://developers.google.com/edu/python/?hl=en) for a quick refresher of python. We will be using Python 3.8 in this tutorial and the following libraries: \n",
    "- [Pandas](https://pandas.pydata.org/docs/getting_started/install.html)\n",
    "- [NumPy](https://numpy.org/install/)\n",
    "- [yfinance](https://pypi.org/project/yfinance/) \n",
    "- [datetime](https://pypi.org/project/DateTime/)\n",
    "- [pandassql](https://pypi.org/project/pandasql/)\n",
    "\n",
    "Pandas and NumPy will be useful to manipulate and store our data. We will be getting financial data from Yahoo Finance using the yfinance library. There are also other services to obtain stock data such as the [Bloomberg Finance API](https://www.bloomberg.com/professional/product/server-api/?bbgsum-page=DG-WS-PROF-BLOG-POST-126213&tactic-page=529917) and [Quandl](https://demo.quandl.com/) and you may choose to use any of them if you prefer. \n",
    "\n",
    "All of the above libraries can be installed using pip (which is recommended) but the links provide more detailed information on downloading for specific OS's. Succesful execution of the cell below should import all the necessary libraries required for the rest of this tutorial. "
   ]
  },
  {
   "cell_type": "code",
   "execution_count": 1,
   "metadata": {},
   "outputs": [],
   "source": [
    "# Importing dependencies for purposes as defined above\n",
    "import pandas as pd\n",
    "import numpy as np\n",
    "import yfinance as yfin\n",
    "import datetime\n",
    "import pandasql as psql"
   ]
  },
  {
   "cell_type": "markdown",
   "metadata": {},
   "source": [
    "### 3. Data Collection\n",
    "\n",
    "The first step of the data science pipeline is to obtain the data, in this case using the yfinance library. For the purposes of this tutorial, we will be analyzing two tickers, Google (GOOGL) and the S&P 500 index (^GSPC). Google is a major technological company and the S&P 500 or the Standard and Poor's 500 is an index tracking the performance of the 500 large companies listed on stock exchanges in the United States (Google being on of them).\n",
    "\n",
    "We will be collecting data for the above two tickers in three intervals, hourly, daily, and monthly to analyze trends across different time periods. We will be collecting data from To get started, we can simply use the yfinance library's download function to obtain the necessary data. The function can take multiple parameters which can help us specify how we want the data presented. Some of the main ones are: \n",
    "- tickers (list or string): list for multiple tickers and string for a singular ticker\n",
    "- start (string): start date in the format YYYY-MM-DD\n",
    "- end (string): end date in the format YYYY-MM-DD\n",
    "- period (string): can be used instead of start and end to get a period of the most recent data (Example: 1y)\n",
    "- interval (string): specify the interval data is provided in. Valid intervals: 1m (1 minute), 1h (1 hour), 1d (1 day), 1mo (1 month)\n",
    "- progress (boolean): True means a progress bar of obtaining data will be shown and False means it will not\n",
    "- auto_adjust (boolean): True means data will adjust all OHLC automatically and account for things like stock split while False will not\n",
    "\n",
    "To learn more about the options the yfinance library provides us with, [click here](https://pypi.org/project/yfinance/)"
   ]
  },
  {
   "cell_type": "code",
   "execution_count": 2,
   "metadata": {},
   "outputs": [],
   "source": [
    "# Obtaining hourly, daily, and monthly data for GOOGL for the past year\n",
    "hourly_GOOGL = yfin.download(\"GOOGL\", period=\"365d\", interval=\"1h\", progress=False, auto_adjust=True)\n",
    "daily_GOOGL = yfin.download(\"GOOGL\", period=\"5y\", interval=\"1d\", progress=False, auto_adjust=True)\n",
    "monthly_GOOGL = yfin.download(\"GOOGL\", period=\"5y\", interval=\"1mo\", progress=False, auto_adjust=True)\n",
    "\n",
    "# Obtaining hourly, daily, and monthly data for S&P 500 for the past year\n",
    "hourly_GSPC = yfin.download(\"^GSPC\", period=\"365d\", interval=\"1h\", progress=False, auto_adjust=True)\n",
    "daily_GSPC = yfin.download(\"^GSPC\", period=\"5y\", interval=\"1d\", progress=False, auto_adjust=True)\n",
    "monthly_GSPC = yfin.download(\"^GSPC\", period=\"5y\", interval=\"1mo\", progress=False, auto_adjust=True)"
   ]
  },
  {
   "cell_type": "markdown",
   "metadata": {},
   "source": [
    "We have now obtained hourly data for the past year along with daily and monthly data for the past 5 years. This should be enough information for us to conduct our analysis and identify trends. Make sure to pay special attention to the values you input for parameters to ensure you are receiving data as expected.\n",
    "\n",
    "Next, let's take a look at what the data we have collected looks like. "
   ]
  },
  {
   "cell_type": "code",
   "execution_count": 3,
   "metadata": {},
   "outputs": [
    {
     "data": {
      "text/html": [
       "<div>\n",
       "<style scoped>\n",
       "    .dataframe tbody tr th:only-of-type {\n",
       "        vertical-align: middle;\n",
       "    }\n",
       "\n",
       "    .dataframe tbody tr th {\n",
       "        vertical-align: top;\n",
       "    }\n",
       "\n",
       "    .dataframe thead th {\n",
       "        text-align: right;\n",
       "    }\n",
       "</style>\n",
       "<table border=\"1\" class=\"dataframe\">\n",
       "  <thead>\n",
       "    <tr style=\"text-align: right;\">\n",
       "      <th></th>\n",
       "      <th>Open</th>\n",
       "      <th>High</th>\n",
       "      <th>Low</th>\n",
       "      <th>Close</th>\n",
       "      <th>Volume</th>\n",
       "    </tr>\n",
       "  </thead>\n",
       "  <tbody>\n",
       "    <tr>\n",
       "      <th>2020-11-30 09:30:00-05:00</th>\n",
       "      <td>1776.510010</td>\n",
       "      <td>1780.239990</td>\n",
       "      <td>1759.030029</td>\n",
       "      <td>1760.839844</td>\n",
       "      <td>270458</td>\n",
       "    </tr>\n",
       "    <tr>\n",
       "      <th>2020-11-30 10:30:00-05:00</th>\n",
       "      <td>1759.300049</td>\n",
       "      <td>1760.520020</td>\n",
       "      <td>1748.510010</td>\n",
       "      <td>1753.694946</td>\n",
       "      <td>155822</td>\n",
       "    </tr>\n",
       "    <tr>\n",
       "      <th>2020-11-30 11:30:00-05:00</th>\n",
       "      <td>1752.670044</td>\n",
       "      <td>1754.204956</td>\n",
       "      <td>1749.140015</td>\n",
       "      <td>1754.204956</td>\n",
       "      <td>105271</td>\n",
       "    </tr>\n",
       "    <tr>\n",
       "      <th>2020-11-30 12:30:00-05:00</th>\n",
       "      <td>1754.405029</td>\n",
       "      <td>1754.890015</td>\n",
       "      <td>1749.854980</td>\n",
       "      <td>1751.089966</td>\n",
       "      <td>103912</td>\n",
       "    </tr>\n",
       "    <tr>\n",
       "      <th>2020-11-30 13:30:00-05:00</th>\n",
       "      <td>1750.420044</td>\n",
       "      <td>1755.650024</td>\n",
       "      <td>1748.770020</td>\n",
       "      <td>1754.849976</td>\n",
       "      <td>103848</td>\n",
       "    </tr>\n",
       "  </tbody>\n",
       "</table>\n",
       "</div>"
      ],
      "text/plain": [
       "                                  Open         High          Low        Close  \\\n",
       "2020-11-30 09:30:00-05:00  1776.510010  1780.239990  1759.030029  1760.839844   \n",
       "2020-11-30 10:30:00-05:00  1759.300049  1760.520020  1748.510010  1753.694946   \n",
       "2020-11-30 11:30:00-05:00  1752.670044  1754.204956  1749.140015  1754.204956   \n",
       "2020-11-30 12:30:00-05:00  1754.405029  1754.890015  1749.854980  1751.089966   \n",
       "2020-11-30 13:30:00-05:00  1750.420044  1755.650024  1748.770020  1754.849976   \n",
       "\n",
       "                           Volume  \n",
       "2020-11-30 09:30:00-05:00  270458  \n",
       "2020-11-30 10:30:00-05:00  155822  \n",
       "2020-11-30 11:30:00-05:00  105271  \n",
       "2020-11-30 12:30:00-05:00  103912  \n",
       "2020-11-30 13:30:00-05:00  103848  "
      ]
     },
     "execution_count": 3,
     "metadata": {},
     "output_type": "execute_result"
    }
   ],
   "source": [
    "hourly_GOOGL.head(5)"
   ]
  },
  {
   "cell_type": "code",
   "execution_count": 4,
   "metadata": {},
   "outputs": [
    {
     "data": {
      "text/html": [
       "<div>\n",
       "<style scoped>\n",
       "    .dataframe tbody tr th:only-of-type {\n",
       "        vertical-align: middle;\n",
       "    }\n",
       "\n",
       "    .dataframe tbody tr th {\n",
       "        vertical-align: top;\n",
       "    }\n",
       "\n",
       "    .dataframe thead th {\n",
       "        text-align: right;\n",
       "    }\n",
       "</style>\n",
       "<table border=\"1\" class=\"dataframe\">\n",
       "  <thead>\n",
       "    <tr style=\"text-align: right;\">\n",
       "      <th></th>\n",
       "      <th>Open</th>\n",
       "      <th>High</th>\n",
       "      <th>Low</th>\n",
       "      <th>Close</th>\n",
       "      <th>Volume</th>\n",
       "    </tr>\n",
       "    <tr>\n",
       "      <th>Date</th>\n",
       "      <th></th>\n",
       "      <th></th>\n",
       "      <th></th>\n",
       "      <th></th>\n",
       "      <th></th>\n",
       "    </tr>\n",
       "  </thead>\n",
       "  <tbody>\n",
       "    <tr>\n",
       "      <th>2017-05-12</th>\n",
       "      <td>957.849976</td>\n",
       "      <td>957.979980</td>\n",
       "      <td>952.059998</td>\n",
       "      <td>955.140015</td>\n",
       "      <td>1214900</td>\n",
       "    </tr>\n",
       "    <tr>\n",
       "      <th>2017-05-15</th>\n",
       "      <td>955.289978</td>\n",
       "      <td>962.700012</td>\n",
       "      <td>952.820007</td>\n",
       "      <td>959.219971</td>\n",
       "      <td>1337700</td>\n",
       "    </tr>\n",
       "    <tr>\n",
       "      <th>2017-05-16</th>\n",
       "      <td>963.549988</td>\n",
       "      <td>965.900024</td>\n",
       "      <td>960.349976</td>\n",
       "      <td>964.609985</td>\n",
       "      <td>1101500</td>\n",
       "    </tr>\n",
       "    <tr>\n",
       "      <th>2017-05-17</th>\n",
       "      <td>959.700012</td>\n",
       "      <td>960.989990</td>\n",
       "      <td>940.059998</td>\n",
       "      <td>942.169983</td>\n",
       "      <td>2449100</td>\n",
       "    </tr>\n",
       "    <tr>\n",
       "      <th>2017-05-18</th>\n",
       "      <td>943.200012</td>\n",
       "      <td>954.179993</td>\n",
       "      <td>941.270020</td>\n",
       "      <td>950.500000</td>\n",
       "      <td>1800500</td>\n",
       "    </tr>\n",
       "  </tbody>\n",
       "</table>\n",
       "</div>"
      ],
      "text/plain": [
       "                  Open        High         Low       Close   Volume\n",
       "Date                                                               \n",
       "2017-05-12  957.849976  957.979980  952.059998  955.140015  1214900\n",
       "2017-05-15  955.289978  962.700012  952.820007  959.219971  1337700\n",
       "2017-05-16  963.549988  965.900024  960.349976  964.609985  1101500\n",
       "2017-05-17  959.700012  960.989990  940.059998  942.169983  2449100\n",
       "2017-05-18  943.200012  954.179993  941.270020  950.500000  1800500"
      ]
     },
     "execution_count": 4,
     "metadata": {},
     "output_type": "execute_result"
    }
   ],
   "source": [
    "daily_GOOGL.head(5)"
   ]
  },
  {
   "cell_type": "code",
   "execution_count": 5,
   "metadata": {},
   "outputs": [
    {
     "data": {
      "text/html": [
       "<div>\n",
       "<style scoped>\n",
       "    .dataframe tbody tr th:only-of-type {\n",
       "        vertical-align: middle;\n",
       "    }\n",
       "\n",
       "    .dataframe tbody tr th {\n",
       "        vertical-align: top;\n",
       "    }\n",
       "\n",
       "    .dataframe thead th {\n",
       "        text-align: right;\n",
       "    }\n",
       "</style>\n",
       "<table border=\"1\" class=\"dataframe\">\n",
       "  <thead>\n",
       "    <tr style=\"text-align: right;\">\n",
       "      <th></th>\n",
       "      <th>Open</th>\n",
       "      <th>High</th>\n",
       "      <th>Low</th>\n",
       "      <th>Close</th>\n",
       "      <th>Volume</th>\n",
       "    </tr>\n",
       "    <tr>\n",
       "      <th>Date</th>\n",
       "      <th></th>\n",
       "      <th></th>\n",
       "      <th></th>\n",
       "      <th></th>\n",
       "      <th></th>\n",
       "    </tr>\n",
       "  </thead>\n",
       "  <tbody>\n",
       "    <tr>\n",
       "      <th>2017-06-01</th>\n",
       "      <td>990.960022</td>\n",
       "      <td>1008.609985</td>\n",
       "      <td>929.599976</td>\n",
       "      <td>929.679993</td>\n",
       "      <td>44085300</td>\n",
       "    </tr>\n",
       "    <tr>\n",
       "      <th>2017-07-01</th>\n",
       "      <td>933.219971</td>\n",
       "      <td>1006.190002</td>\n",
       "      <td>915.309998</td>\n",
       "      <td>945.500000</td>\n",
       "      <td>41908600</td>\n",
       "    </tr>\n",
       "    <tr>\n",
       "      <th>2017-08-01</th>\n",
       "      <td>947.809998</td>\n",
       "      <td>957.200012</td>\n",
       "      <td>918.599976</td>\n",
       "      <td>955.239990</td>\n",
       "      <td>32846200</td>\n",
       "    </tr>\n",
       "    <tr>\n",
       "      <th>2017-09-01</th>\n",
       "      <td>957.469971</td>\n",
       "      <td>975.809998</td>\n",
       "      <td>924.510010</td>\n",
       "      <td>973.719971</td>\n",
       "      <td>29626200</td>\n",
       "    </tr>\n",
       "    <tr>\n",
       "      <th>2017-10-01</th>\n",
       "      <td>975.650024</td>\n",
       "      <td>1063.619995</td>\n",
       "      <td>961.950012</td>\n",
       "      <td>1033.040039</td>\n",
       "      <td>36853800</td>\n",
       "    </tr>\n",
       "  </tbody>\n",
       "</table>\n",
       "</div>"
      ],
      "text/plain": [
       "                  Open         High         Low        Close    Volume\n",
       "Date                                                                  \n",
       "2017-06-01  990.960022  1008.609985  929.599976   929.679993  44085300\n",
       "2017-07-01  933.219971  1006.190002  915.309998   945.500000  41908600\n",
       "2017-08-01  947.809998   957.200012  918.599976   955.239990  32846200\n",
       "2017-09-01  957.469971   975.809998  924.510010   973.719971  29626200\n",
       "2017-10-01  975.650024  1063.619995  961.950012  1033.040039  36853800"
      ]
     },
     "execution_count": 5,
     "metadata": {},
     "output_type": "execute_result"
    }
   ],
   "source": [
    "monthly_GOOGL.head(5)"
   ]
  },
  {
   "cell_type": "markdown",
   "metadata": {},
   "source": [
    "From the above dataframes we can note a couple of things. All of our dataframes are indexed using the date or date and time (for the hourly dataframes). We can also notice in the daily_GOOGL dataframe, the data for 2017-05-13 and 2017-05-14 is missing. Missing values in the data obtained could be due to a number of reasons including holidays, the market closed early, or data is simply missing and was not recorded.\n",
    "\n",
    "By looking at the data, we are able to identify different aspects that we will need to modify and process for easier analysis in further steps. All of this occurs in the second step of the data science pipeline, data cleaning and processing.\n",
    "\n",
    "### 4. Data Cleaning & Processing\n",
    "As identified above, there are a couple of steps we need to take before we will be able to analyze our data for trends. First, we will get rid of any null or missing values in our data as they will not be useful in analysis. Second, we will remove indexing by date and rename all columns for standardization of data. Third, we will label our dataframes with the hour of the day, day of the week, and month of the year for the hourly, daily, and monthly dataframes respectively. \n",
    "\n",
    "Once we have processed and cleaned our dataframes for easier readability and analysis, we will modify them with other features such as percent change since open to give us a better sense of how the stock prices change over time. We will also compute averages for all of the data points as with so many raw data points, visualization will not provide us with actionable information and seeing trends will be much harder. "
   ]
  },
  {
   "cell_type": "code",
   "execution_count": 6,
   "metadata": {},
   "outputs": [],
   "source": [
    "# Removing null values from our dataframes \n",
    "hourly_GOOGL = hourly_GOOGL.dropna()\n",
    "daily_GOOGL = daily_GOOGL.dropna()\n",
    "monthly_GOOGL = monthly_GOOGL.dropna()\n",
    "\n",
    "hourly_GSPC = hourly_GSPC.dropna()\n",
    "daily_GSPC = daily_GSPC.dropna()\n",
    "monthly_GSPC = monthly_GSPC.dropna()"
   ]
  },
  {
   "cell_type": "markdown",
   "metadata": {},
   "source": [
    "Next, we will resent indices and relabel the columns"
   ]
  },
  {
   "cell_type": "code",
   "execution_count": 7,
   "metadata": {},
   "outputs": [],
   "source": [
    "# Resetting index to remove indexing by date\n",
    "hourly_GOOGL = hourly_GOOGL.reset_index()\n",
    "daily_GOOGL = daily_GOOGL.reset_index()\n",
    "monthly_GOOGL = monthly_GOOGL.reset_index()\n",
    "\n",
    "hourly_GSPC = hourly_GSPC.reset_index()\n",
    "daily_GSPC = daily_GSPC.reset_index()\n",
    "monthly_GSPC = monthly_GSPC.reset_index()\n",
    "\n",
    "# Renaming Columns for standardization across dataframes\n",
    "hourly_GOOGL.columns = [\"Date\", \"Open\", \"High\", \"Low\", \"Close\", \"Volume\"]\n",
    "daily_GOOGL.columns = [\"Date\", \"Open\", \"High\", \"Low\", \"Close\", \"Volume\"]\n",
    "monthly_GOOGL.columns = [\"Date\", \"Open\", \"High\", \"Low\", \"Close\", \"Volume\"]\n",
    "\n",
    "hourly_GSPC.columns = [\"Date\", \"Open\", \"High\", \"Low\", \"Close\", \"Volume\"]\n",
    "daily_GSPC.columns = [\"Date\", \"Open\", \"High\", \"Low\", \"Close\", \"Volume\"]\n",
    "monthly_GSPC.columns = [\"Date\", \"Open\", \"High\", \"Low\", \"Close\", \"Volume\"]"
   ]
  },
  {
   "cell_type": "markdown",
   "metadata": {},
   "source": [
    "Now we will define three functions that will help us label our dataframes by the hour, weekday, and month"
   ]
  },
  {
   "cell_type": "code",
   "execution_count": 8,
   "metadata": {},
   "outputs": [],
   "source": [
    "# function that will label a dataframe by hour\n",
    "def label_by_hour(df):\n",
    "  # Will hold the labels for hours, should have values from 0 (for 9:30 am), 1 (10:30am), ..., to 6 (3:30 pm)\n",
    "  hours = []\n",
    "  # First hour already put into array \n",
    "  hour = 0\n",
    "  hours.append(hour)\n",
    "  # Start iterating from the first row of the dataframe\n",
    "  for i in range(1, len(df)):\n",
    "    # If we are in the same day, increment hour, otherwise rest hour\n",
    "    if (df.loc[i]['Date'].weekday() == df.loc[i-1]['Date'].weekday()):\n",
    "      hour += 1\n",
    "      hours.append(hour)\n",
    "    else:\n",
    "      hour = 0\n",
    "      hours.append(hour)  \n",
    "      \n",
    "  # Appending the hour label array to the dataframe and returning a new dataframe\n",
    "  df.insert(1, \"Hour\", hours)\n",
    "  return df"
   ]
  },
  {
   "cell_type": "code",
   "execution_count": 9,
   "metadata": {},
   "outputs": [],
   "source": [
    "# function that will label a dataframe by weekday\n",
    "def label_by_weekday(df):\n",
    "  # Will hold the labels for days, should have values from 0 (Monday), 1 (Tuesday), ..., 4 (Friday)\n",
    "  # Note, the stock market is not open on weekends\n",
    "  days = []\n",
    "  # Iterate through the dataframe to get the weekdays and append to the days label array\n",
    "  for i in range(0, len(df)):\n",
    "    days.append(df.loc[i][\"Date\"].weekday())\n",
    "      \n",
    "  # Appending the days label array to the dataframe and returning a new dataframe\n",
    "  df.insert(1, \"Weekday\", days)\n",
    "  return df\n",
    "  "
   ]
  },
  {
   "cell_type": "code",
   "execution_count": 10,
   "metadata": {},
   "outputs": [],
   "source": [
    "# function that will label a dataframe by month\n",
    "def label_by_month(df):\n",
    "  # Will hold the labels for months, should have values from 0 (January), 1 (February), ..., 12 (December)\n",
    "  months = []\n",
    "  # Iterate through the dataframe to get the months and append to the months label array\n",
    "  for i in range(0, len(df)):\n",
    "    months.append(df.loc[i][\"Date\"].month)\n",
    "      \n",
    "  # Appending the month label array to the dataframe and returning a new dataframe\n",
    "  df.insert(1, \"Month\", months)\n",
    "  return df\n",
    "  "
   ]
  },
  {
   "cell_type": "markdown",
   "metadata": {},
   "source": [
    "Now that we have defined functions for labelling our dataframes, we can go ahead and use them to label our stock data. After doing so, we should also verify that there were no errors while labelling our data. "
   ]
  },
  {
   "cell_type": "code",
   "execution_count": 11,
   "metadata": {},
   "outputs": [],
   "source": [
    "hourly_GOOGL = label_by_hour(hourly_GOOGL)\n",
    "hourly_GSPC = label_by_hour(hourly_GSPC)"
   ]
  },
  {
   "cell_type": "markdown",
   "metadata": {},
   "source": [
    "Next, let's verify that labelling by hour was appropriately done"
   ]
  },
  {
   "cell_type": "code",
   "execution_count": 12,
   "metadata": {},
   "outputs": [
    {
     "name": "stdout",
     "output_type": "stream",
     "text": [
      "[0 1 2 3 4 5 6 7]\n",
      "[0 1 2 3 4 5 6 7]\n"
     ]
    }
   ],
   "source": [
    "print(hourly_GOOGL[\"Hour\"].unique())\n",
    "print(hourly_GSPC[\"Hour\"].unique())"
   ]
  },
  {
   "cell_type": "markdown",
   "metadata": {},
   "source": [
    "Here, for both dataframes we notice a value of 7 which should not be present as the stock market is only open for the 6 hours. To see why this may be happening, let's further examine our dataframes. "
   ]
  },
  {
   "cell_type": "code",
   "execution_count": 13,
   "metadata": {},
   "outputs": [
    {
     "data": {
      "text/html": [
       "<div>\n",
       "<style scoped>\n",
       "    .dataframe tbody tr th:only-of-type {\n",
       "        vertical-align: middle;\n",
       "    }\n",
       "\n",
       "    .dataframe tbody tr th {\n",
       "        vertical-align: top;\n",
       "    }\n",
       "\n",
       "    .dataframe thead th {\n",
       "        text-align: right;\n",
       "    }\n",
       "</style>\n",
       "<table border=\"1\" class=\"dataframe\">\n",
       "  <thead>\n",
       "    <tr style=\"text-align: right;\">\n",
       "      <th></th>\n",
       "      <th>Date</th>\n",
       "      <th>Hour</th>\n",
       "      <th>Open</th>\n",
       "      <th>High</th>\n",
       "      <th>Low</th>\n",
       "      <th>Close</th>\n",
       "      <th>Volume</th>\n",
       "    </tr>\n",
       "  </thead>\n",
       "  <tbody>\n",
       "    <tr>\n",
       "      <th>2545</th>\n",
       "      <td>2022-05-11 12:30:00-04:00</td>\n",
       "      <td>3</td>\n",
       "      <td>2283.570068</td>\n",
       "      <td>2295.782715</td>\n",
       "      <td>2277.070068</td>\n",
       "      <td>2282.580078</td>\n",
       "      <td>229772</td>\n",
       "    </tr>\n",
       "    <tr>\n",
       "      <th>2546</th>\n",
       "      <td>2022-05-11 13:30:00-04:00</td>\n",
       "      <td>4</td>\n",
       "      <td>2282.475098</td>\n",
       "      <td>2305.439941</td>\n",
       "      <td>2272.389893</td>\n",
       "      <td>2298.979980</td>\n",
       "      <td>228361</td>\n",
       "    </tr>\n",
       "    <tr>\n",
       "      <th>2547</th>\n",
       "      <td>2022-05-11 14:30:00-04:00</td>\n",
       "      <td>5</td>\n",
       "      <td>2301.114990</td>\n",
       "      <td>2314.539795</td>\n",
       "      <td>2282.010010</td>\n",
       "      <td>2287.429932</td>\n",
       "      <td>194230</td>\n",
       "    </tr>\n",
       "    <tr>\n",
       "      <th>2548</th>\n",
       "      <td>2022-05-11 15:30:00-04:00</td>\n",
       "      <td>6</td>\n",
       "      <td>2287.060059</td>\n",
       "      <td>2291.030029</td>\n",
       "      <td>2267.120117</td>\n",
       "      <td>2272.969971</td>\n",
       "      <td>273244</td>\n",
       "    </tr>\n",
       "    <tr>\n",
       "      <th>2549</th>\n",
       "      <td>2022-05-11 16:00:00-04:00</td>\n",
       "      <td>7</td>\n",
       "      <td>2272.050049</td>\n",
       "      <td>2272.050049</td>\n",
       "      <td>2272.050049</td>\n",
       "      <td>2272.050049</td>\n",
       "      <td>0</td>\n",
       "    </tr>\n",
       "  </tbody>\n",
       "</table>\n",
       "</div>"
      ],
      "text/plain": [
       "                          Date  Hour         Open         High          Low  \\\n",
       "2545 2022-05-11 12:30:00-04:00     3  2283.570068  2295.782715  2277.070068   \n",
       "2546 2022-05-11 13:30:00-04:00     4  2282.475098  2305.439941  2272.389893   \n",
       "2547 2022-05-11 14:30:00-04:00     5  2301.114990  2314.539795  2282.010010   \n",
       "2548 2022-05-11 15:30:00-04:00     6  2287.060059  2291.030029  2267.120117   \n",
       "2549 2022-05-11 16:00:00-04:00     7  2272.050049  2272.050049  2272.050049   \n",
       "\n",
       "            Close  Volume  \n",
       "2545  2282.580078  229772  \n",
       "2546  2298.979980  228361  \n",
       "2547  2287.429932  194230  \n",
       "2548  2272.969971  273244  \n",
       "2549  2272.050049       0  "
      ]
     },
     "execution_count": 13,
     "metadata": {},
     "output_type": "execute_result"
    }
   ],
   "source": [
    "hourly_GOOGL.tail(5)"
   ]
  },
  {
   "cell_type": "markdown",
   "metadata": {},
   "source": [
    "As we can see, the last row collected data for the end of the day at 4pm. We should also notice that the volume in that row is 0. This looks like an erroneous entry, so we will remove the row from our GOOGL dataframe before moving forward with processing our data. We will do the same for the GSPC dataframe. "
   ]
  },
  {
   "cell_type": "code",
   "execution_count": 14,
   "metadata": {},
   "outputs": [],
   "source": [
    "hourly_GOOGL = hourly_GOOGL.drop(hourly_GOOGL.index[-1])\n",
    "hourly_GSPC = hourly_GSPC.drop(hourly_GSPC.index[-1])"
   ]
  },
  {
   "cell_type": "markdown",
   "metadata": {},
   "source": [
    "Next, we will label our daily and monthly dataframes"
   ]
  },
  {
   "cell_type": "code",
   "execution_count": 15,
   "metadata": {},
   "outputs": [],
   "source": [
    "daily_GOOGL = label_by_weekday(daily_GOOGL)\n",
    "daily_GSPC = label_by_weekday(daily_GSPC)"
   ]
  },
  {
   "cell_type": "markdown",
   "metadata": {},
   "source": [
    "Again, let's verify that our labelling was appropriately done. "
   ]
  },
  {
   "cell_type": "code",
   "execution_count": 16,
   "metadata": {},
   "outputs": [
    {
     "name": "stdout",
     "output_type": "stream",
     "text": [
      "[4 0 1 2 3]\n",
      "[4 0 1 2 3]\n"
     ]
    }
   ],
   "source": [
    "print(daily_GOOGL[\"Weekday\"].unique())\n",
    "print(daily_GSPC[\"Weekday\"].unique())"
   ]
  },
  {
   "cell_type": "markdown",
   "metadata": {},
   "source": [
    "In this case, looks like the labels were appropriately assigned. Lastly, we will label our monthly dataframes"
   ]
  },
  {
   "cell_type": "code",
   "execution_count": 17,
   "metadata": {},
   "outputs": [],
   "source": [
    "monthly_GOOGL = label_by_month(monthly_GOOGL)\n",
    "monthly_GSPC = label_by_month(monthly_GSPC)"
   ]
  },
  {
   "cell_type": "markdown",
   "metadata": {},
   "source": [
    "Again, let's verify that the labelling was appropriately done. "
   ]
  },
  {
   "cell_type": "code",
   "execution_count": 18,
   "metadata": {},
   "outputs": [
    {
     "name": "stdout",
     "output_type": "stream",
     "text": [
      "[ 6  7  8  9 10 11 12  1  2  3  4  5]\n",
      "[ 6  7  8  9 10 11 12  1  2  3  4  5]\n"
     ]
    }
   ],
   "source": [
    "print(monthly_GOOGL[\"Month\"].unique())\n",
    "print(monthly_GSPC[\"Month\"].unique())"
   ]
  },
  {
   "cell_type": "markdown",
   "metadata": {},
   "source": [
    "Now that we have processed, cleaned, and labelled our dataframes, we can move forward with modifying them with other information that would be helpful in understanding the data such as percent change since open. "
   ]
  },
  {
   "cell_type": "code",
   "execution_count": 19,
   "metadata": {},
   "outputs": [],
   "source": [
    "# Calculating percent change since open for the hourly dataframes\n",
    "\n",
    "# Arrays to hold pct_change, will be appended to dataframe\n",
    "pct_change_GOOGL = []\n",
    "pct_change_GSPC = []\n",
    "\n",
    "# Providing initial values based on difference between opening and closing prices\n",
    "pct_change_GOOGL.append(((hourly_GOOGL.loc[0][\"Close\"] - hourly_GOOGL.loc[0][\"Open\"])/hourly_GOOGL.loc[0][\"Open\"])*100)\n",
    "pct_change_GSPC.append(((hourly_GSPC.loc[0][\"Close\"] - hourly_GSPC.loc[0][\"Open\"])/hourly_GSPC.loc[0][\"Open\"])*100)\n",
    "\n",
    "# Calculating percent change and appending to array for GOOGL\n",
    "for i in range(1, len(hourly_GOOGL)):\n",
    "  change = ((hourly_GOOGL.loc[i][\"Open\"] - hourly_GOOGL.loc[i-1][\"Open\"])/hourly_GOOGL.loc[i-1][\"Open\"])*100\n",
    "  pct_change_GOOGL.append(change)\n",
    "  \n",
    "# Calculating percent change and appending to array for GSPC\n",
    "for i in range(1, len(hourly_GSPC)):\n",
    "  change = ((hourly_GSPC.loc[i][\"Open\"] - hourly_GSPC.loc[i-1][\"Open\"])/hourly_GSPC.loc[i-1][\"Open\"])*100\n",
    "  pct_change_GSPC.append(change)\n",
    "  \n",
    "hourly_GOOGL.insert(0, \"Pct_change_open\", pct_change_GOOGL)\n",
    "hourly_GSPC.insert(0, \"Pct_change_open\", pct_change_GSPC)"
   ]
  },
  {
   "cell_type": "code",
   "execution_count": 20,
   "metadata": {},
   "outputs": [],
   "source": [
    "# Calculating percent change since open for the daily dataframes\n",
    "\n",
    "# Arrays to hold pct_change, will be appended to dataframe\n",
    "pct_change_GOOGL = []\n",
    "pct_change_GSPC = []\n",
    "\n",
    "# Providing initial values based on difference between opening and closing prices\n",
    "pct_change_GOOGL.append(((daily_GOOGL.loc[0][\"Close\"] - daily_GOOGL.loc[0][\"Open\"])/daily_GOOGL.loc[0][\"Open\"])*100)\n",
    "pct_change_GSPC.append(((daily_GSPC.loc[0][\"Close\"] - daily_GSPC.loc[0][\"Open\"])/daily_GSPC.loc[0][\"Open\"])*100)\n",
    "\n",
    "# Calculating percent change and appending to array for GOOGL\n",
    "for i in range(1, len(daily_GOOGL)):\n",
    "  change = ((daily_GOOGL.loc[i][\"Open\"] - daily_GOOGL.loc[i-1][\"Open\"])/daily_GOOGL.loc[i-1][\"Open\"])*100\n",
    "  pct_change_GOOGL.append(change)\n",
    "  \n",
    "# Calculating percent change and appending to array for GSPC\n",
    "for i in range(1, len(daily_GSPC)):\n",
    "  change = ((daily_GSPC.loc[i][\"Open\"] - daily_GSPC.loc[i-1][\"Open\"])/daily_GSPC.loc[i-1][\"Open\"])*100\n",
    "  pct_change_GSPC.append(change)\n",
    "  \n",
    "daily_GOOGL.insert(0, \"Pct_change_open\", pct_change_GOOGL)\n",
    "daily_GSPC.insert(0, \"Pct_change_open\", pct_change_GSPC)"
   ]
  },
  {
   "cell_type": "code",
   "execution_count": 21,
   "metadata": {},
   "outputs": [],
   "source": [
    "# Calculating percent change since open for the monthly dataframes\n",
    "\n",
    "# Arrays to hold pct_change, will be appended to dataframe\n",
    "pct_change_GOOGL = []\n",
    "pct_change_GSPC = []\n",
    "\n",
    "# Providing initial values based on difference between opening and closing prices\n",
    "pct_change_GOOGL.append(((monthly_GOOGL.loc[0][\"Close\"] - monthly_GOOGL.loc[0][\"Open\"])/monthly_GOOGL.loc[0][\"Open\"])*100)\n",
    "pct_change_GSPC.append(((monthly_GSPC.loc[0][\"Close\"] - monthly_GSPC.loc[0][\"Open\"])/monthly_GSPC.loc[0][\"Open\"])*100)\n",
    "\n",
    "# Calculating percent change and appending to array for GOOGL\n",
    "for i in range(1, len(monthly_GOOGL)):\n",
    "  change = ((monthly_GOOGL.loc[i][\"Open\"] - monthly_GOOGL.loc[i-1][\"Open\"])/monthly_GOOGL.loc[i-1][\"Open\"])*100\n",
    "  pct_change_GOOGL.append(change)\n",
    "  \n",
    "# Calculating percent change and appending to array for GSPC\n",
    "for i in range(1, len(monthly_GSPC)):\n",
    "  change = ((monthly_GSPC.loc[i][\"Open\"] - monthly_GSPC.loc[i-1][\"Open\"])/monthly_GSPC.loc[i-1][\"Open\"])*100\n",
    "  pct_change_GSPC.append(change)\n",
    "  \n",
    "monthly_GOOGL.insert(0, \"Pct_change_open\", pct_change_GOOGL)\n",
    "monthly_GSPC.insert(0, \"Pct_change_open\", pct_change_GSPC)"
   ]
  },
  {
   "cell_type": "markdown",
   "metadata": {},
   "source": [
    "Now that we have calculated percent change since open for all of our dataframes, we can go ahead and calculate averages for all the columsn in each dataframe. We will want to group this by the labels we had created previously (Hour for hourly dataframes, Weekday for weekly dataframes, and Month for monthly dataframes).\n",
    "\n",
    "After doing this, we should expect to see 7 groupings for the hourly dataframes (0 - 6 hours), 5 groupings for weekdays (1 - 5), and 12 groupings for months (1-12)."
   ]
  },
  {
   "cell_type": "code",
   "execution_count": 22,
   "metadata": {},
   "outputs": [],
   "source": [
    "# Here, we are using the groupby method to create the groups using the Hour column and then calculating the mean for each group\n",
    "avg_hourly_GOOGL = hourly_GOOGL.groupby('Hour').mean().reset_index()\n",
    "avg_daily_GOOGL = daily_GOOGL.groupby('Weekday').mean()\n",
    "avg_monthly_GOOGL = monthly_GOOGL.groupby('Month').mean()\n",
    "\n",
    "avg_hourly_GSPC = hourly_GOOGL.groupby('Hour').mean()\n",
    "avg_daily_GSPC = daily_GSPC.groupby('Weekday').mean()\n",
    "avg_monthly_GSPC = monthly_GSPC.groupby('Month').mean()"
   ]
  },
  {
   "cell_type": "markdown",
   "metadata": {},
   "source": [
    "Above we used the groupby method to help average our data. Another way to do this is by using SQL queries. I will demonstrate an example below but we will continue using our averages from above for the rest of the tutorial. "
   ]
  },
  {
   "cell_type": "code",
   "execution_count": 31,
   "metadata": {},
   "outputs": [
    {
     "data": {
      "text/html": [
       "<div>\n",
       "<style scoped>\n",
       "    .dataframe tbody tr th:only-of-type {\n",
       "        vertical-align: middle;\n",
       "    }\n",
       "\n",
       "    .dataframe tbody tr th {\n",
       "        vertical-align: top;\n",
       "    }\n",
       "\n",
       "    .dataframe thead th {\n",
       "        text-align: right;\n",
       "    }\n",
       "</style>\n",
       "<table border=\"1\" class=\"dataframe\">\n",
       "  <thead>\n",
       "    <tr style=\"text-align: right;\">\n",
       "      <th></th>\n",
       "      <th>Hour</th>\n",
       "      <th>Pct_change_open</th>\n",
       "      <th>Open</th>\n",
       "      <th>High</th>\n",
       "      <th>Low</th>\n",
       "      <th>Close</th>\n",
       "      <th>Volume</th>\n",
       "    </tr>\n",
       "  </thead>\n",
       "  <tbody>\n",
       "    <tr>\n",
       "      <th>0</th>\n",
       "      <td>0</td>\n",
       "      <td>0.078405</td>\n",
       "      <td>2480.727828</td>\n",
       "      <td>2495.993387</td>\n",
       "      <td>2463.575165</td>\n",
       "      <td>2479.307211</td>\n",
       "      <td>378954.323288</td>\n",
       "    </tr>\n",
       "    <tr>\n",
       "      <th>1</th>\n",
       "      <td>1</td>\n",
       "      <td>-0.046587</td>\n",
       "      <td>2479.299441</td>\n",
       "      <td>2489.112114</td>\n",
       "      <td>2468.620930</td>\n",
       "      <td>2479.577758</td>\n",
       "      <td>191860.638356</td>\n",
       "    </tr>\n",
       "    <tr>\n",
       "      <th>2</th>\n",
       "      <td>2</td>\n",
       "      <td>0.018169</td>\n",
       "      <td>2479.696062</td>\n",
       "      <td>2487.805832</td>\n",
       "      <td>2470.926309</td>\n",
       "      <td>2479.734508</td>\n",
       "      <td>150853.452055</td>\n",
       "    </tr>\n",
       "    <tr>\n",
       "      <th>3</th>\n",
       "      <td>3</td>\n",
       "      <td>0.008489</td>\n",
       "      <td>2479.738733</td>\n",
       "      <td>2486.634154</td>\n",
       "      <td>2472.360385</td>\n",
       "      <td>2479.596177</td>\n",
       "      <td>125698.041096</td>\n",
       "    </tr>\n",
       "    <tr>\n",
       "      <th>4</th>\n",
       "      <td>4</td>\n",
       "      <td>0.003947</td>\n",
       "      <td>2480.721879</td>\n",
       "      <td>2487.869113</td>\n",
       "      <td>2473.348817</td>\n",
       "      <td>2480.630816</td>\n",
       "      <td>130146.732782</td>\n",
       "    </tr>\n",
       "    <tr>\n",
       "      <th>5</th>\n",
       "      <td>5</td>\n",
       "      <td>-0.000142</td>\n",
       "      <td>2480.719832</td>\n",
       "      <td>2488.209279</td>\n",
       "      <td>2473.519914</td>\n",
       "      <td>2481.294133</td>\n",
       "      <td>151899.837466</td>\n",
       "    </tr>\n",
       "    <tr>\n",
       "      <th>6</th>\n",
       "      <td>6</td>\n",
       "      <td>0.020722</td>\n",
       "      <td>2481.293319</td>\n",
       "      <td>2487.951881</td>\n",
       "      <td>2473.653418</td>\n",
       "      <td>2480.434807</td>\n",
       "      <td>236396.550964</td>\n",
       "    </tr>\n",
       "  </tbody>\n",
       "</table>\n",
       "</div>"
      ],
      "text/plain": [
       "   Hour  Pct_change_open         Open         High          Low        Close  \\\n",
       "0     0         0.078405  2480.727828  2495.993387  2463.575165  2479.307211   \n",
       "1     1        -0.046587  2479.299441  2489.112114  2468.620930  2479.577758   \n",
       "2     2         0.018169  2479.696062  2487.805832  2470.926309  2479.734508   \n",
       "3     3         0.008489  2479.738733  2486.634154  2472.360385  2479.596177   \n",
       "4     4         0.003947  2480.721879  2487.869113  2473.348817  2480.630816   \n",
       "5     5        -0.000142  2480.719832  2488.209279  2473.519914  2481.294133   \n",
       "6     6         0.020722  2481.293319  2487.951881  2473.653418  2480.434807   \n",
       "\n",
       "          Volume  \n",
       "0  378954.323288  \n",
       "1  191860.638356  \n",
       "2  150853.452055  \n",
       "3  125698.041096  \n",
       "4  130146.732782  \n",
       "5  151899.837466  \n",
       "6  236396.550964  "
      ]
     },
     "execution_count": 31,
     "metadata": {},
     "output_type": "execute_result"
    }
   ],
   "source": [
    "# Using SELECT we are identifying the columns we would like to pick from the dataframe\n",
    "# Then we are calculating the average of the columns that we want and storing then with a name using AS\n",
    "# FROM is used to specify the dataframe\n",
    "# GROUP BY will group our data according to the argument passed in\n",
    "query = \"\"\"SELECT Hour, AVG(Pct_change_open) AS Pct_change_open, AVG(Open) AS Open, AVG(High) AS High,\n",
    "          AVG(Low) as Low, AVG(Close) AS Close, AVG(Volume) as Volume\n",
    "          FROM hourly_GOOGL GROUP BY Hour\"\"\"\n",
    "          \n",
    "psql.sqldf(query, locals())"
   ]
  },
  {
   "cell_type": "markdown",
   "metadata": {},
   "source": [
    "Now that we have finished processing our data, we can move onto the next step of the data science pipeline to Visualization. \n",
    "\n",
    "### 5. Visualization\n",
    "We will now plot our data and try to identify trends using both raw and averaged data. In order to plot our findings, we can use many libraries like seaborn, matplotlib, plotly, etc. Here, I will demonstrate using two of the above libraries, matplotlib and seaborn."
   ]
  },
  {
   "cell_type": "code",
   "execution_count": null,
   "metadata": {},
   "outputs": [],
   "source": []
  }
 ],
 "metadata": {
  "interpreter": {
   "hash": "3fc60d7bf1340bb4956adbf53f74f3850f6401f711c9bb9ce1f59ffe0424dab6"
  },
  "kernelspec": {
   "display_name": "Python 3.8.12 ('CMSC320')",
   "language": "python",
   "name": "python3"
  },
  "language_info": {
   "codemirror_mode": {
    "name": "ipython",
    "version": 3
   },
   "file_extension": ".py",
   "mimetype": "text/x-python",
   "name": "python",
   "nbconvert_exporter": "python",
   "pygments_lexer": "ipython3",
   "version": "3.8.12"
  },
  "orig_nbformat": 4
 },
 "nbformat": 4,
 "nbformat_minor": 2
}
