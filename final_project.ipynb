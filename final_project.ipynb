{
 "cells": [
  {
   "cell_type": "markdown",
   "metadata": {},
   "source": [
    "# Stock Market Analysis\n",
    "##### Shubham Mittal - CMSC320 Final Project Tutorial\n",
    "\n",
    "### 1. Introduction\n",
    "Interest in the stock market has been increasing especially after the introduction of more user friendly trading apps such as Robinhood. Financial data has also started becoming more accessible in part fueling this increase. The pandemic shook the global economy and the market experienced a lot of volatility. As a result, at the beginning of the pandemic, people started [moving away](https://www.statista.com/topics/7856/covid-19-and-investment-behavior-worldwide/#dossierKeyfigures) from the stock market to more low risk investments. However, as the pandemic has continued, a [new surge of people](https://www.cnbc.com/2021/04/08/a-large-chunk-of-the-retail-investing-crowd-got-their-start-during-the-pandemic-schwab-survey-shows.html) have started coming back to the stock market. \n",
    "\n",
    "Data analysis of the stock market can help traders and investors make decisions about buying and selling securities and gain an edge in the market. In this tutorial, I will analyze stock market data in different intervals to identify intraday, monthly, and yearly trends. Then we will use machine learning to also verify and predict trends. These trends could help identify periods of time that may be more lucrative for trading (a certain time of day or a certain month of a year) allowing investors to make better trading decisions. This tutorial will also help you gain a better understanding of the data science pipeline and hopefully allow you to analyze stock market data for your own purposes. \n",
    "\n",
    "The data science pipeline in this tutorial will consist of the following steps:\n",
    "- Data Collection\n",
    "- Data Cleaning & Processing\n",
    "- Visualization\n",
    "- Analysis & Hypothesis Testing\n",
    "- Conclusions & Insights\n",
    "\n",
    "### 2. Required Tools\n",
    "In order to understand this tutorial and follow along, you will need to have a basic understanding of Python. [Click here](https://developers.google.com/edu/python/?hl=en) for a quick refresher of python. We will be using Python 3.8 in this tutorial and the following libraries: \n",
    "- [Pandas](https://pandas.pydata.org/docs/getting_started/install.html)\n",
    "- [NumPy](https://numpy.org/install/)\n",
    "- [yfinance](https://pypi.org/project/yfinance/) \n",
    "- [datetime](https://pypi.org/project/DateTime/)\n",
    "- [pandassql](https://pypi.org/project/pandasql/)\n",
    "- [pandas_ta](https://pypi.org/project/pandas-ta/)\n",
    "- [seaborn](https://pypi.org/project/seaborn/)\n",
    "- [matplotlib](https://pypi.org/project/matplotlib/)\n",
    "\n",
    "Pandas and NumPy will be useful to manipulate and store our data. We will be getting financial data from Yahoo Finance using the yfinance library. There are also other services to obtain stock data such as the [Bloomberg Finance API](https://www.bloomberg.com/professional/product/server-api/?bbgsum-page=DG-WS-PROF-BLOG-POST-126213&tactic-page=529917) and [Quandl](https://demo.quandl.com/) and you may choose to use any of them if you prefer. \n",
    "\n",
    "All of the above libraries can be installed using pip (which is recommended) but the links provide more detailed information on downloading for specific OS's. Succesful execution of the cell below should import all the necessary libraries required for the rest of this tutorial. "
   ]
  },
  {
   "cell_type": "code",
   "execution_count": 1,
   "metadata": {},
   "outputs": [],
   "source": [
    "# Importing dependencies for purposes as defined above\n",
    "import datetime\n",
    "import pandas as pd\n",
    "import numpy as np\n",
    "import yfinance as yfin\n",
    "import pandasql as psql\n",
    "import pandas_ta as ta\n",
    "import seaborn as sns\n",
    "import plotly.graph_objects as plotly\n",
    "import matplotlib.pyplot as plt\n",
    "from fastai.tabular.core import add_datepart\n",
    "from sklearn.linear_model import LinearRegression\n",
    "from sklearn import neighbors\n",
    "from sklearn.model_selection import GridSearchCV\n",
    "from sklearn.preprocessing import MinMaxScaler"
   ]
  },
  {
   "cell_type": "markdown",
   "metadata": {},
   "source": [
    "### 3. Data Collection\n",
    "\n",
    "The first step of the data science pipeline is to obtain the data, in this case using the yfinance library. For the purposes of this tutorial, we will be analyzing two tickers, Google (GOOGL) and the S&P 500 index (^GSPC). Google is a major technological company and the S&P 500 or the Standard and Poor's 500 is an index tracking the performance of the 500 large companies listed on stock exchanges in the United States (Google being on of them).\n",
    "\n",
    "We will be collecting data for the above two tickers in three intervals, hourly, daily, and monthly to analyze trends across different time periods. We will be collecting data from To get started, we can simply use the yfinance library's download function to obtain the necessary data. The function can take multiple parameters which can help us specify how we want the data presented. Some of the main ones are: \n",
    "- tickers (list or string): list for multiple tickers and string for a singular ticker\n",
    "- start (string): start date in the format YYYY-MM-DD\n",
    "- end (string): end date in the format YYYY-MM-DD\n",
    "- period (string): can be used instead of start and end to get a period of the most recent data (Example: 1y)\n",
    "- interval (string): specify the interval data is provided in. Valid intervals: 1m (1 minute), 1h (1 hour), 1d (1 day), 1mo (1 month)\n",
    "- progress (boolean): True means a progress bar of obtaining data will be shown and False means it will not\n",
    "- auto_adjust (boolean): True means data will adjust all OHLC automatically and account for things like stock split while False will not\n",
    "\n",
    "To learn more about the options the yfinance library provides us with, [click here](https://pypi.org/project/yfinance/)"
   ]
  },
  {
   "cell_type": "code",
   "execution_count": 2,
   "metadata": {},
   "outputs": [],
   "source": [
    "# Obtaining hourly, daily, and monthly data for GOOGL for the past year\n",
    "hourly_GOOGL = yfin.download(\"GOOGL\", period=\"365d\", interval=\"1h\", progress=False, auto_adjust=True)\n",
    "daily_GOOGL = yfin.download(\"GOOGL\", period=\"5y\", interval=\"1d\", progress=False, auto_adjust=True)\n",
    "monthly_GOOGL = yfin.download(\"GOOGL\", period=\"5y\", interval=\"1mo\", progress=False, auto_adjust=True)\n",
    "\n",
    "# Obtaining hourly, daily, and monthly data for S&P 500 for the past year\n",
    "hourly_GSPC = yfin.download(\"^GSPC\", period=\"365d\", interval=\"1h\", progress=False, auto_adjust=True)\n",
    "daily_GSPC = yfin.download(\"^GSPC\", period=\"5y\", interval=\"1d\", progress=False, auto_adjust=True)\n",
    "monthly_GSPC = yfin.download(\"^GSPC\", period=\"5y\", interval=\"1mo\", progress=False, auto_adjust=True)"
   ]
  },
  {
   "cell_type": "markdown",
   "metadata": {},
   "source": [
    "We have now obtained hourly data for the past year along with daily and monthly data for the past 5 years. This should be enough information for us to conduct our analysis and identify trends. Make sure to pay special attention to the values you input for parameters to ensure you are receiving data as expected.\n",
    "\n",
    "Next, let's take a look at what the data we have collected looks like. "
   ]
  },
  {
   "cell_type": "code",
   "execution_count": 3,
   "metadata": {},
   "outputs": [
    {
     "data": {
      "text/html": [
       "<div>\n",
       "<style scoped>\n",
       "    .dataframe tbody tr th:only-of-type {\n",
       "        vertical-align: middle;\n",
       "    }\n",
       "\n",
       "    .dataframe tbody tr th {\n",
       "        vertical-align: top;\n",
       "    }\n",
       "\n",
       "    .dataframe thead th {\n",
       "        text-align: right;\n",
       "    }\n",
       "</style>\n",
       "<table border=\"1\" class=\"dataframe\">\n",
       "  <thead>\n",
       "    <tr style=\"text-align: right;\">\n",
       "      <th></th>\n",
       "      <th>Open</th>\n",
       "      <th>High</th>\n",
       "      <th>Low</th>\n",
       "      <th>Close</th>\n",
       "      <th>Volume</th>\n",
       "    </tr>\n",
       "  </thead>\n",
       "  <tbody>\n",
       "    <tr>\n",
       "      <th>2020-12-01 09:30:00-05:00</th>\n",
       "      <td>1766.655029</td>\n",
       "      <td>1793.790039</td>\n",
       "      <td>1763.030029</td>\n",
       "      <td>1789.224976</td>\n",
       "      <td>445093</td>\n",
       "    </tr>\n",
       "    <tr>\n",
       "      <th>2020-12-01 10:30:00-05:00</th>\n",
       "      <td>1789.430054</td>\n",
       "      <td>1791.739990</td>\n",
       "      <td>1780.500000</td>\n",
       "      <td>1790.864990</td>\n",
       "      <td>141089</td>\n",
       "    </tr>\n",
       "    <tr>\n",
       "      <th>2020-12-01 11:30:00-05:00</th>\n",
       "      <td>1792.000000</td>\n",
       "      <td>1814.199951</td>\n",
       "      <td>1789.000000</td>\n",
       "      <td>1814.000000</td>\n",
       "      <td>310843</td>\n",
       "    </tr>\n",
       "    <tr>\n",
       "      <th>2020-12-01 12:30:00-05:00</th>\n",
       "      <td>1813.935059</td>\n",
       "      <td>1821.719849</td>\n",
       "      <td>1804.410034</td>\n",
       "      <td>1812.880005</td>\n",
       "      <td>228071</td>\n",
       "    </tr>\n",
       "    <tr>\n",
       "      <th>2020-12-01 13:30:00-05:00</th>\n",
       "      <td>1812.400024</td>\n",
       "      <td>1813.550049</td>\n",
       "      <td>1805.344971</td>\n",
       "      <td>1806.035034</td>\n",
       "      <td>88176</td>\n",
       "    </tr>\n",
       "  </tbody>\n",
       "</table>\n",
       "</div>"
      ],
      "text/plain": [
       "                                  Open         High          Low        Close  \\\n",
       "2020-12-01 09:30:00-05:00  1766.655029  1793.790039  1763.030029  1789.224976   \n",
       "2020-12-01 10:30:00-05:00  1789.430054  1791.739990  1780.500000  1790.864990   \n",
       "2020-12-01 11:30:00-05:00  1792.000000  1814.199951  1789.000000  1814.000000   \n",
       "2020-12-01 12:30:00-05:00  1813.935059  1821.719849  1804.410034  1812.880005   \n",
       "2020-12-01 13:30:00-05:00  1812.400024  1813.550049  1805.344971  1806.035034   \n",
       "\n",
       "                           Volume  \n",
       "2020-12-01 09:30:00-05:00  445093  \n",
       "2020-12-01 10:30:00-05:00  141089  \n",
       "2020-12-01 11:30:00-05:00  310843  \n",
       "2020-12-01 12:30:00-05:00  228071  \n",
       "2020-12-01 13:30:00-05:00   88176  "
      ]
     },
     "execution_count": 3,
     "metadata": {},
     "output_type": "execute_result"
    }
   ],
   "source": [
    "hourly_GOOGL.head(5)"
   ]
  },
  {
   "cell_type": "code",
   "execution_count": 4,
   "metadata": {},
   "outputs": [
    {
     "data": {
      "text/html": [
       "<div>\n",
       "<style scoped>\n",
       "    .dataframe tbody tr th:only-of-type {\n",
       "        vertical-align: middle;\n",
       "    }\n",
       "\n",
       "    .dataframe tbody tr th {\n",
       "        vertical-align: top;\n",
       "    }\n",
       "\n",
       "    .dataframe thead th {\n",
       "        text-align: right;\n",
       "    }\n",
       "</style>\n",
       "<table border=\"1\" class=\"dataframe\">\n",
       "  <thead>\n",
       "    <tr style=\"text-align: right;\">\n",
       "      <th></th>\n",
       "      <th>Open</th>\n",
       "      <th>High</th>\n",
       "      <th>Low</th>\n",
       "      <th>Close</th>\n",
       "      <th>Volume</th>\n",
       "    </tr>\n",
       "    <tr>\n",
       "      <th>Date</th>\n",
       "      <th></th>\n",
       "      <th></th>\n",
       "      <th></th>\n",
       "      <th></th>\n",
       "      <th></th>\n",
       "    </tr>\n",
       "  </thead>\n",
       "  <tbody>\n",
       "    <tr>\n",
       "      <th>2017-05-15</th>\n",
       "      <td>955.289978</td>\n",
       "      <td>962.700012</td>\n",
       "      <td>952.820007</td>\n",
       "      <td>959.219971</td>\n",
       "      <td>1337700</td>\n",
       "    </tr>\n",
       "    <tr>\n",
       "      <th>2017-05-16</th>\n",
       "      <td>963.549988</td>\n",
       "      <td>965.900024</td>\n",
       "      <td>960.349976</td>\n",
       "      <td>964.609985</td>\n",
       "      <td>1101500</td>\n",
       "    </tr>\n",
       "    <tr>\n",
       "      <th>2017-05-17</th>\n",
       "      <td>959.700012</td>\n",
       "      <td>960.989990</td>\n",
       "      <td>940.059998</td>\n",
       "      <td>942.169983</td>\n",
       "      <td>2449100</td>\n",
       "    </tr>\n",
       "    <tr>\n",
       "      <th>2017-05-18</th>\n",
       "      <td>943.200012</td>\n",
       "      <td>954.179993</td>\n",
       "      <td>941.270020</td>\n",
       "      <td>950.500000</td>\n",
       "      <td>1800500</td>\n",
       "    </tr>\n",
       "    <tr>\n",
       "      <th>2017-05-19</th>\n",
       "      <td>952.820007</td>\n",
       "      <td>959.559998</td>\n",
       "      <td>952.000000</td>\n",
       "      <td>954.650024</td>\n",
       "      <td>1360300</td>\n",
       "    </tr>\n",
       "  </tbody>\n",
       "</table>\n",
       "</div>"
      ],
      "text/plain": [
       "                  Open        High         Low       Close   Volume\n",
       "Date                                                               \n",
       "2017-05-15  955.289978  962.700012  952.820007  959.219971  1337700\n",
       "2017-05-16  963.549988  965.900024  960.349976  964.609985  1101500\n",
       "2017-05-17  959.700012  960.989990  940.059998  942.169983  2449100\n",
       "2017-05-18  943.200012  954.179993  941.270020  950.500000  1800500\n",
       "2017-05-19  952.820007  959.559998  952.000000  954.650024  1360300"
      ]
     },
     "execution_count": 4,
     "metadata": {},
     "output_type": "execute_result"
    }
   ],
   "source": [
    "daily_GOOGL.head(5)"
   ]
  },
  {
   "cell_type": "code",
   "execution_count": 5,
   "metadata": {},
   "outputs": [
    {
     "data": {
      "text/html": [
       "<div>\n",
       "<style scoped>\n",
       "    .dataframe tbody tr th:only-of-type {\n",
       "        vertical-align: middle;\n",
       "    }\n",
       "\n",
       "    .dataframe tbody tr th {\n",
       "        vertical-align: top;\n",
       "    }\n",
       "\n",
       "    .dataframe thead th {\n",
       "        text-align: right;\n",
       "    }\n",
       "</style>\n",
       "<table border=\"1\" class=\"dataframe\">\n",
       "  <thead>\n",
       "    <tr style=\"text-align: right;\">\n",
       "      <th></th>\n",
       "      <th>Open</th>\n",
       "      <th>High</th>\n",
       "      <th>Low</th>\n",
       "      <th>Close</th>\n",
       "      <th>Volume</th>\n",
       "    </tr>\n",
       "    <tr>\n",
       "      <th>Date</th>\n",
       "      <th></th>\n",
       "      <th></th>\n",
       "      <th></th>\n",
       "      <th></th>\n",
       "      <th></th>\n",
       "    </tr>\n",
       "  </thead>\n",
       "  <tbody>\n",
       "    <tr>\n",
       "      <th>2017-06-01</th>\n",
       "      <td>990.960022</td>\n",
       "      <td>1008.609985</td>\n",
       "      <td>929.599976</td>\n",
       "      <td>929.679993</td>\n",
       "      <td>44085300</td>\n",
       "    </tr>\n",
       "    <tr>\n",
       "      <th>2017-07-01</th>\n",
       "      <td>933.219971</td>\n",
       "      <td>1006.190002</td>\n",
       "      <td>915.309998</td>\n",
       "      <td>945.500000</td>\n",
       "      <td>41908600</td>\n",
       "    </tr>\n",
       "    <tr>\n",
       "      <th>2017-08-01</th>\n",
       "      <td>947.809998</td>\n",
       "      <td>957.200012</td>\n",
       "      <td>918.599976</td>\n",
       "      <td>955.239990</td>\n",
       "      <td>32846200</td>\n",
       "    </tr>\n",
       "    <tr>\n",
       "      <th>2017-09-01</th>\n",
       "      <td>957.469971</td>\n",
       "      <td>975.809998</td>\n",
       "      <td>924.510010</td>\n",
       "      <td>973.719971</td>\n",
       "      <td>29626200</td>\n",
       "    </tr>\n",
       "    <tr>\n",
       "      <th>2017-10-01</th>\n",
       "      <td>975.650024</td>\n",
       "      <td>1063.619995</td>\n",
       "      <td>961.950012</td>\n",
       "      <td>1033.040039</td>\n",
       "      <td>36853800</td>\n",
       "    </tr>\n",
       "  </tbody>\n",
       "</table>\n",
       "</div>"
      ],
      "text/plain": [
       "                  Open         High         Low        Close    Volume\n",
       "Date                                                                  \n",
       "2017-06-01  990.960022  1008.609985  929.599976   929.679993  44085300\n",
       "2017-07-01  933.219971  1006.190002  915.309998   945.500000  41908600\n",
       "2017-08-01  947.809998   957.200012  918.599976   955.239990  32846200\n",
       "2017-09-01  957.469971   975.809998  924.510010   973.719971  29626200\n",
       "2017-10-01  975.650024  1063.619995  961.950012  1033.040039  36853800"
      ]
     },
     "execution_count": 5,
     "metadata": {},
     "output_type": "execute_result"
    }
   ],
   "source": [
    "monthly_GOOGL.head(5)"
   ]
  },
  {
   "cell_type": "markdown",
   "metadata": {},
   "source": [
    "From the above dataframes we can note a couple of things. All of our dataframes are indexed using the date or date and time (for the hourly dataframes). We can also notice in the daily_GOOGL dataframe, the data for 2017-05-13 and 2017-05-14 is missing. Missing values in the data obtained could be due to a number of reasons including holidays, the market closed early, or data is simply missing and was not recorded.\n",
    "\n",
    "By looking at the data, we are able to identify different aspects that we will need to modify and process for easier analysis in further steps. All of this occurs in the second step of the data science pipeline, data cleaning and processing.\n",
    "\n",
    "### 4. Data Cleaning & Processing\n",
    "As identified above, there are a couple of steps we need to take before we will be able to analyze our data for trends. First, we will get rid of any null or missing values in our data as they will not be useful in analysis. Second, we will remove indexing by date and rename all columns for standardization of data. Third, we will label our dataframes with the hour of the day, day of the week, and month of the year for the hourly, daily, and monthly dataframes respectively. \n",
    "\n",
    "Once we have processed and cleaned our dataframes for easier readability and analysis, we will modify them with other features such as percent change since open to give us a better sense of how the stock prices change over time. We will also compute averages for all of the data points as with so many raw data points, visualization will not provide us with actionable information and seeing trends will be much harder. "
   ]
  },
  {
   "cell_type": "code",
   "execution_count": 6,
   "metadata": {},
   "outputs": [],
   "source": [
    "# Removing null values from our dataframes \n",
    "hourly_GOOGL = hourly_GOOGL.dropna()\n",
    "daily_GOOGL = daily_GOOGL.dropna()\n",
    "monthly_GOOGL = monthly_GOOGL.dropna()\n",
    "\n",
    "hourly_GSPC = hourly_GSPC.dropna()\n",
    "daily_GSPC = daily_GSPC.dropna()\n",
    "monthly_GSPC = monthly_GSPC.dropna()"
   ]
  },
  {
   "cell_type": "markdown",
   "metadata": {},
   "source": [
    "Next, we will resent indices and relabel the columns"
   ]
  },
  {
   "cell_type": "code",
   "execution_count": 7,
   "metadata": {},
   "outputs": [],
   "source": [
    "# Resetting index to remove indexing by date\n",
    "hourly_GOOGL = hourly_GOOGL.reset_index()\n",
    "daily_GOOGL = daily_GOOGL.reset_index()\n",
    "monthly_GOOGL = monthly_GOOGL.reset_index()\n",
    "\n",
    "hourly_GSPC = hourly_GSPC.reset_index()\n",
    "daily_GSPC = daily_GSPC.reset_index()\n",
    "monthly_GSPC = monthly_GSPC.reset_index()\n",
    "\n",
    "# Renaming Columns for standardization across dataframes\n",
    "hourly_GOOGL.columns = [\"Date\", \"Open\", \"High\", \"Low\", \"Close\", \"Volume\"]\n",
    "daily_GOOGL.columns = [\"Date\", \"Open\", \"High\", \"Low\", \"Close\", \"Volume\"]\n",
    "monthly_GOOGL.columns = [\"Date\", \"Open\", \"High\", \"Low\", \"Close\", \"Volume\"]\n",
    "\n",
    "hourly_GSPC.columns = [\"Date\", \"Open\", \"High\", \"Low\", \"Close\", \"Volume\"]\n",
    "daily_GSPC.columns = [\"Date\", \"Open\", \"High\", \"Low\", \"Close\", \"Volume\"]\n",
    "monthly_GSPC.columns = [\"Date\", \"Open\", \"High\", \"Low\", \"Close\", \"Volume\"]"
   ]
  },
  {
   "cell_type": "markdown",
   "metadata": {},
   "source": [
    "Now we will define three functions that will help us label our dataframes by the hour, weekday, and month"
   ]
  },
  {
   "cell_type": "code",
   "execution_count": 8,
   "metadata": {},
   "outputs": [],
   "source": [
    "# function that will label a dataframe by hour\n",
    "def label_by_hour(df):\n",
    "  # Will hold the labels for hours, should have values from 0 (for 9:30 am), 1 (10:30am), ..., to 6 (3:30 pm)\n",
    "  hours = []\n",
    "  # First hour already put into array \n",
    "  hour = 0\n",
    "  hours.append(hour)\n",
    "  # Start iterating from the first row of the dataframe\n",
    "  for i in range(1, len(df)):\n",
    "    # If we are in the same day, increment hour, otherwise rest hour\n",
    "    if (df.loc[i]['Date'].weekday() == df.loc[i-1]['Date'].weekday()):\n",
    "      hour += 1\n",
    "      hours.append(hour)\n",
    "    else:\n",
    "      hour = 0\n",
    "      hours.append(hour)  \n",
    "      \n",
    "  # Appending the hour label array to the dataframe and returning a new dataframe\n",
    "  df.insert(1, \"Hour\", hours)\n",
    "  return df"
   ]
  },
  {
   "cell_type": "code",
   "execution_count": 9,
   "metadata": {},
   "outputs": [],
   "source": [
    "# function that will label a dataframe by weekday\n",
    "def label_by_weekday(df):\n",
    "  # Will hold the labels for days, should have values from 0 (Monday), 1 (Tuesday), ..., 4 (Friday)\n",
    "  # Note, the stock market is not open on weekends\n",
    "  days = []\n",
    "  # Iterate through the dataframe to get the weekdays and append to the days label array\n",
    "  for i in range(0, len(df)):\n",
    "    days.append(df.loc[i][\"Date\"].weekday())\n",
    "      \n",
    "  # Appending the days label array to the dataframe and returning a new dataframe\n",
    "  df.insert(1, \"Weekday\", days)\n",
    "  return df\n",
    "  "
   ]
  },
  {
   "cell_type": "code",
   "execution_count": 10,
   "metadata": {},
   "outputs": [],
   "source": [
    "# function that will label a dataframe by month\n",
    "def label_by_month(df):\n",
    "  # Will hold the labels for months, should have values from 0 (January), 1 (February), ..., 12 (December)\n",
    "  months = []\n",
    "  # Iterate through the dataframe to get the months and append to the months label array\n",
    "  for i in range(0, len(df)):\n",
    "    months.append(df.loc[i][\"Date\"].month)\n",
    "      \n",
    "  # Appending the month label array to the dataframe and returning a new dataframe\n",
    "  df.insert(1, \"Month\", months)\n",
    "  return df\n",
    "  "
   ]
  },
  {
   "cell_type": "markdown",
   "metadata": {},
   "source": [
    "Now that we have defined functions for labelling our dataframes, we can go ahead and use them to label our stock data. After doing so, we should also verify that there were no errors while labelling our data. "
   ]
  },
  {
   "cell_type": "code",
   "execution_count": 11,
   "metadata": {},
   "outputs": [],
   "source": [
    "hourly_GOOGL = label_by_hour(hourly_GOOGL)\n",
    "hourly_GSPC = label_by_hour(hourly_GSPC)"
   ]
  },
  {
   "cell_type": "markdown",
   "metadata": {},
   "source": [
    "Next, let's verify that labelling by hour was appropriately done"
   ]
  },
  {
   "cell_type": "code",
   "execution_count": 12,
   "metadata": {},
   "outputs": [
    {
     "name": "stdout",
     "output_type": "stream",
     "text": [
      "[0 1 2 3 4 5 6 7]\n",
      "[0 1 2 3 4 5 6 7]\n"
     ]
    }
   ],
   "source": [
    "print(hourly_GOOGL[\"Hour\"].unique())\n",
    "print(hourly_GSPC[\"Hour\"].unique())"
   ]
  },
  {
   "cell_type": "markdown",
   "metadata": {},
   "source": [
    "Here, for both dataframes we notice a value of 7 which should not be present as the stock market is only open for the 6 hours. To see why this may be happening, let's further examine our dataframes. "
   ]
  },
  {
   "cell_type": "code",
   "execution_count": 13,
   "metadata": {},
   "outputs": [
    {
     "data": {
      "text/html": [
       "<div>\n",
       "<style scoped>\n",
       "    .dataframe tbody tr th:only-of-type {\n",
       "        vertical-align: middle;\n",
       "    }\n",
       "\n",
       "    .dataframe tbody tr th {\n",
       "        vertical-align: top;\n",
       "    }\n",
       "\n",
       "    .dataframe thead th {\n",
       "        text-align: right;\n",
       "    }\n",
       "</style>\n",
       "<table border=\"1\" class=\"dataframe\">\n",
       "  <thead>\n",
       "    <tr style=\"text-align: right;\">\n",
       "      <th></th>\n",
       "      <th>Date</th>\n",
       "      <th>Hour</th>\n",
       "      <th>Open</th>\n",
       "      <th>High</th>\n",
       "      <th>Low</th>\n",
       "      <th>Close</th>\n",
       "      <th>Volume</th>\n",
       "    </tr>\n",
       "  </thead>\n",
       "  <tbody>\n",
       "    <tr>\n",
       "      <th>2545</th>\n",
       "      <td>2022-05-12 12:30:00-04:00</td>\n",
       "      <td>3</td>\n",
       "      <td>2250.679932</td>\n",
       "      <td>2271.139893</td>\n",
       "      <td>2218.090088</td>\n",
       "      <td>2221.760010</td>\n",
       "      <td>196244</td>\n",
       "    </tr>\n",
       "    <tr>\n",
       "      <th>2546</th>\n",
       "      <td>2022-05-12 13:30:00-04:00</td>\n",
       "      <td>4</td>\n",
       "      <td>2221.677979</td>\n",
       "      <td>2225.000000</td>\n",
       "      <td>2196.489990</td>\n",
       "      <td>2219.270020</td>\n",
       "      <td>355929</td>\n",
       "    </tr>\n",
       "    <tr>\n",
       "      <th>2547</th>\n",
       "      <td>2022-05-12 14:30:00-04:00</td>\n",
       "      <td>5</td>\n",
       "      <td>2217.929932</td>\n",
       "      <td>2244.979980</td>\n",
       "      <td>2200.280762</td>\n",
       "      <td>2230.250000</td>\n",
       "      <td>301607</td>\n",
       "    </tr>\n",
       "    <tr>\n",
       "      <th>2548</th>\n",
       "      <td>2022-05-12 15:30:00-04:00</td>\n",
       "      <td>6</td>\n",
       "      <td>2231.310059</td>\n",
       "      <td>2259.479980</td>\n",
       "      <td>2230.969971</td>\n",
       "      <td>2257.520020</td>\n",
       "      <td>365665</td>\n",
       "    </tr>\n",
       "    <tr>\n",
       "      <th>2549</th>\n",
       "      <td>2022-05-12 16:00:00-04:00</td>\n",
       "      <td>7</td>\n",
       "      <td>2256.879883</td>\n",
       "      <td>2256.879883</td>\n",
       "      <td>2256.879883</td>\n",
       "      <td>2256.879883</td>\n",
       "      <td>0</td>\n",
       "    </tr>\n",
       "  </tbody>\n",
       "</table>\n",
       "</div>"
      ],
      "text/plain": [
       "                          Date  Hour         Open         High          Low  \\\n",
       "2545 2022-05-12 12:30:00-04:00     3  2250.679932  2271.139893  2218.090088   \n",
       "2546 2022-05-12 13:30:00-04:00     4  2221.677979  2225.000000  2196.489990   \n",
       "2547 2022-05-12 14:30:00-04:00     5  2217.929932  2244.979980  2200.280762   \n",
       "2548 2022-05-12 15:30:00-04:00     6  2231.310059  2259.479980  2230.969971   \n",
       "2549 2022-05-12 16:00:00-04:00     7  2256.879883  2256.879883  2256.879883   \n",
       "\n",
       "            Close  Volume  \n",
       "2545  2221.760010  196244  \n",
       "2546  2219.270020  355929  \n",
       "2547  2230.250000  301607  \n",
       "2548  2257.520020  365665  \n",
       "2549  2256.879883       0  "
      ]
     },
     "execution_count": 13,
     "metadata": {},
     "output_type": "execute_result"
    }
   ],
   "source": [
    "hourly_GOOGL.tail(5)"
   ]
  },
  {
   "cell_type": "markdown",
   "metadata": {},
   "source": [
    "As we can see, the last row collected data for the end of the day at 4pm. We should also notice that the volume in that row is 0. This looks like an erroneous entry, so we will remove the row from our GOOGL dataframe before moving forward with processing our data. We will do the same for the GSPC dataframe. "
   ]
  },
  {
   "cell_type": "code",
   "execution_count": 14,
   "metadata": {},
   "outputs": [],
   "source": [
    "hourly_GOOGL = hourly_GOOGL.drop(hourly_GOOGL.index[-1])\n",
    "hourly_GSPC = hourly_GSPC.drop(hourly_GSPC.index[-1])"
   ]
  },
  {
   "cell_type": "markdown",
   "metadata": {},
   "source": [
    "Next, we will label our daily and monthly dataframes"
   ]
  },
  {
   "cell_type": "code",
   "execution_count": 15,
   "metadata": {},
   "outputs": [],
   "source": [
    "daily_GOOGL = label_by_weekday(daily_GOOGL)\n",
    "daily_GSPC = label_by_weekday(daily_GSPC)"
   ]
  },
  {
   "cell_type": "markdown",
   "metadata": {},
   "source": [
    "Again, let's verify that our labelling was appropriately done. "
   ]
  },
  {
   "cell_type": "code",
   "execution_count": 16,
   "metadata": {},
   "outputs": [
    {
     "name": "stdout",
     "output_type": "stream",
     "text": [
      "[0 1 2 3 4]\n",
      "[0 1 2 3 4]\n"
     ]
    }
   ],
   "source": [
    "print(daily_GOOGL[\"Weekday\"].unique())\n",
    "print(daily_GSPC[\"Weekday\"].unique())"
   ]
  },
  {
   "cell_type": "markdown",
   "metadata": {},
   "source": [
    "In this case, looks like the labels were appropriately assigned. Lastly, we will label our monthly dataframes"
   ]
  },
  {
   "cell_type": "code",
   "execution_count": 17,
   "metadata": {},
   "outputs": [],
   "source": [
    "monthly_GOOGL = label_by_month(monthly_GOOGL)\n",
    "monthly_GSPC = label_by_month(monthly_GSPC)"
   ]
  },
  {
   "cell_type": "markdown",
   "metadata": {},
   "source": [
    "Again, let's verify that the labelling was appropriately done. "
   ]
  },
  {
   "cell_type": "code",
   "execution_count": 18,
   "metadata": {},
   "outputs": [
    {
     "name": "stdout",
     "output_type": "stream",
     "text": [
      "[ 6  7  8  9 10 11 12  1  2  3  4  5]\n",
      "[ 6  7  8  9 10 11 12  1  2  3  4  5]\n"
     ]
    }
   ],
   "source": [
    "print(monthly_GOOGL[\"Month\"].unique())\n",
    "print(monthly_GSPC[\"Month\"].unique())"
   ]
  },
  {
   "cell_type": "markdown",
   "metadata": {},
   "source": [
    "Now that we have processed, cleaned, and labelled our dataframes, we can move forward with modifying them with other information that would be helpful in understanding the data such as percent change since open. "
   ]
  },
  {
   "cell_type": "code",
   "execution_count": 19,
   "metadata": {},
   "outputs": [],
   "source": [
    "# Calculating percent change since open for the hourly dataframes\n",
    "\n",
    "# Arrays to hold pct_change, will be appended to dataframe\n",
    "pct_change_GOOGL = []\n",
    "pct_change_GSPC = []\n",
    "\n",
    "# Providing initial values based on difference between opening and closing prices\n",
    "pct_change_GOOGL.append(((hourly_GOOGL.loc[0][\"Close\"] - hourly_GOOGL.loc[0][\"Open\"])/hourly_GOOGL.loc[0][\"Open\"])*100)\n",
    "pct_change_GSPC.append(((hourly_GSPC.loc[0][\"Close\"] - hourly_GSPC.loc[0][\"Open\"])/hourly_GSPC.loc[0][\"Open\"])*100)\n",
    "\n",
    "# Calculating percent change and appending to array for GOOGL\n",
    "for i in range(1, len(hourly_GOOGL)):\n",
    "  change = ((hourly_GOOGL.loc[i][\"Open\"] - hourly_GOOGL.loc[i-1][\"Open\"])/hourly_GOOGL.loc[i-1][\"Open\"])*100\n",
    "  pct_change_GOOGL.append(change)\n",
    "  \n",
    "# Calculating percent change and appending to array for GSPC\n",
    "for i in range(1, len(hourly_GSPC)):\n",
    "  change = ((hourly_GSPC.loc[i][\"Open\"] - hourly_GSPC.loc[i-1][\"Open\"])/hourly_GSPC.loc[i-1][\"Open\"])*100\n",
    "  pct_change_GSPC.append(change)\n",
    "  \n",
    "hourly_GOOGL.insert(0, \"Pct_change_open\", pct_change_GOOGL)\n",
    "hourly_GSPC.insert(0, \"Pct_change_open\", pct_change_GSPC)"
   ]
  },
  {
   "cell_type": "code",
   "execution_count": 20,
   "metadata": {},
   "outputs": [],
   "source": [
    "# Calculating percent change since open for the daily dataframes\n",
    "\n",
    "# Arrays to hold pct_change, will be appended to dataframe\n",
    "pct_change_GOOGL = []\n",
    "pct_change_GSPC = []\n",
    "\n",
    "# Providing initial values based on difference between opening and closing prices\n",
    "pct_change_GOOGL.append(((daily_GOOGL.loc[0][\"Close\"] - daily_GOOGL.loc[0][\"Open\"])/daily_GOOGL.loc[0][\"Open\"])*100)\n",
    "pct_change_GSPC.append(((daily_GSPC.loc[0][\"Close\"] - daily_GSPC.loc[0][\"Open\"])/daily_GSPC.loc[0][\"Open\"])*100)\n",
    "\n",
    "# Calculating percent change and appending to array for GOOGL\n",
    "for i in range(1, len(daily_GOOGL)):\n",
    "  change = ((daily_GOOGL.loc[i][\"Open\"] - daily_GOOGL.loc[i-1][\"Open\"])/daily_GOOGL.loc[i-1][\"Open\"])*100\n",
    "  pct_change_GOOGL.append(change)\n",
    "  \n",
    "# Calculating percent change and appending to array for GSPC\n",
    "for i in range(1, len(daily_GSPC)):\n",
    "  change = ((daily_GSPC.loc[i][\"Open\"] - daily_GSPC.loc[i-1][\"Open\"])/daily_GSPC.loc[i-1][\"Open\"])*100\n",
    "  pct_change_GSPC.append(change)\n",
    "  \n",
    "daily_GOOGL.insert(0, \"Pct_change_open\", pct_change_GOOGL)\n",
    "daily_GSPC.insert(0, \"Pct_change_open\", pct_change_GSPC)"
   ]
  },
  {
   "cell_type": "code",
   "execution_count": 21,
   "metadata": {},
   "outputs": [],
   "source": [
    "# Calculating percent change since open for the monthly dataframes\n",
    "\n",
    "# Arrays to hold pct_change, will be appended to dataframe\n",
    "pct_change_GOOGL = []\n",
    "pct_change_GSPC = []\n",
    "\n",
    "# Providing initial values based on difference between opening and closing prices\n",
    "pct_change_GOOGL.append(((monthly_GOOGL.loc[0][\"Close\"] - monthly_GOOGL.loc[0][\"Open\"])/monthly_GOOGL.loc[0][\"Open\"])*100)\n",
    "pct_change_GSPC.append(((monthly_GSPC.loc[0][\"Close\"] - monthly_GSPC.loc[0][\"Open\"])/monthly_GSPC.loc[0][\"Open\"])*100)\n",
    "\n",
    "# Calculating percent change and appending to array for GOOGL\n",
    "for i in range(1, len(monthly_GOOGL)):\n",
    "  change = ((monthly_GOOGL.loc[i][\"Open\"] - monthly_GOOGL.loc[i-1][\"Open\"])/monthly_GOOGL.loc[i-1][\"Open\"])*100\n",
    "  pct_change_GOOGL.append(change)\n",
    "  \n",
    "# Calculating percent change and appending to array for GSPC\n",
    "for i in range(1, len(monthly_GSPC)):\n",
    "  change = ((monthly_GSPC.loc[i][\"Open\"] - monthly_GSPC.loc[i-1][\"Open\"])/monthly_GSPC.loc[i-1][\"Open\"])*100\n",
    "  pct_change_GSPC.append(change)\n",
    "  \n",
    "monthly_GOOGL.insert(0, \"Pct_change_open\", pct_change_GOOGL)\n",
    "monthly_GSPC.insert(0, \"Pct_change_open\", pct_change_GSPC)"
   ]
  },
  {
   "cell_type": "markdown",
   "metadata": {},
   "source": [
    "Now that we have calculated percent change since open for all of our dataframes, we can go ahead and calculate averages for all the columns in each dataframe. We will want to group this by the labels we had created previously (Hour for hourly dataframes, Weekday for weekly dataframes, and Month for monthly dataframes).\n",
    "\n",
    "After doing this, we should expect to see 7 groupings for the hourly dataframes (0 - 6 hours), 5 groupings for weekdays (1 - 5), and 12 groupings for months (1-12)."
   ]
  },
  {
   "cell_type": "code",
   "execution_count": 22,
   "metadata": {},
   "outputs": [],
   "source": [
    "# Here, we are using the groupby method to create the groups using the Hour column and then calculating the mean for each group\n",
    "# Using groupby indexes the dataframe by the parameter so we will also reset_index \n",
    "avg_hourly_GOOGL = hourly_GOOGL.groupby('Hour').mean().reset_index()\n",
    "avg_daily_GOOGL = daily_GOOGL.groupby('Weekday').mean().reset_index()\n",
    "avg_monthly_GOOGL = monthly_GOOGL.groupby('Month').mean().reset_index()\n",
    "\n",
    "avg_hourly_GSPC = hourly_GSPC.groupby('Hour').mean().reset_index()\n",
    "avg_daily_GSPC = daily_GSPC.groupby('Weekday').mean().reset_index()\n",
    "avg_monthly_GSPC = monthly_GSPC.groupby('Month').mean().reset_index()"
   ]
  },
  {
   "cell_type": "markdown",
   "metadata": {},
   "source": [
    "Above we used the groupby method to help average our data. Another way to do this is by using SQL queries. I will demonstrate an example below but we will continue using our averages from above for the rest of the tutorial. "
   ]
  },
  {
   "cell_type": "code",
   "execution_count": 23,
   "metadata": {},
   "outputs": [
    {
     "data": {
      "text/html": [
       "<div>\n",
       "<style scoped>\n",
       "    .dataframe tbody tr th:only-of-type {\n",
       "        vertical-align: middle;\n",
       "    }\n",
       "\n",
       "    .dataframe tbody tr th {\n",
       "        vertical-align: top;\n",
       "    }\n",
       "\n",
       "    .dataframe thead th {\n",
       "        text-align: right;\n",
       "    }\n",
       "</style>\n",
       "<table border=\"1\" class=\"dataframe\">\n",
       "  <thead>\n",
       "    <tr style=\"text-align: right;\">\n",
       "      <th></th>\n",
       "      <th>Hour</th>\n",
       "      <th>Pct_change_open</th>\n",
       "      <th>Open</th>\n",
       "      <th>High</th>\n",
       "      <th>Low</th>\n",
       "      <th>Close</th>\n",
       "      <th>Volume</th>\n",
       "    </tr>\n",
       "  </thead>\n",
       "  <tbody>\n",
       "    <tr>\n",
       "      <th>0</th>\n",
       "      <td>0</td>\n",
       "      <td>0.075128</td>\n",
       "      <td>2481.963554</td>\n",
       "      <td>2497.335195</td>\n",
       "      <td>2464.846781</td>\n",
       "      <td>2480.666691</td>\n",
       "      <td>380203.504110</td>\n",
       "    </tr>\n",
       "    <tr>\n",
       "      <th>1</th>\n",
       "      <td>1</td>\n",
       "      <td>-0.039892</td>\n",
       "      <td>2480.672317</td>\n",
       "      <td>2490.551511</td>\n",
       "      <td>2469.989396</td>\n",
       "      <td>2480.989032</td>\n",
       "      <td>192234.726027</td>\n",
       "    </tr>\n",
       "    <tr>\n",
       "      <th>2</th>\n",
       "      <td>2</td>\n",
       "      <td>0.020445</td>\n",
       "      <td>2481.115212</td>\n",
       "      <td>2489.222941</td>\n",
       "      <td>2472.243734</td>\n",
       "      <td>2481.083924</td>\n",
       "      <td>151187.942466</td>\n",
       "    </tr>\n",
       "    <tr>\n",
       "      <th>3</th>\n",
       "      <td>3</td>\n",
       "      <td>0.005807</td>\n",
       "      <td>2481.098390</td>\n",
       "      <td>2488.048537</td>\n",
       "      <td>2473.643221</td>\n",
       "      <td>2480.885684</td>\n",
       "      <td>125951.005479</td>\n",
       "    </tr>\n",
       "    <tr>\n",
       "      <th>4</th>\n",
       "      <td>4</td>\n",
       "      <td>0.001023</td>\n",
       "      <td>2482.020110</td>\n",
       "      <td>2489.162088</td>\n",
       "      <td>2474.582205</td>\n",
       "      <td>2481.910210</td>\n",
       "      <td>130841.170799</td>\n",
       "    </tr>\n",
       "    <tr>\n",
       "      <th>5</th>\n",
       "      <td>5</td>\n",
       "      <td>-0.001479</td>\n",
       "      <td>2481.992477</td>\n",
       "      <td>2489.545367</td>\n",
       "      <td>2474.752946</td>\n",
       "      <td>2482.609725</td>\n",
       "      <td>152354.785124</td>\n",
       "    </tr>\n",
       "    <tr>\n",
       "      <th>6</th>\n",
       "      <td>6</td>\n",
       "      <td>0.022779</td>\n",
       "      <td>2482.609766</td>\n",
       "      <td>2489.333341</td>\n",
       "      <td>2474.984355</td>\n",
       "      <td>2481.815523</td>\n",
       "      <td>236595.790634</td>\n",
       "    </tr>\n",
       "  </tbody>\n",
       "</table>\n",
       "</div>"
      ],
      "text/plain": [
       "   Hour  Pct_change_open         Open         High          Low        Close  \\\n",
       "0     0         0.075128  2481.963554  2497.335195  2464.846781  2480.666691   \n",
       "1     1        -0.039892  2480.672317  2490.551511  2469.989396  2480.989032   \n",
       "2     2         0.020445  2481.115212  2489.222941  2472.243734  2481.083924   \n",
       "3     3         0.005807  2481.098390  2488.048537  2473.643221  2480.885684   \n",
       "4     4         0.001023  2482.020110  2489.162088  2474.582205  2481.910210   \n",
       "5     5        -0.001479  2481.992477  2489.545367  2474.752946  2482.609725   \n",
       "6     6         0.022779  2482.609766  2489.333341  2474.984355  2481.815523   \n",
       "\n",
       "          Volume  \n",
       "0  380203.504110  \n",
       "1  192234.726027  \n",
       "2  151187.942466  \n",
       "3  125951.005479  \n",
       "4  130841.170799  \n",
       "5  152354.785124  \n",
       "6  236595.790634  "
      ]
     },
     "execution_count": 23,
     "metadata": {},
     "output_type": "execute_result"
    }
   ],
   "source": [
    "# Using SELECT we are identifying the columns we would like to pick from the dataframe\n",
    "# Then we are calculating the average of the columns that we want and storing then with a name using AS\n",
    "# FROM is used to specify the dataframe\n",
    "# GROUP BY will group our data according to the argument passed in\n",
    "query = \"\"\"SELECT Hour, AVG(Pct_change_open) AS Pct_change_open, AVG(Open) AS Open, AVG(High) AS High,\n",
    "          AVG(Low) as Low, AVG(Close) AS Close, AVG(Volume) as Volume\n",
    "          FROM hourly_GOOGL GROUP BY Hour\"\"\"\n",
    "          \n",
    "psql.sqldf(query, locals())"
   ]
  },
  {
   "cell_type": "markdown",
   "metadata": {},
   "source": [
    "Now that we have finished processing our data, we can move onto the next step of the data science pipeline to Visualization. \n",
    "\n",
    "### 5. Visualization\n",
    "We will now plot our data and try to identify trends using both raw and averaged data. In order to plot our findings, we can use many libraries like seaborn, matplotlib, plotly, ggplot, etc. In this tutorial, we will utilize three of the above libraries to visualize our data, matplotlib, seaborn, and plotly.\n",
    "\n",
    "Let's plot some of the metrics over time. First, we'll start by plotting the raw data and then move to using our averaged values to be able to identify trends better. Some metrics we will be examining are stock volume, percent change since open, and closing price. Then we will also look at moving averages and see what information they give us about our stocks. \n",
    "\n",
    "First let's make a scatter plot of our opening prices by hour."
   ]
  },
  {
   "cell_type": "code",
   "execution_count": 24,
   "metadata": {},
   "outputs": [
    {
     "data": {
      "image/png": "[encoded data removed]",
      "text/plain": [
       "<Figure size 432x288 with 1 Axes>"
      ]
     },
     "metadata": {
      "needs_background": "light"
     },
     "output_type": "display_data"
    }
   ],
   "source": [
    "# Plotting the hour on the x-axis and the volume on the y-axis\n",
    "plt.scatter(hourly_GOOGL['Hour'], hourly_GOOGL['Volume'])\n",
    "plt.xlabel(\"Hour (0 = 9:30 am, 6 = 3:30pm)\")\n",
    "plt.ylabel(\"Volume\")\n",
    "plt.title(\"Volume per hour - GOOGLE\")\n",
    "\n",
    "# Just picking ticklabel formatting settings, other options include \"scientific\"\n",
    "plt.ticklabel_format(style='plain')\n",
    "plt.show()"
   ]
  },
  {
   "cell_type": "markdown",
   "metadata": {},
   "source": [
    "As we can see, there are too many datapoints to identify important trends. However, we are able to see that there is less deviation in volume midday (3 = 12:30pm) indicating the least amount of volatility.\n",
    "\n",
    "Now let's use our averaged values and plot them over time to see what other trends we can identify. This time, we'll use the seaborn library. We will be creating two figures with 3 plots each, one figure for GOOGL and one for ^GSPC.\n",
    "\n",
    "##### Volume of Stocks"
   ]
  },
  {
   "cell_type": "code",
   "execution_count": 25,
   "metadata": {},
   "outputs": [
    {
     "data": {
      "image/png": "[encoded data removed]",
      "text/plain": [
       "<Figure size 1440x360 with 3 Axes>"
      ]
     },
     "metadata": {
      "needs_background": "light"
     },
     "output_type": "display_data"
    }
   ],
   "source": [
    "# Plotting GOOGL data\n",
    "\n",
    "# Creating the subplots\n",
    "fig, axes = plt.subplots(1, 3, figsize=(20, 5))\n",
    "fig.suptitle(\"Average Volume Over Time for GOOGL\")\n",
    "\n",
    "# First subplot for hourly data\n",
    "sns.barplot(ax=axes[0], x=avg_hourly_GOOGL[\"Hour\"], y=avg_hourly_GOOGL[\"Volume\"])\n",
    "axes[0].set_title(\"Hourly\")\n",
    "axes[0].set(xlabel = \"Hour (0 = 9:30 am, 6 = 3:30pm)\")\n",
    "\n",
    "# Second subplot for daily data\n",
    "sns.barplot(ax=axes[1], x=avg_daily_GOOGL[\"Weekday\"], y=avg_daily_GOOGL[\"Volume\"])\n",
    "axes[1].set_title(\"Daily\")\n",
    "axes[1].set(xlabel = \"Day (0 = Monday, 4 = Friday)\", ylabel=\"Volume (in Millions)\")\n",
    "\n",
    "# Third subplot for monthly\n",
    "sns.barplot(ax=axes[2], x=avg_monthly_GOOGL[\"Month\"], y=avg_monthly_GOOGL[\"Volume\"])\n",
    "axes[2].set_title(\"Monthly\")\n",
    "axes[2].set(xlabel = \"Month (1 = January, 12 = December)\", ylabel=\"Volume (in Tens of Millions)\")\n",
    "\n",
    "plt.show()"
   ]
  },
  {
   "cell_type": "code",
   "execution_count": 26,
   "metadata": {},
   "outputs": [
    {
     "data": {
      "image/png": "[encoded data removed]",
      "text/plain": [
       "<Figure size 1440x360 with 3 Axes>"
      ]
     },
     "metadata": {
      "needs_background": "light"
     },
     "output_type": "display_data"
    }
   ],
   "source": [
    "# Plotting ^GSPC data\n",
    "\n",
    "# Creating the subplots\n",
    "fig, axes = plt.subplots(1, 3, figsize=(20, 5))\n",
    "fig.suptitle(\"Average Volume Over Time for ^GSPC\")\n",
    "\n",
    "# First subplot for hourly data\n",
    "sns.barplot(ax=axes[0], x=avg_hourly_GSPC[\"Hour\"], y=avg_hourly_GSPC[\"Volume\"])\n",
    "axes[0].set_title(\"Hourly\")\n",
    "axes[0].set(xlabel = \"Hour (0 = 9:30 am, 6 = 3:30pm)\")\n",
    "\n",
    "# Second subplot for daily data\n",
    "sns.barplot(ax=axes[1], x=avg_daily_GSPC[\"Weekday\"], y=avg_daily_GSPC[\"Volume\"])\n",
    "axes[1].set_title(\"Daily\")\n",
    "axes[1].set(xlabel = \"Day (0 = Monday, 4 = Friday)\", ylabel=\"Volume (in Millions)\")\n",
    "\n",
    "# Third subplot for monthly\n",
    "sns.barplot(ax=axes[2], x=avg_monthly_GSPC[\"Month\"], y=avg_monthly_GSPC[\"Volume\"])\n",
    "axes[2].set_title(\"Monthly\")\n",
    "axes[2].set(xlabel = \"Month (1 = January, 12 = December)\", ylabel=\"Volume (in Tens of Millions)\")\n",
    "\n",
    "plt.show()"
   ]
  },
  {
   "cell_type": "markdown",
   "metadata": {},
   "source": [
    "Awesome! These graphs allow us to see some trends in how the volume changes over time. This can help us understand time periods when stock is less or more volatile. Next let's see how percent change since open changes over time.\n",
    "\n",
    "##### Percent Change Since Open"
   ]
  },
  {
   "cell_type": "code",
   "execution_count": 27,
   "metadata": {},
   "outputs": [
    {
     "data": {
      "image/png": "[encoded data removed]",
      "text/plain": [
       "<Figure size 1440x360 with 3 Axes>"
      ]
     },
     "metadata": {
      "needs_background": "light"
     },
     "output_type": "display_data"
    }
   ],
   "source": [
    "# Plotting GOOGL data\n",
    "\n",
    "# Creating the subplots\n",
    "fig, axes = plt.subplots(1, 3, figsize=(20, 5))\n",
    "fig.suptitle(\"Average Percent Change Since Open Over Time for GOOGL\")\n",
    "\n",
    "# First subplot for hourly data\n",
    "sns.barplot(ax=axes[0], x=avg_hourly_GOOGL[\"Hour\"], y=avg_hourly_GOOGL[\"Pct_change_open\"])\n",
    "axes[0].set_title(\"Hourly\")\n",
    "axes[0].set(xlabel = \"Hour (0 = 9:30 am, 6 = 3:30pm)\", ylabel= \"Percent Change Since Open (%)\")\n",
    "\n",
    "# Second subplot for daily data\n",
    "sns.barplot(ax=axes[1], x=avg_daily_GOOGL[\"Weekday\"], y=avg_daily_GOOGL[\"Pct_change_open\"])\n",
    "axes[1].set_title(\"Daily\")\n",
    "axes[1].set(xlabel = \"Day (0 = Monday, 4 = Friday)\", ylabel=\"Percent Change Since Open (%)\")\n",
    "\n",
    "# Third subplot for monthly\n",
    "sns.barplot(ax=axes[2], x=avg_monthly_GOOGL[\"Month\"], y=avg_monthly_GOOGL[\"Pct_change_open\"])\n",
    "axes[2].set_title(\"Monthly\")\n",
    "axes[2].set(xlabel = \"Month (1 = January, 12 = December)\", ylabel=\"Percent Change Since Open (%)\")\n",
    "\n",
    "plt.show()"
   ]
  },
  {
   "cell_type": "code",
   "execution_count": 28,
   "metadata": {},
   "outputs": [
    {
     "data": {
      "image/png": "[encoded data removed]",
      "text/plain": [
       "<Figure size 1440x360 with 3 Axes>"
      ]
     },
     "metadata": {
      "needs_background": "light"
     },
     "output_type": "display_data"
    }
   ],
   "source": [
    "# Plotting ^GSPC data\n",
    "\n",
    "# Creating the subplots\n",
    "fig, axes = plt.subplots(1, 3, figsize=(20, 5))\n",
    "fig.suptitle(\"Average Percent Change Since Open Over Time for ^GSPC\")\n",
    "\n",
    "# First subplot for hourly data\n",
    "sns.barplot(ax=axes[0], x=avg_hourly_GSPC[\"Hour\"], y=avg_hourly_GSPC[\"Pct_change_open\"])\n",
    "axes[0].set_title(\"Hourly\")\n",
    "axes[0].set(xlabel = \"Hour (0 = 9:30 am, 6 = 3:30pm)\", ylabel= \"Percent Change Since Open (%)\")\n",
    "\n",
    "# Second subplot for daily data\n",
    "sns.barplot(ax=axes[1], x=avg_daily_GSPC[\"Weekday\"], y=avg_daily_GSPC[\"Pct_change_open\"])\n",
    "axes[1].set_title(\"Daily\")\n",
    "axes[1].set(xlabel = \"Day (0 = Monday, 4 = Friday)\", ylabel=\"Percent Change Since Open (%)\")\n",
    "\n",
    "# Third subplot for monthly\n",
    "sns.barplot(ax=axes[2], x=avg_monthly_GSPC[\"Month\"], y=avg_monthly_GSPC[\"Pct_change_open\"])\n",
    "axes[2].set_title(\"Monthly\")\n",
    "axes[2].set(xlabel = \"Month (1 = January, 12 = December)\", ylabel=\"Percent Change Since Open (%)\")\n",
    "\n",
    "plt.show()"
   ]
  },
  {
   "cell_type": "markdown",
   "metadata": {},
   "source": [
    "We'll talk more about these graphs in the conclusion but off the bat we can notice some general trends with these graphs. For example, we see that for all time intervals, ^GSPC rises in price mid-day/mid-week/mid-year. So a good stratergy to follow might be to buy early in the morning and sell mid day, or for longer term holding stratergies, buy at the beginning of the week/year and sell mid-week/year. \n",
    "\n",
    "##### Closing Stock Price\n"
   ]
  },
  {
   "cell_type": "code",
   "execution_count": 29,
   "metadata": {},
   "outputs": [
    {
     "data": {
      "image/png": "[encoded data removed]",
      "text/plain": [
       "<Figure size 1440x360 with 3 Axes>"
      ]
     },
     "metadata": {
      "needs_background": "light"
     },
     "output_type": "display_data"
    }
   ],
   "source": [
    "# Plotting GOOGL data\n",
    "\n",
    "# Creating the subplots\n",
    "fig, axes = plt.subplots(1, 3, figsize=(20, 5))\n",
    "fig.suptitle(\"Closing Price Over Time for GOOGL\")\n",
    "\n",
    "# First subplot for hourly data\n",
    "sns.lineplot(ax=axes[0], x=avg_hourly_GOOGL[\"Hour\"], y=avg_hourly_GOOGL[\"Close\"])\n",
    "axes[0].set_title(\"Hourly\")\n",
    "axes[0].set(xlabel = \"Hour (0 = 9:30 am, 6 = 3:30pm)\", ylabel= \"Closing Price\")\n",
    "\n",
    "# Second subplot for daily data\n",
    "sns.lineplot(ax=axes[1], x=avg_daily_GOOGL[\"Weekday\"], y=avg_daily_GOOGL[\"Close\"])\n",
    "axes[1].set_title(\"Daily\")\n",
    "axes[1].set(xlabel = \"Day (0 = Monday, 4 = Friday)\", ylabel=\"Closing Price\")\n",
    "\n",
    "# Third subplot for monthly\n",
    "sns.lineplot(ax=axes[2], x=avg_monthly_GOOGL[\"Month\"], y=avg_monthly_GOOGL[\"Close\"])\n",
    "axes[2].set_title(\"Monthly\")\n",
    "axes[2].set(xlabel = \"Month (1 = January, 12 = December)\", ylabel=\"Closing Price\")\n",
    "\n",
    "plt.show()"
   ]
  },
  {
   "cell_type": "code",
   "execution_count": 30,
   "metadata": {},
   "outputs": [
    {
     "data": {
      "image/png": "[encoded data removed]",
      "text/plain": [
       "<Figure size 1440x360 with 3 Axes>"
      ]
     },
     "metadata": {
      "needs_background": "light"
     },
     "output_type": "display_data"
    }
   ],
   "source": [
    "# Plotting ^GSPC data\n",
    "\n",
    "# Creating the subplots\n",
    "fig, axes = plt.subplots(1, 3, figsize=(20, 5))\n",
    "fig.suptitle(\"Closing Price Over Time for ^GSPC\")\n",
    "\n",
    "# First subplot for hourly data\n",
    "sns.lineplot(ax=axes[0], x=avg_hourly_GSPC[\"Hour\"], y=avg_hourly_GSPC[\"Close\"])\n",
    "axes[0].set_title(\"Hourly\")\n",
    "axes[0].set(xlabel = \"Hour (0 = 9:30 am, 6 = 3:30pm)\", ylabel= \"Closing Price\")\n",
    "\n",
    "# Second subplot for daily data\n",
    "sns.lineplot(ax=axes[1], x=avg_daily_GSPC[\"Weekday\"], y=avg_daily_GSPC[\"Close\"])\n",
    "axes[1].set_title(\"Daily\")\n",
    "axes[1].set(xlabel = \"Day (0 = Monday, 4 = Friday)\", ylabel=\"Closing Price\")\n",
    "\n",
    "# Third subplot for monthly\n",
    "sns.lineplot(ax=axes[2], x=avg_monthly_GSPC[\"Month\"], y=avg_monthly_GSPC[\"Close\"])\n",
    "axes[2].set_title(\"Monthly\")\n",
    "axes[2].set(xlabel = \"Month (1 = January, 12 = December)\", ylabel=\"Closing Price\")\n",
    "\n",
    "plt.show()"
   ]
  },
  {
   "cell_type": "markdown",
   "metadata": {},
   "source": [
    "Now let's take a look at moving averages and what they show us. To calculate and plot moving averages, we will use the pandas_ta and plotly libraries. We will be calculating 5, 10, and 20 day moving averages and as such will use the daily data for both stocks. Additionally, we will also plot a smaller period of time so we can better visualize the moving day averages. "
   ]
  },
  {
   "cell_type": "code",
   "execution_count": 31,
   "metadata": {},
   "outputs": [
    {
     "data": {
      "application/vnd.plotly.v1+json": {
       "config": {
        "plotlyServerURL": "https://plot.ly"
       },
       "data": [
        {
         "close": [
          2973.56005859375,
          2969.0400390625,
          2957.52001953125,
          2960.93994140625,
          2996.77001953125,
          2978.530029296875,
          2926.0400390625,
          2915.639892578125,
          2922.39990234375,
          2843.659912109375,
          2910.610107421875,
          2837.949951171875,
          2821.030029296875,
          2859.320068359375,
          2840.030029296875,
          2863.10009765625,
          2945.389892578125,
          2963.72998046875,
          2952.77001953125,
          2960.030029296875,
          2916.530029296875,
          2878.139892578125,
          2928.820068359375,
          2888.89990234375,
          2834.5,
          2832.139892578125,
          2869.449951171875,
          2928.300048828125,
          2938.330078125,
          2958.1298828125,
          2933.739990234375,
          2933.10009765625,
          2924.010009765625,
          2897.0400390625,
          2899.830078125,
          2887.989990234375,
          2755.5,
          2754.949951171875,
          2740.340087890625,
          2773.389892578125,
          2794.719970703125,
          2828.610107421875,
          2771.739990234375,
          2789.610107421875,
          2719.9599609375,
          2702.330078125,
          2666.14990234375,
          2607.030029296875,
          2616.080078125,
          2538.699951171875,
          2584.659912109375,
          2580.10009765625,
          2667.02001953125,
          2706.070068359375,
          2752.8798828125,
          2960,
          2861.800048828125,
          2865.860107421875,
          2784.02001953125,
          2787.97998046875,
          2831.840087890625,
          2772.39990234375,
          2685.64990234375,
          2710.52001953125,
          2732.169921875,
          2754.760009765625,
          2650.780029296875,
          2608.06005859375,
          2596.27001953125,
          2551.760009765625,
          2653.820068359375,
          2689.18994140625,
          2701.139892578125,
          2681.22998046875,
          2691.429931640625,
          2677.989990234375,
          2638.1298828125,
          2527.570068359375,
          2542.090087890625,
          2668.39990234375,
          2648.590087890625,
          2597.409912109375,
          2519.02001953125,
          2583.9599609375,
          2665.610107421875,
          2676.780029296875,
          2722.510009765625,
          2722.030029296875,
          2797.360107421875,
          2765.510009765625,
          2831.43994140625,
          2833.4599609375,
          2829.110107421875,
          2850.110107421875,
          2838.77001953125,
          2781.35009765625,
          2803.010009765625,
          2859.429931640625,
          2811.820068359375,
          2730.9599609375,
          2717.77001953125,
          2665.75,
          2576.469970703125,
          2554.2900390625,
          2597.8798828125,
          2534.60009765625,
          2553.530029296875,
          2600.179931640625,
          2560.800048828125,
          2496.2900390625,
          2392.7099609375,
          2461.47998046875,
          2373,
          2285.889892578125,
          2370.449951171875,
          2282.18994140625,
          2331.659912109375,
          2346.679931640625,
          2445.219970703125,
          2330.110107421875,
          2314.929931640625,
          2250.219970703125,
          2287.89990234375,
          2272.050048828125,
          2256.8798828125
         ],
         "decreasing": {
          "line": {
           "color": "#ff0000"
          }
         },
         "high": [
          2977,
          2990.989990234375,
          2975.25,
          2971.18994140625,
          3011.610107421875,
          3019.330078125,
          2996.590087890625,
          2933.199951171875,
          2924.989990234375,
          2891.14990234375,
          2925.949951171875,
          2920,
          2919.010009765625,
          2877.2900390625,
          2888,
          2877.050048828125,
          2950.6201171875,
          2967.860107421875,
          2982,
          2979.550048828125,
          2959.39990234375,
          2889.60009765625,
          2934.419921875,
          2953.5400390625,
          2876.68994140625,
          2835.489990234375,
          2877.3798828125,
          2930,
          2964.8701171875,
          2966.8798828125,
          2965.97998046875,
          2948.340087890625,
          2946,
          2933.969970703125,
          2917.02001953125,
          2929.699951171875,
          2889.989990234375,
          2798.800048828125,
          2768.969970703125,
          2776.389892578125,
          2804.320068359375,
          2852.159912109375,
          2857,
          2814.840087890625,
          2742.6298828125,
          2759.18994140625,
          2752.52001953125,
          2697.31005859375,
          2624.06005859375,
          2587.97998046875,
          2660,
          2653.050048828125,
          2667.1298828125,
          2709.4599609375,
          2755.860107421875,
          3030.929931640625,
          2993.5,
          2897.5,
          2885,
          2800,
          2850.489990234375,
          2829.68994140625,
          2783.1298828125,
          2726,
          2762.169921875,
          2761.719970703125,
          2742.27001953125,
          2681.39990234375,
          2643.610107421875,
          2641.02001953125,
          2660,
          2705.429931640625,
          2715.030029296875,
          2725.110107421875,
          2705.25,
          2728.7900390625,
          2677.030029296875,
          2634.699951171875,
          2625,
          2674.7099609375,
          2665.43994140625,
          2675.909912109375,
          2608.179931640625,
          2597.090087890625,
          2666.659912109375,
          2681.610107421875,
          2724.8798828125,
          2741,
          2821,
          2791.77001953125,
          2832.3798828125,
          2840.699951171875,
          2840.050048828125,
          2875.8701171875,
          2854.409912109375,
          2842.159912109375,
          2809.419921875,
          2874.239990234375,
          2859.81005859375,
          2787.2099609375,
          2743.2900390625,
          2713.39990234375,
          2641.85009765625,
          2632,
          2606.679931640625,
          2609.590087890625,
          2564.25,
          2606.659912109375,
          2627.97998046875,
          2601.969970703125,
          2508.0400390625,
          2465.550048828125,
          2450.199951171875,
          2344.840087890625,
          2392.989990234375,
          2358.39990234375,
          2334.909912109375,
          2368.840087890625,
          2457.090087890625,
          2420.780029296875,
          2351.429931640625,
          2301.5400390625,
          2325,
          2327.2900390625,
          2285.89990234375
         ],
         "increasing": {
          "line": {
           "color": "#00cc00"
          }
         },
         "low": [
          2908.219970703125,
          2951.5,
          2946.25,
          2944.800048828125,
          2957.68994140625,
          2977.97998046875,
          2922.949951171875,
          2882.300048828125,
          2887.4599609375,
          2836.85009765625,
          2877.8701171875,
          2832.030029296875,
          2818.239990234375,
          2804.2900390625,
          2806.02001953125,
          2803,
          2904.550048828125,
          2928.1201171875,
          2942.300048828125,
          2934.080078125,
          2910.35009765625,
          2824.300048828125,
          2833.56005859375,
          2872.139892578125,
          2826,
          2786.419921875,
          2810.050048828125,
          2861.35009765625,
          2929.0400390625,
          2943.389892578125,
          2921.090087890625,
          2912.949951171875,
          2919.889892578125,
          2897.0400390625,
          2874.260009765625,
          2874.330078125,
          2753.760009765625,
          2731.169921875,
          2715.330078125,
          2663.2900390625,
          2733.85009765625,
          2813.889892578125,
          2768.179931640625,
          2739.969970703125,
          2708.77001953125,
          2700.31005859375,
          2659.2900390625,
          2601.72998046875,
          2490,
          2530.010009765625,
          2542.840087890625,
          2578.64990234375,
          2569.699951171875,
          2644.18994140625,
          2687.3701171875,
          2910.449951171875,
          2853.31005859375,
          2810.300048828125,
          2778,
          2740.280029296875,
          2803.739990234375,
          2759.139892578125,
          2668,
          2665.1298828125,
          2716.429931640625,
          2698.47998046875,
          2649.570068359375,
          2603.929931640625,
          2564.469970703125,
          2550.550048828125,
          2499.070068359375,
          2635.030029296875,
          2651.85009765625,
          2664.3701171875,
          2661.429931640625,
          2660.510009765625,
          2606.75,
          2525.89990234375,
          2513.489990234375,
          2598.010009765625,
          2618.25,
          2592.6298828125,
          2505.5,
          2514.409912109375,
          2574.68994140625,
          2643.699951171875,
          2645.169921875,
          2681.85009765625,
          2722.030029296875,
          2756.699951171875,
          2755.010009765625,
          2794.75,
          2796.22998046875,
          2840.77001953125,
          2832,
          2780.489990234375,
          2766.14990234375,
          2806.2099609375,
          2807.64990234375,
          2710.340087890625,
          2684.550048828125,
          2659.31005859375,
          2573.3701171875,
          2535.780029296875,
          2554.820068359375,
          2532.02001953125,
          2523.639892578125,
          2539.989990234375,
          2550,
          2490.530029296875,
          2378.5,
          2370.219970703125,
          2370.219970703125,
          2254.72998046875,
          2282.300048828125,
          2276.2900390625,
          2252,
          2320.68994140625,
          2302.320068359375,
          2300.110107421875,
          2280.31005859375,
          2240.010009765625,
          2258.010009765625,
          2264.72998046875,
          2196.489990234375
         ],
         "open": [
          2932.31005859375,
          2978.010009765625,
          2962.989990234375,
          2960.550048828125,
          2964.830078125,
          2999.510009765625,
          2986.64990234375,
          2923.06005859375,
          2909.469970703125,
          2886.969970703125,
          2880,
          2900.169921875,
          2880,
          2825,
          2873.6201171875,
          2860.81005859375,
          2911.929931640625,
          2951.929931640625,
          2951.820068359375,
          2974,
          2955.6298828125,
          2879.360107421875,
          2868.179931640625,
          2943.409912109375,
          2850,
          2800,
          2841.070068359375,
          2861.35009765625,
          2930,
          2945.1201171875,
          2964.719970703125,
          2932.889892578125,
          2933.8798828125,
          2921,
          2901.10009765625,
          2907.919921875,
          2888.39990234375,
          2739.969970703125,
          2762.909912109375,
          2701.56005859375,
          2760.139892578125,
          2823,
          2830.800048828125,
          2741.580078125,
          2723.5,
          2730.469970703125,
          2725,
          2651.8701171875,
          2519.56005859375,
          2574.800048828125,
          2622.3798828125,
          2626.080078125,
          2593.179931640625,
          2683.239990234375,
          2751.889892578125,
          3025,
          2914.110107421875,
          2868.889892578125,
          2885,
          2780.530029296875,
          2819.27001953125,
          2794.070068359375,
          2772,
          2665.1298828125,
          2751.409912109375,
          2732.929931640625,
          2724.860107421875,
          2669.340087890625,
          2596.760009765625,
          2632.969970703125,
          2499.070068359375,
          2671.0400390625,
          2661,
          2697.570068359375,
          2692.56005859375,
          2720.199951171875,
          2658.550048828125,
          2629.760009765625,
          2525,
          2625,
          2625.320068359375,
          2669.77001953125,
          2605,
          2539.52001953125,
          2614.659912109375,
          2662.97998046875,
          2668.489990234375,
          2723.27001953125,
          2722.030029296875,
          2774.050048828125,
          2784,
          2838.320068359375,
          2818.010009765625,
          2852.949951171875,
          2849.199951171875,
          2841.06005859375,
          2790,
          2807.169921875,
          2857.3798828125,
          2775,
          2720.199951171875,
          2711.669921875,
          2636.469970703125,
          2632,
          2560,
          2609.590087890625,
          2540,
          2553.830078125,
          2617.840087890625,
          2585,
          2500,
          2382.02001953125,
          2445.889892578125,
          2289.389892578125,
          2328.300048828125,
          2334.68994140625,
          2268.10009765625,
          2328.610107421875,
          2340.6298828125,
          2404.080078125,
          2303.68994140625,
          2265,
          2310.14990234375,
          2264.72998046875,
          2227.550048828125
         ],
         "showlegend": false,
         "type": "candlestick",
         "x": [
          "2021-11-12T00:00:00",
          "2021-11-15T00:00:00",
          "2021-11-16T00:00:00",
          "2021-11-17T00:00:00",
          "2021-11-18T00:00:00",
          "2021-11-19T00:00:00",
          "2021-11-22T00:00:00",
          "2021-11-23T00:00:00",
          "2021-11-24T00:00:00",
          "2021-11-26T00:00:00",
          "2021-11-29T00:00:00",
          "2021-11-30T00:00:00",
          "2021-12-01T00:00:00",
          "2021-12-02T00:00:00",
          "2021-12-03T00:00:00",
          "2021-12-06T00:00:00",
          "2021-12-07T00:00:00",
          "2021-12-08T00:00:00",
          "2021-12-09T00:00:00",
          "2021-12-10T00:00:00",
          "2021-12-13T00:00:00",
          "2021-12-14T00:00:00",
          "2021-12-15T00:00:00",
          "2021-12-16T00:00:00",
          "2021-12-17T00:00:00",
          "2021-12-20T00:00:00",
          "2021-12-21T00:00:00",
          "2021-12-22T00:00:00",
          "2021-12-23T00:00:00",
          "2021-12-27T00:00:00",
          "2021-12-28T00:00:00",
          "2021-12-29T00:00:00",
          "2021-12-30T00:00:00",
          "2021-12-31T00:00:00",
          "2022-01-03T00:00:00",
          "2022-01-04T00:00:00",
          "2022-01-05T00:00:00",
          "2022-01-06T00:00:00",
          "2022-01-07T00:00:00",
          "2022-01-10T00:00:00",
          "2022-01-11T00:00:00",
          "2022-01-12T00:00:00",
          "2022-01-13T00:00:00",
          "2022-01-14T00:00:00",
          "2022-01-18T00:00:00",
          "2022-01-19T00:00:00",
          "2022-01-20T00:00:00",
          "2022-01-21T00:00:00",
          "2022-01-24T00:00:00",
          "2022-01-25T00:00:00",
          "2022-01-26T00:00:00",
          "2022-01-27T00:00:00",
          "2022-01-28T00:00:00",
          "2022-01-31T00:00:00",
          "2022-02-01T00:00:00",
          "2022-02-02T00:00:00",
          "2022-02-03T00:00:00",
          "2022-02-04T00:00:00",
          "2022-02-07T00:00:00",
          "2022-02-08T00:00:00",
          "2022-02-09T00:00:00",
          "2022-02-10T00:00:00",
          "2022-02-11T00:00:00",
          "2022-02-14T00:00:00",
          "2022-02-15T00:00:00",
          "2022-02-16T00:00:00",
          "2022-02-17T00:00:00",
          "2022-02-18T00:00:00",
          "2022-02-22T00:00:00",
          "2022-02-23T00:00:00",
          "2022-02-24T00:00:00",
          "2022-02-25T00:00:00",
          "2022-02-28T00:00:00",
          "2022-03-01T00:00:00",
          "2022-03-02T00:00:00",
          "2022-03-03T00:00:00",
          "2022-03-04T00:00:00",
          "2022-03-07T00:00:00",
          "2022-03-08T00:00:00",
          "2022-03-09T00:00:00",
          "2022-03-10T00:00:00",
          "2022-03-11T00:00:00",
          "2022-03-14T00:00:00",
          "2022-03-15T00:00:00",
          "2022-03-16T00:00:00",
          "2022-03-17T00:00:00",
          "2022-03-18T00:00:00",
          "2022-03-21T00:00:00",
          "2022-03-22T00:00:00",
          "2022-03-23T00:00:00",
          "2022-03-24T00:00:00",
          "2022-03-25T00:00:00",
          "2022-03-28T00:00:00",
          "2022-03-29T00:00:00",
          "2022-03-30T00:00:00",
          "2022-03-31T00:00:00",
          "2022-04-01T00:00:00",
          "2022-04-04T00:00:00",
          "2022-04-05T00:00:00",
          "2022-04-06T00:00:00",
          "2022-04-07T00:00:00",
          "2022-04-08T00:00:00",
          "2022-04-11T00:00:00",
          "2022-04-12T00:00:00",
          "2022-04-13T00:00:00",
          "2022-04-14T00:00:00",
          "2022-04-18T00:00:00",
          "2022-04-19T00:00:00",
          "2022-04-20T00:00:00",
          "2022-04-21T00:00:00",
          "2022-04-22T00:00:00",
          "2022-04-25T00:00:00",
          "2022-04-26T00:00:00",
          "2022-04-27T00:00:00",
          "2022-04-28T00:00:00",
          "2022-04-29T00:00:00",
          "2022-05-02T00:00:00",
          "2022-05-03T00:00:00",
          "2022-05-04T00:00:00",
          "2022-05-05T00:00:00",
          "2022-05-06T00:00:00",
          "2022-05-09T00:00:00",
          "2022-05-10T00:00:00",
          "2022-05-11T00:00:00",
          "2022-05-12T00:00:00"
         ]
        },
        {
         "line": {
          "color": "#7138B6",
          "width": 2
         },
         "name": "SMA_20",
         "type": "scatter",
         "x": [
          "2021-11-12T00:00:00",
          "2021-11-15T00:00:00",
          "2021-11-16T00:00:00",
          "2021-11-17T00:00:00",
          "2021-11-18T00:00:00",
          "2021-11-19T00:00:00",
          "2021-11-22T00:00:00",
          "2021-11-23T00:00:00",
          "2021-11-24T00:00:00",
          "2021-11-26T00:00:00",
          "2021-11-29T00:00:00",
          "2021-11-30T00:00:00",
          "2021-12-01T00:00:00",
          "2021-12-02T00:00:00",
          "2021-12-03T00:00:00",
          "2021-12-06T00:00:00",
          "2021-12-07T00:00:00",
          "2021-12-08T00:00:00",
          "2021-12-09T00:00:00",
          "2021-12-10T00:00:00",
          "2021-12-13T00:00:00",
          "2021-12-14T00:00:00",
          "2021-12-15T00:00:00",
          "2021-12-16T00:00:00",
          "2021-12-17T00:00:00",
          "2021-12-20T00:00:00",
          "2021-12-21T00:00:00",
          "2021-12-22T00:00:00",
          "2021-12-23T00:00:00",
          "2021-12-27T00:00:00",
          "2021-12-28T00:00:00",
          "2021-12-29T00:00:00",
          "2021-12-30T00:00:00",
          "2021-12-31T00:00:00",
          "2022-01-03T00:00:00",
          "2022-01-04T00:00:00",
          "2022-01-05T00:00:00",
          "2022-01-06T00:00:00",
          "2022-01-07T00:00:00",
          "2022-01-10T00:00:00",
          "2022-01-11T00:00:00",
          "2022-01-12T00:00:00",
          "2022-01-13T00:00:00",
          "2022-01-14T00:00:00",
          "2022-01-18T00:00:00",
          "2022-01-19T00:00:00",
          "2022-01-20T00:00:00",
          "2022-01-21T00:00:00",
          "2022-01-24T00:00:00",
          "2022-01-25T00:00:00",
          "2022-01-26T00:00:00",
          "2022-01-27T00:00:00",
          "2022-01-28T00:00:00",
          "2022-01-31T00:00:00",
          "2022-02-01T00:00:00",
          "2022-02-02T00:00:00",
          "2022-02-03T00:00:00",
          "2022-02-04T00:00:00",
          "2022-02-07T00:00:00",
          "2022-02-08T00:00:00",
          "2022-02-09T00:00:00",
          "2022-02-10T00:00:00",
          "2022-02-11T00:00:00",
          "2022-02-14T00:00:00",
          "2022-02-15T00:00:00",
          "2022-02-16T00:00:00",
          "2022-02-17T00:00:00",
          "2022-02-18T00:00:00",
          "2022-02-22T00:00:00",
          "2022-02-23T00:00:00",
          "2022-02-24T00:00:00",
          "2022-02-25T00:00:00",
          "2022-02-28T00:00:00",
          "2022-03-01T00:00:00",
          "2022-03-02T00:00:00",
          "2022-03-03T00:00:00",
          "2022-03-04T00:00:00",
          "2022-03-07T00:00:00",
          "2022-03-08T00:00:00",
          "2022-03-09T00:00:00",
          "2022-03-10T00:00:00",
          "2022-03-11T00:00:00",
          "2022-03-14T00:00:00",
          "2022-03-15T00:00:00",
          "2022-03-16T00:00:00",
          "2022-03-17T00:00:00",
          "2022-03-18T00:00:00",
          "2022-03-21T00:00:00",
          "2022-03-22T00:00:00",
          "2022-03-23T00:00:00",
          "2022-03-24T00:00:00",
          "2022-03-25T00:00:00",
          "2022-03-28T00:00:00",
          "2022-03-29T00:00:00",
          "2022-03-30T00:00:00",
          "2022-03-31T00:00:00",
          "2022-04-01T00:00:00",
          "2022-04-04T00:00:00",
          "2022-04-05T00:00:00",
          "2022-04-06T00:00:00",
          "2022-04-07T00:00:00",
          "2022-04-08T00:00:00",
          "2022-04-11T00:00:00",
          "2022-04-12T00:00:00",
          "2022-04-13T00:00:00",
          "2022-04-14T00:00:00",
          "2022-04-18T00:00:00",
          "2022-04-19T00:00:00",
          "2022-04-20T00:00:00",
          "2022-04-21T00:00:00",
          "2022-04-22T00:00:00",
          "2022-04-25T00:00:00",
          "2022-04-26T00:00:00",
          "2022-04-27T00:00:00",
          "2022-04-28T00:00:00",
          "2022-04-29T00:00:00",
          "2022-05-02T00:00:00",
          "2022-05-03T00:00:00",
          "2022-05-04T00:00:00",
          "2022-05-05T00:00:00",
          "2022-05-06T00:00:00",
          "2022-05-09T00:00:00",
          "2022-05-10T00:00:00",
          "2022-05-11T00:00:00",
          "2022-05-12T00:00:00"
         ],
         "y": [
          2895.039013671875,
          2900.7130126953125,
          2905.352014160156,
          2911.630017089844,
          2919.58251953125,
          2930.942517089844,
          2939.7975219726563,
          2946.2710205078124,
          2946.1735107421873,
          2942.5075073242188,
          2939.9920166015627,
          2938.3925170898438,
          2934.0115234375,
          2930.379528808594,
          2924.113525390625,
          2918.4165283203124,
          2916.6550170898436,
          2915.9230102539063,
          2917.668005371094,
          2919.9030029296873,
          2917.0515014648436,
          2912.506494140625,
          2911.071496582031,
          2907.4694946289064,
          2899.355993652344,
          2892.036486816406,
          2889.206982421875,
          2889.839990234375,
          2890.6364990234374,
          2896.359997558594,
          2897.516491699219,
          2902.2739990234377,
          2907.422998046875,
          2909.3089965820313,
          2912.2989990234373,
          2913.543493652344,
          2904.0489990234373,
          2893.609997558594,
          2882.9885009765626,
          2873.656494140625,
          2867.5659912109377,
          2865.089501953125,
          2857.235498046875,
          2852.2710083007814,
          2846.5440063476562,
          2840.053515625,
          2829.8885131835937,
          2813.8250122070312,
          2797.712512207031,
          2776.741015625,
          2759.28701171875,
          2741.63701171875,
          2728.7875122070313,
          2719.239013671875,
          2711.89150390625,
          2715.4920043945312,
          2720.8070068359375,
          2726.3525146484376,
          2728.536511230469,
          2729.266015625,
          2731.122021484375,
          2728.3115112304686,
          2724.0070068359373,
          2720.0525024414064,
          2720.6630004882813,
          2723.2844970703127,
          2722.516003417969,
          2722.5675048828125,
          2721.577001953125,
          2722.2300048828124,
          2725.6880126953124,
          2731.1425048828123,
          2732.848498535156,
          2731.606494140625,
          2728.5339965820312,
          2714.43349609375,
          2703.2499877929686,
          2686.335485839844,
          2674.2389892578126,
          2668.2599853515626,
          2659.0974853515627,
          2650.3479858398437,
          2642.016491699219,
          2635.6884887695314,
          2632.360498046875,
          2628.4614990234377,
          2632.047998046875,
          2637.7464965820313,
          2647.8010009765626,
          2658.4885009765626,
          2667.369494628906,
          2674.5829956054686,
          2680.9815063476562,
          2689.4255126953126,
          2696.792517089844,
          2701.9605224609377,
          2710.2045288085938,
          2726.7975219726563,
          2740.2840209960937,
          2743.4120239257813,
          2746.8710205078123,
          2750.2880249023438,
          2753.1605224609375,
          2751.6770263671874,
          2748.2905151367186,
          2741.1815185546875,
          2732.73251953125,
          2726.6400146484375,
          2714.81201171875,
          2701.3510131835938,
          2679.414514160156,
          2660.8155151367187,
          2638.010009765625,
          2609.7989990234373,
          2586.3829956054688,
          2561.4249877929688,
          2537.8574829101562,
          2512.2199829101564,
          2493.8899780273437,
          2473.8474853515627,
          2453.7054809570313,
          2432.9289794921874,
          2418.5004760742186,
          2404.3884765625,
          2387.3384765625
         ]
        },
        {
         "line": {
          "color": "#00C2E0",
          "width": 2
         },
         "name": "SMA_10",
         "type": "scatter",
         "x": [
          "2021-11-12T00:00:00",
          "2021-11-15T00:00:00",
          "2021-11-16T00:00:00",
          "2021-11-17T00:00:00",
          "2021-11-18T00:00:00",
          "2021-11-19T00:00:00",
          "2021-11-22T00:00:00",
          "2021-11-23T00:00:00",
          "2021-11-24T00:00:00",
          "2021-11-26T00:00:00",
          "2021-11-29T00:00:00",
          "2021-11-30T00:00:00",
          "2021-12-01T00:00:00",
          "2021-12-02T00:00:00",
          "2021-12-03T00:00:00",
          "2021-12-06T00:00:00",
          "2021-12-07T00:00:00",
          "2021-12-08T00:00:00",
          "2021-12-09T00:00:00",
          "2021-12-10T00:00:00",
          "2021-12-13T00:00:00",
          "2021-12-14T00:00:00",
          "2021-12-15T00:00:00",
          "2021-12-16T00:00:00",
          "2021-12-17T00:00:00",
          "2021-12-20T00:00:00",
          "2021-12-21T00:00:00",
          "2021-12-22T00:00:00",
          "2021-12-23T00:00:00",
          "2021-12-27T00:00:00",
          "2021-12-28T00:00:00",
          "2021-12-29T00:00:00",
          "2021-12-30T00:00:00",
          "2021-12-31T00:00:00",
          "2022-01-03T00:00:00",
          "2022-01-04T00:00:00",
          "2022-01-05T00:00:00",
          "2022-01-06T00:00:00",
          "2022-01-07T00:00:00",
          "2022-01-10T00:00:00",
          "2022-01-11T00:00:00",
          "2022-01-12T00:00:00",
          "2022-01-13T00:00:00",
          "2022-01-14T00:00:00",
          "2022-01-18T00:00:00",
          "2022-01-19T00:00:00",
          "2022-01-20T00:00:00",
          "2022-01-21T00:00:00",
          "2022-01-24T00:00:00",
          "2022-01-25T00:00:00",
          "2022-01-26T00:00:00",
          "2022-01-27T00:00:00",
          "2022-01-28T00:00:00",
          "2022-01-31T00:00:00",
          "2022-02-01T00:00:00",
          "2022-02-02T00:00:00",
          "2022-02-03T00:00:00",
          "2022-02-04T00:00:00",
          "2022-02-07T00:00:00",
          "2022-02-08T00:00:00",
          "2022-02-09T00:00:00",
          "2022-02-10T00:00:00",
          "2022-02-11T00:00:00",
          "2022-02-14T00:00:00",
          "2022-02-15T00:00:00",
          "2022-02-16T00:00:00",
          "2022-02-17T00:00:00",
          "2022-02-18T00:00:00",
          "2022-02-22T00:00:00",
          "2022-02-23T00:00:00",
          "2022-02-24T00:00:00",
          "2022-02-25T00:00:00",
          "2022-02-28T00:00:00",
          "2022-03-01T00:00:00",
          "2022-03-02T00:00:00",
          "2022-03-03T00:00:00",
          "2022-03-04T00:00:00",
          "2022-03-07T00:00:00",
          "2022-03-08T00:00:00",
          "2022-03-09T00:00:00",
          "2022-03-10T00:00:00",
          "2022-03-11T00:00:00",
          "2022-03-14T00:00:00",
          "2022-03-15T00:00:00",
          "2022-03-16T00:00:00",
          "2022-03-17T00:00:00",
          "2022-03-18T00:00:00",
          "2022-03-21T00:00:00",
          "2022-03-22T00:00:00",
          "2022-03-23T00:00:00",
          "2022-03-24T00:00:00",
          "2022-03-25T00:00:00",
          "2022-03-28T00:00:00",
          "2022-03-29T00:00:00",
          "2022-03-30T00:00:00",
          "2022-03-31T00:00:00",
          "2022-04-01T00:00:00",
          "2022-04-04T00:00:00",
          "2022-04-05T00:00:00",
          "2022-04-06T00:00:00",
          "2022-04-07T00:00:00",
          "2022-04-08T00:00:00",
          "2022-04-11T00:00:00",
          "2022-04-12T00:00:00",
          "2022-04-13T00:00:00",
          "2022-04-14T00:00:00",
          "2022-04-18T00:00:00",
          "2022-04-19T00:00:00",
          "2022-04-20T00:00:00",
          "2022-04-21T00:00:00",
          "2022-04-22T00:00:00",
          "2022-04-25T00:00:00",
          "2022-04-26T00:00:00",
          "2022-04-27T00:00:00",
          "2022-04-28T00:00:00",
          "2022-04-29T00:00:00",
          "2022-05-02T00:00:00",
          "2022-05-03T00:00:00",
          "2022-05-04T00:00:00",
          "2022-05-05T00:00:00",
          "2022-05-06T00:00:00",
          "2022-05-09T00:00:00",
          "2022-05-10T00:00:00",
          "2022-05-11T00:00:00",
          "2022-05-12T00:00:00"
         ],
         "y": [
          2941.86904296875,
          2951.779052734375,
          2956.666064453125,
          2959.5640625,
          2962.7060546875,
          2962.8550537109377,
          2957.3970458984377,
          2951.1240234375,
          2951.577001953125,
          2944.4099853515627,
          2938.114990234375,
          2925.0059814453125,
          2911.356982421875,
          2901.1949951171873,
          2885.52099609375,
          2873.9780029296876,
          2875.91298828125,
          2880.7219970703127,
          2883.7590087890626,
          2895.3960205078124,
          2895.9880126953126,
          2900.0070068359373,
          2910.7860107421875,
          2913.743994140625,
          2913.1909912109377,
          2910.094970703125,
          2902.5009765625,
          2898.9579833984376,
          2897.5139892578127,
          2897.323974609375,
          2899.044970703125,
          2904.5409912109376,
          2904.0599853515623,
          2904.8739990234376,
          2911.4070068359374,
          2916.9920166015627,
          2905.597021484375,
          2888.26201171875,
          2868.4630126953125,
          2849.989013671875,
          2836.08701171875,
          2825.6380126953127,
          2810.4110107421875,
          2799.668017578125,
          2781.681005859375,
          2763.1150146484374,
          2754.1800048828127,
          2739.3880126953127,
          2726.96201171875,
          2703.493017578125,
          2682.48701171875,
          2657.6360107421874,
          2647.164013671875,
          2638.810009765625,
          2642.102001953125,
          2667.868994140625,
          2687.4340087890623,
          2713.3170166015625,
          2730.1110107421873,
          2755.039013671875,
          2779.75703125,
          2798.98701171875,
          2800.85,
          2801.2949951171877,
          2799.2239990234375,
          2778.7,
          2757.597998046875,
          2731.8179931640625,
          2713.0429931640624,
          2689.42099609375,
          2671.618994140625,
          2663.297998046875,
          2664.8469970703127,
          2661.9179931640624,
          2657.843994140625,
          2650.1669921875,
          2648.9019775390625,
          2640.852978515625,
          2635.4349853515623,
          2647.098974609375,
          2646.5759765625,
          2637.3979736328124,
          2619.185986328125,
          2609.458984375,
          2606.877001953125,
          2606.756005859375,
          2615.1940185546873,
          2634.6400146484375,
          2660.1670166015624,
          2669.87802734375,
          2688.1630126953123,
          2711.768017578125,
          2742.7770263671873,
          2769.392041015625,
          2786.7080322265624,
          2797.1650390625,
          2805.2150390625,
          2818.955029296875,
          2820.401025390625,
          2816.9460205078126,
          2805.5790283203123,
          2788.8080322265623,
          2763.5440185546877,
          2733.96201171875,
          2709.872998046875,
          2685.197998046875,
          2660.25,
          2634.325,
          2609.222998046875,
          2585.756005859375,
          2553.25,
          2532.822998046875,
          2512.4760009765623,
          2485.635986328125,
          2462.8929931640623,
          2437.6519775390625,
          2415.4649658203125,
          2390.1149658203126,
          2378.5569580078127,
          2361.93896484375,
          2354.1609619140627,
          2333.0349609375,
          2324.524951171875,
          2323.140966796875,
          2311.7839599609374
         ]
        },
        {
         "line": {
          "color": "#5B2D00",
          "width": 2
         },
         "name": "SMA_5",
         "type": "scatter",
         "x": [
          "2021-11-12T00:00:00",
          "2021-11-15T00:00:00",
          "2021-11-16T00:00:00",
          "2021-11-17T00:00:00",
          "2021-11-18T00:00:00",
          "2021-11-19T00:00:00",
          "2021-11-22T00:00:00",
          "2021-11-23T00:00:00",
          "2021-11-24T00:00:00",
          "2021-11-26T00:00:00",
          "2021-11-29T00:00:00",
          "2021-11-30T00:00:00",
          "2021-12-01T00:00:00",
          "2021-12-02T00:00:00",
          "2021-12-03T00:00:00",
          "2021-12-06T00:00:00",
          "2021-12-07T00:00:00",
          "2021-12-08T00:00:00",
          "2021-12-09T00:00:00",
          "2021-12-10T00:00:00",
          "2021-12-13T00:00:00",
          "2021-12-14T00:00:00",
          "2021-12-15T00:00:00",
          "2021-12-16T00:00:00",
          "2021-12-17T00:00:00",
          "2021-12-20T00:00:00",
          "2021-12-21T00:00:00",
          "2021-12-22T00:00:00",
          "2021-12-23T00:00:00",
          "2021-12-27T00:00:00",
          "2021-12-28T00:00:00",
          "2021-12-29T00:00:00",
          "2021-12-30T00:00:00",
          "2021-12-31T00:00:00",
          "2022-01-03T00:00:00",
          "2022-01-04T00:00:00",
          "2022-01-05T00:00:00",
          "2022-01-06T00:00:00",
          "2022-01-07T00:00:00",
          "2022-01-10T00:00:00",
          "2022-01-11T00:00:00",
          "2022-01-12T00:00:00",
          "2022-01-13T00:00:00",
          "2022-01-14T00:00:00",
          "2022-01-18T00:00:00",
          "2022-01-19T00:00:00",
          "2022-01-20T00:00:00",
          "2022-01-21T00:00:00",
          "2022-01-24T00:00:00",
          "2022-01-25T00:00:00",
          "2022-01-26T00:00:00",
          "2022-01-27T00:00:00",
          "2022-01-28T00:00:00",
          "2022-01-31T00:00:00",
          "2022-02-01T00:00:00",
          "2022-02-02T00:00:00",
          "2022-02-03T00:00:00",
          "2022-02-04T00:00:00",
          "2022-02-07T00:00:00",
          "2022-02-08T00:00:00",
          "2022-02-09T00:00:00",
          "2022-02-10T00:00:00",
          "2022-02-11T00:00:00",
          "2022-02-14T00:00:00",
          "2022-02-15T00:00:00",
          "2022-02-16T00:00:00",
          "2022-02-17T00:00:00",
          "2022-02-18T00:00:00",
          "2022-02-22T00:00:00",
          "2022-02-23T00:00:00",
          "2022-02-24T00:00:00",
          "2022-02-25T00:00:00",
          "2022-02-28T00:00:00",
          "2022-03-01T00:00:00",
          "2022-03-02T00:00:00",
          "2022-03-03T00:00:00",
          "2022-03-04T00:00:00",
          "2022-03-07T00:00:00",
          "2022-03-08T00:00:00",
          "2022-03-09T00:00:00",
          "2022-03-10T00:00:00",
          "2022-03-11T00:00:00",
          "2022-03-14T00:00:00",
          "2022-03-15T00:00:00",
          "2022-03-16T00:00:00",
          "2022-03-17T00:00:00",
          "2022-03-18T00:00:00",
          "2022-03-21T00:00:00",
          "2022-03-22T00:00:00",
          "2022-03-23T00:00:00",
          "2022-03-24T00:00:00",
          "2022-03-25T00:00:00",
          "2022-03-28T00:00:00",
          "2022-03-29T00:00:00",
          "2022-03-30T00:00:00",
          "2022-03-31T00:00:00",
          "2022-04-01T00:00:00",
          "2022-04-04T00:00:00",
          "2022-04-05T00:00:00",
          "2022-04-06T00:00:00",
          "2022-04-07T00:00:00",
          "2022-04-08T00:00:00",
          "2022-04-11T00:00:00",
          "2022-04-12T00:00:00",
          "2022-04-13T00:00:00",
          "2022-04-14T00:00:00",
          "2022-04-18T00:00:00",
          "2022-04-19T00:00:00",
          "2022-04-20T00:00:00",
          "2022-04-21T00:00:00",
          "2022-04-22T00:00:00",
          "2022-04-25T00:00:00",
          "2022-04-26T00:00:00",
          "2022-04-27T00:00:00",
          "2022-04-28T00:00:00",
          "2022-04-29T00:00:00",
          "2022-05-02T00:00:00",
          "2022-05-03T00:00:00",
          "2022-05-04T00:00:00",
          "2022-05-05T00:00:00",
          "2022-05-06T00:00:00",
          "2022-05-09T00:00:00",
          "2022-05-10T00:00:00",
          "2022-05-11T00:00:00",
          "2022-05-12T00:00:00"
         ],
         "y": [
          2953.15009765625,
          2950.83408203125,
          2946.6640625,
          2955.27802734375,
          2971.566015625,
          2972.560009765625,
          2963.960009765625,
          2955.583984375,
          2947.8759765625,
          2917.253955078125,
          2903.669970703125,
          2886.051953125,
          2867.12998046875,
          2854.514013671875,
          2853.788037109375,
          2844.28603515625,
          2865.7740234375,
          2894.314013671875,
          2913.00400390625,
          2937.00400390625,
          2947.689990234375,
          2934.239990234375,
          2927.2580078125,
          2914.483984375,
          2889.377978515625,
          2872.499951171875,
          2870.761962890625,
          2870.657958984375,
          2880.543994140625,
          2905.269970703125,
          2925.589990234375,
          2938.32001953125,
          2937.46201171875,
          2929.20400390625,
          2917.54404296875,
          2908.39404296875,
          2872.8740234375,
          2839.06201171875,
          2807.722021484375,
          2782.433984375,
          2763.77998046875,
          2778.402001953125,
          2781.760009765625,
          2791.614013671875,
          2780.92802734375,
          2762.450048828125,
          2729.9580078125,
          2697.016015625,
          2662.310009765625,
          2626.0580078125,
          2602.523974609375,
          2585.314013671875,
          2597.31201171875,
          2615.310009765625,
          2658.14599609375,
          2733.214013671875,
          2789.55400390625,
          2829.322021484375,
          2844.91201171875,
          2851.93203125,
          2826.300048828125,
          2808.42001953125,
          2772.377978515625,
          2757.677978515625,
          2746.515966796875,
          2731.099951171875,
          2706.7759765625,
          2691.2580078125,
          2668.4080078125,
          2632.326025390625,
          2612.138037109375,
          2619.82001953125,
          2638.435986328125,
          2655.427978515625,
          2683.361962890625,
          2688.195947265625,
          2677.983935546875,
          2643.269970703125,
          2615.4419921875,
          2610.835986328125,
          2604.956005859375,
          2596.81201171875,
          2595.102001953125,
          2603.4759765625,
          2602.918017578125,
          2608.556005859375,
          2633.576025390625,
          2674.17802734375,
          2716.858056640625,
          2736.838037109375,
          2767.77001953125,
          2789.960009765625,
          2811.376025390625,
          2821.926025390625,
          2836.57802734375,
          2826.56005859375,
          2820.470068359375,
          2826.534033203125,
          2818.876025390625,
          2797.314013671875,
          2784.597998046875,
          2757.14599609375,
          2700.55400390625,
          2649.047998046875,
          2622.431982421875,
          2585.797998046875,
          2563.35400390625,
          2568.09599609375,
          2569.397998046875,
          2549.080029296875,
          2520.702001953125,
          2502.2919921875,
          2456.856005859375,
          2401.873974609375,
          2376.70595703125,
          2354.601953125,
          2328.637939453125,
          2323.37392578125,
          2355.23994140625,
          2347.17197265625,
          2353.719970703125,
          2337.431982421875,
          2325.6759765625,
          2291.0419921875,
          2276.395947265625
         ]
        }
       ],
       "layout": {
        "font": {
         "color": "#000000",
         "family": "Monospace",
         "size": 12
        },
        "margin": {
         "b": 20,
         "l": 20,
         "r": 20,
         "t": 20
        },
        "plot_bgcolor": "#efefef",
        "template": {
         "data": {
          "bar": [
           {
            "error_x": {
             "color": "#2a3f5f"
            },
            "error_y": {
             "color": "#2a3f5f"
            },
            "marker": {
             "line": {
              "color": "#E5ECF6",
              "width": 0.5
             },
             "pattern": {
              "fillmode": "overlay",
              "size": 10,
              "solidity": 0.2
             }
            },
            "type": "bar"
           }
          ],
          "barpolar": [
           {
            "marker": {
             "line": {
              "color": "#E5ECF6",
              "width": 0.5
             },
             "pattern": {
              "fillmode": "overlay",
              "size": 10,
              "solidity": 0.2
             }
            },
            "type": "barpolar"
           }
          ],
          "carpet": [
           {
            "aaxis": {
             "endlinecolor": "#2a3f5f",
             "gridcolor": "white",
             "linecolor": "white",
             "minorgridcolor": "white",
             "startlinecolor": "#2a3f5f"
            },
            "baxis": {
             "endlinecolor": "#2a3f5f",
             "gridcolor": "white",
             "linecolor": "white",
             "minorgridcolor": "white",
             "startlinecolor": "#2a3f5f"
            },
            "type": "carpet"
           }
          ],
          "choropleth": [
           {
            "colorbar": {
             "outlinewidth": 0,
             "ticks": ""
            },
            "type": "choropleth"
           }
          ],
          "contour": [
           {
            "colorbar": {
             "outlinewidth": 0,
             "ticks": ""
            },
            "colorscale": [
             [
              0,
              "#0d0887"
             ],
             [
              0.1111111111111111,
              "#46039f"
             ],
             [
              0.2222222222222222,
              "#7201a8"
             ],
             [
              0.3333333333333333,
              "#9c179e"
             ],
             [
              0.4444444444444444,
              "#bd3786"
             ],
             [
              0.5555555555555556,
              "#d8576b"
             ],
             [
              0.6666666666666666,
              "#ed7953"
             ],
             [
              0.7777777777777778,
              "#fb9f3a"
             ],
             [
              0.8888888888888888,
              "#fdca26"
             ],
             [
              1,
              "#f0f921"
             ]
            ],
            "type": "contour"
           }
          ],
          "contourcarpet": [
           {
            "colorbar": {
             "outlinewidth": 0,
             "ticks": ""
            },
            "type": "contourcarpet"
           }
          ],
          "heatmap": [
           {
            "colorbar": {
             "outlinewidth": 0,
             "ticks": ""
            },
            "colorscale": [
             [
              0,
              "#0d0887"
             ],
             [
              0.1111111111111111,
              "#46039f"
             ],
             [
              0.2222222222222222,
              "#7201a8"
             ],
             [
              0.3333333333333333,
              "#9c179e"
             ],
             [
              0.4444444444444444,
              "#bd3786"
             ],
             [
              0.5555555555555556,
              "#d8576b"
             ],
             [
              0.6666666666666666,
              "#ed7953"
             ],
             [
              0.7777777777777778,
              "#fb9f3a"
             ],
             [
              0.8888888888888888,
              "#fdca26"
             ],
             [
              1,
              "#f0f921"
             ]
            ],
            "type": "heatmap"
           }
          ],
          "heatmapgl": [
           {
            "colorbar": {
             "outlinewidth": 0,
             "ticks": ""
            },
            "colorscale": [
             [
              0,
              "#0d0887"
             ],
             [
              0.1111111111111111,
              "#46039f"
             ],
             [
              0.2222222222222222,
              "#7201a8"
             ],
             [
              0.3333333333333333,
              "#9c179e"
             ],
             [
              0.4444444444444444,
              "#bd3786"
             ],
             [
              0.5555555555555556,
              "#d8576b"
             ],
             [
              0.6666666666666666,
              "#ed7953"
             ],
             [
              0.7777777777777778,
              "#fb9f3a"
             ],
             [
              0.8888888888888888,
              "#fdca26"
             ],
             [
              1,
              "#f0f921"
             ]
            ],
            "type": "heatmapgl"
           }
          ],
          "histogram": [
           {
            "marker": {
             "pattern": {
              "fillmode": "overlay",
              "size": 10,
              "solidity": 0.2
             }
            },
            "type": "histogram"
           }
          ],
          "histogram2d": [
           {
            "colorbar": {
             "outlinewidth": 0,
             "ticks": ""
            },
            "colorscale": [
             [
              0,
              "#0d0887"
             ],
             [
              0.1111111111111111,
              "#46039f"
             ],
             [
              0.2222222222222222,
              "#7201a8"
             ],
             [
              0.3333333333333333,
              "#9c179e"
             ],
             [
              0.4444444444444444,
              "#bd3786"
             ],
             [
              0.5555555555555556,
              "#d8576b"
             ],
             [
              0.6666666666666666,
              "#ed7953"
             ],
             [
              0.7777777777777778,
              "#fb9f3a"
             ],
             [
              0.8888888888888888,
              "#fdca26"
             ],
             [
              1,
              "#f0f921"
             ]
            ],
            "type": "histogram2d"
           }
          ],
          "histogram2dcontour": [
           {
            "colorbar": {
             "outlinewidth": 0,
             "ticks": ""
            },
            "colorscale": [
             [
              0,
              "#0d0887"
             ],
             [
              0.1111111111111111,
              "#46039f"
             ],
             [
              0.2222222222222222,
              "#7201a8"
             ],
             [
              0.3333333333333333,
              "#9c179e"
             ],
             [
              0.4444444444444444,
              "#bd3786"
             ],
             [
              0.5555555555555556,
              "#d8576b"
             ],
             [
              0.6666666666666666,
              "#ed7953"
             ],
             [
              0.7777777777777778,
              "#fb9f3a"
             ],
             [
              0.8888888888888888,
              "#fdca26"
             ],
             [
              1,
              "#f0f921"
             ]
            ],
            "type": "histogram2dcontour"
           }
          ],
          "mesh3d": [
           {
            "colorbar": {
             "outlinewidth": 0,
             "ticks": ""
            },
            "type": "mesh3d"
           }
          ],
          "parcoords": [
           {
            "line": {
             "colorbar": {
              "outlinewidth": 0,
              "ticks": ""
             }
            },
            "type": "parcoords"
           }
          ],
          "pie": [
           {
            "automargin": true,
            "type": "pie"
           }
          ],
          "scatter": [
           {
            "fillpattern": {
             "fillmode": "overlay",
             "size": 10,
             "solidity": 0.2
            },
            "type": "scatter"
           }
          ],
          "scatter3d": [
           {
            "line": {
             "colorbar": {
              "outlinewidth": 0,
              "ticks": ""
             }
            },
            "marker": {
             "colorbar": {
              "outlinewidth": 0,
              "ticks": ""
             }
            },
            "type": "scatter3d"
           }
          ],
          "scattercarpet": [
           {
            "marker": {
             "colorbar": {
              "outlinewidth": 0,
              "ticks": ""
             }
            },
            "type": "scattercarpet"
           }
          ],
          "scattergeo": [
           {
            "marker": {
             "colorbar": {
              "outlinewidth": 0,
              "ticks": ""
             }
            },
            "type": "scattergeo"
           }
          ],
          "scattergl": [
           {
            "marker": {
             "colorbar": {
              "outlinewidth": 0,
              "ticks": ""
             }
            },
            "type": "scattergl"
           }
          ],
          "scattermapbox": [
           {
            "marker": {
             "colorbar": {
              "outlinewidth": 0,
              "ticks": ""
             }
            },
            "type": "scattermapbox"
           }
          ],
          "scatterpolar": [
           {
            "marker": {
             "colorbar": {
              "outlinewidth": 0,
              "ticks": ""
             }
            },
            "type": "scatterpolar"
           }
          ],
          "scatterpolargl": [
           {
            "marker": {
             "colorbar": {
              "outlinewidth": 0,
              "ticks": ""
             }
            },
            "type": "scatterpolargl"
           }
          ],
          "scatterternary": [
           {
            "marker": {
             "colorbar": {
              "outlinewidth": 0,
              "ticks": ""
             }
            },
            "type": "scatterternary"
           }
          ],
          "surface": [
           {
            "colorbar": {
             "outlinewidth": 0,
             "ticks": ""
            },
            "colorscale": [
             [
              0,
              "#0d0887"
             ],
             [
              0.1111111111111111,
              "#46039f"
             ],
             [
              0.2222222222222222,
              "#7201a8"
             ],
             [
              0.3333333333333333,
              "#9c179e"
             ],
             [
              0.4444444444444444,
              "#bd3786"
             ],
             [
              0.5555555555555556,
              "#d8576b"
             ],
             [
              0.6666666666666666,
              "#ed7953"
             ],
             [
              0.7777777777777778,
              "#fb9f3a"
             ],
             [
              0.8888888888888888,
              "#fdca26"
             ],
             [
              1,
              "#f0f921"
             ]
            ],
            "type": "surface"
           }
          ],
          "table": [
           {
            "cells": {
             "fill": {
              "color": "#EBF0F8"
             },
             "line": {
              "color": "white"
             }
            },
            "header": {
             "fill": {
              "color": "#C8D4E3"
             },
             "line": {
              "color": "white"
             }
            },
            "type": "table"
           }
          ]
         },
         "layout": {
          "annotationdefaults": {
           "arrowcolor": "#2a3f5f",
           "arrowhead": 0,
           "arrowwidth": 1
          },
          "autotypenumbers": "strict",
          "coloraxis": {
           "colorbar": {
            "outlinewidth": 0,
            "ticks": ""
           }
          },
          "colorscale": {
           "diverging": [
            [
             0,
             "#8e0152"
            ],
            [
             0.1,
             "#c51b7d"
            ],
            [
             0.2,
             "#de77ae"
            ],
            [
             0.3,
             "#f1b6da"
            ],
            [
             0.4,
             "#fde0ef"
            ],
            [
             0.5,
             "#f7f7f7"
            ],
            [
             0.6,
             "#e6f5d0"
            ],
            [
             0.7,
             "#b8e186"
            ],
            [
             0.8,
             "#7fbc41"
            ],
            [
             0.9,
             "#4d9221"
            ],
            [
             1,
             "#276419"
            ]
           ],
           "sequential": [
            [
             0,
             "#0d0887"
            ],
            [
             0.1111111111111111,
             "#46039f"
            ],
            [
             0.2222222222222222,
             "#7201a8"
            ],
            [
             0.3333333333333333,
             "#9c179e"
            ],
            [
             0.4444444444444444,
             "#bd3786"
            ],
            [
             0.5555555555555556,
             "#d8576b"
            ],
            [
             0.6666666666666666,
             "#ed7953"
            ],
            [
             0.7777777777777778,
             "#fb9f3a"
            ],
            [
             0.8888888888888888,
             "#fdca26"
            ],
            [
             1,
             "#f0f921"
            ]
           ],
           "sequentialminus": [
            [
             0,
             "#0d0887"
            ],
            [
             0.1111111111111111,
             "#46039f"
            ],
            [
             0.2222222222222222,
             "#7201a8"
            ],
            [
             0.3333333333333333,
             "#9c179e"
            ],
            [
             0.4444444444444444,
             "#bd3786"
            ],
            [
             0.5555555555555556,
             "#d8576b"
            ],
            [
             0.6666666666666666,
             "#ed7953"
            ],
            [
             0.7777777777777778,
             "#fb9f3a"
            ],
            [
             0.8888888888888888,
             "#fdca26"
            ],
            [
             1,
             "#f0f921"
            ]
           ]
          },
          "colorway": [
           "#636efa",
           "#EF553B",
           "#00cc96",
           "#ab63fa",
           "#FFA15A",
           "#19d3f3",
           "#FF6692",
           "#B6E880",
           "#FF97FF",
           "#FECB52"
          ],
          "font": {
           "color": "#2a3f5f"
          },
          "geo": {
           "bgcolor": "white",
           "lakecolor": "white",
           "landcolor": "#E5ECF6",
           "showlakes": true,
           "showland": true,
           "subunitcolor": "white"
          },
          "hoverlabel": {
           "align": "left"
          },
          "hovermode": "closest",
          "mapbox": {
           "style": "light"
          },
          "paper_bgcolor": "white",
          "plot_bgcolor": "#E5ECF6",
          "polar": {
           "angularaxis": {
            "gridcolor": "white",
            "linecolor": "white",
            "ticks": ""
           },
           "bgcolor": "#E5ECF6",
           "radialaxis": {
            "gridcolor": "white",
            "linecolor": "white",
            "ticks": ""
           }
          },
          "scene": {
           "xaxis": {
            "backgroundcolor": "#E5ECF6",
            "gridcolor": "white",
            "gridwidth": 2,
            "linecolor": "white",
            "showbackground": true,
            "ticks": "",
            "zerolinecolor": "white"
           },
           "yaxis": {
            "backgroundcolor": "#E5ECF6",
            "gridcolor": "white",
            "gridwidth": 2,
            "linecolor": "white",
            "showbackground": true,
            "ticks": "",
            "zerolinecolor": "white"
           },
           "zaxis": {
            "backgroundcolor": "#E5ECF6",
            "gridcolor": "white",
            "gridwidth": 2,
            "linecolor": "white",
            "showbackground": true,
            "ticks": "",
            "zerolinecolor": "white"
           }
          },
          "shapedefaults": {
           "line": {
            "color": "#2a3f5f"
           }
          },
          "ternary": {
           "aaxis": {
            "gridcolor": "white",
            "linecolor": "white",
            "ticks": ""
           },
           "baxis": {
            "gridcolor": "white",
            "linecolor": "white",
            "ticks": ""
           },
           "bgcolor": "#E5ECF6",
           "caxis": {
            "gridcolor": "white",
            "linecolor": "white",
            "ticks": ""
           }
          },
          "title": {
           "x": 0.05
          },
          "xaxis": {
           "automargin": true,
           "gridcolor": "white",
           "linecolor": "white",
           "ticks": "",
           "title": {
            "standoff": 15
           },
           "zerolinecolor": "white",
           "zerolinewidth": 2
          },
          "yaxis": {
           "automargin": true,
           "gridcolor": "white",
           "linecolor": "white",
           "ticks": "",
           "title": {
            "standoff": 15
           },
           "zerolinecolor": "white",
           "zerolinewidth": 2
          }
         }
        },
        "xaxis": {
         "rangeslider": {
          "visible": false
         }
        }
       }
      }
     },
     "metadata": {},
     "output_type": "display_data"
    }
   ],
   "source": [
    "# GOOGL\n",
    "\n",
    "# Adding the moving average indicators, 5 day, 10 day, 20 day\n",
    "moving_averages = ta.Strategy(\n",
    "    name=\"moving indicators\",\n",
    "    ta=[\n",
    "        {\"kind\": \"sma\", \"length\": 20},\n",
    "        {\"kind\": \"sma\", \"length\": 10},\n",
    "        {\"kind\": \"sma\", \"length\": 5},\n",
    "    ]\n",
    ")\n",
    "\n",
    "# Calculating the moving averages and adding them to the dataframe\n",
    "daily_GOOGL.ta.strategy(moving_averages)\n",
    "\n",
    "\n",
    "# Extracting around the last 6 months of data for GOOGL\n",
    "# Note there are usually 253 trading days in a year, so 6 months of data is around 125 days\n",
    "daily_GOOGL_SMA = daily_GOOGL.iloc[-125:]\n",
    "\n",
    "#Creating a candlestick plot with green indicating increases in price and red indicating decreases in prices\n",
    "fig = plotly.Figure(data=[\n",
    "    plotly.Candlestick(\n",
    "        x=daily_GOOGL_SMA[\"Date\"],\n",
    "        open=daily_GOOGL_SMA['Open'],\n",
    "        high=daily_GOOGL_SMA['High'],\n",
    "        low=daily_GOOGL_SMA['Low'],\n",
    "        close=daily_GOOGL_SMA['Close'],\n",
    "        increasing_line_color='#00cc00',\n",
    "        decreasing_line_color='#ff0000',\n",
    "        showlegend=False,\n",
    "    ),\n",
    "])\n",
    "\n",
    "# Formatting Plot margin, font, and colors\n",
    "layout = plotly.Layout(\n",
    "    margin=dict(l=20, r=20, t=20, b=20),\n",
    "    plot_bgcolor='#efefef',\n",
    "    # Font Families\n",
    "    font_family='Monospace',\n",
    "    font_color='#000000',\n",
    "    font_size=12,\n",
    "    xaxis=dict(\n",
    "        rangeslider=dict(\n",
    "            visible=False\n",
    "        ))\n",
    ")\n",
    "\n",
    "# In order to add the Moving Day Averages, we will add \"traces\" to the graph using the plotly api\n",
    "\n",
    "# 20 day Moving Day Average (or SMA which stands for Simple Moving Average)\n",
    "fig.add_trace(\n",
    "    plotly.Scatter(\n",
    "        x=daily_GOOGL_SMA[\"Date\"],\n",
    "        y=daily_GOOGL_SMA['SMA_20'],\n",
    "        line=dict(color='#7138B6', width=2),\n",
    "        name='SMA_20'\n",
    "    )\n",
    ")\n",
    "\n",
    "# SMA 10\n",
    "fig.add_trace(\n",
    "    plotly.Scatter(\n",
    "        x=daily_GOOGL_SMA[\"Date\"],\n",
    "        y=daily_GOOGL_SMA['SMA_10'],\n",
    "        line=dict(color='#00C2E0', width=2),\n",
    "        name='SMA_10'\n",
    "    )\n",
    ")\n",
    "\n",
    "# SMA 5\n",
    "fig.add_trace(\n",
    "    plotly.Scatter(\n",
    "        x=daily_GOOGL_SMA[\"Date\"],\n",
    "        y=daily_GOOGL_SMA['SMA_5'],\n",
    "        line=dict(color='#5B2D00', width=2),\n",
    "        name='SMA_5'\n",
    "    )\n",
    ")\n",
    "\n",
    "fig.update_layout(layout)"
   ]
  },
  {
   "cell_type": "code",
   "execution_count": 32,
   "metadata": {},
   "outputs": [
    {
     "data": {
      "application/vnd.plotly.v1+json": {
       "config": {
        "plotlyServerURL": "https://plot.ly"
       },
       "data": [
        {
         "close": [
          4682.85009765625,
          4682.7998046875,
          4700.89990234375,
          4688.669921875,
          4704.5400390625,
          4697.9599609375,
          4682.93994140625,
          4690.7001953125,
          4701.4599609375,
          4594.6201171875,
          4655.27001953125,
          4567,
          4513.0400390625,
          4577.10009765625,
          4538.43017578125,
          4591.669921875,
          4686.75,
          4701.2099609375,
          4667.4501953125,
          4712.02001953125,
          4668.97021484375,
          4634.08984375,
          4709.85009765625,
          4668.669921875,
          4620.64013671875,
          4568.02001953125,
          4649.22998046875,
          4696.56005859375,
          4725.7900390625,
          4791.18994140625,
          4786.35009765625,
          4793.06005859375,
          4778.72998046875,
          4766.18017578125,
          4796.56005859375,
          4793.5400390625,
          4700.580078125,
          4696.0498046875,
          4677.02978515625,
          4670.2900390625,
          4713.06982421875,
          4726.35009765625,
          4659.02978515625,
          4662.85009765625,
          4577.10986328125,
          4532.759765625,
          4482.72998046875,
          4397.93994140625,
          4410.1298828125,
          4356.4501953125,
          4349.93017578125,
          4326.509765625,
          4431.85009765625,
          4515.5498046875,
          4546.5400390625,
          4589.3798828125,
          4477.43994140625,
          4500.52978515625,
          4483.8701171875,
          4521.5400390625,
          4587.18017578125,
          4504.080078125,
          4418.64013671875,
          4401.669921875,
          4471.06982421875,
          4475.009765625,
          4380.259765625,
          4348.8701171875,
          4304.759765625,
          4225.5,
          4288.7001953125,
          4384.64990234375,
          4373.93994140625,
          4306.259765625,
          4386.5400390625,
          4363.490234375,
          4328.8701171875,
          4201.08984375,
          4170.7001953125,
          4277.8798828125,
          4259.52001953125,
          4204.31005859375,
          4173.10986328125,
          4262.4501953125,
          4357.85986328125,
          4411.669921875,
          4463.1201171875,
          4461.18017578125,
          4511.60986328125,
          4456.240234375,
          4520.16015625,
          4543.06005859375,
          4575.52001953125,
          4631.60009765625,
          4602.4501953125,
          4530.41015625,
          4545.85986328125,
          4582.64013671875,
          4525.1201171875,
          4481.14990234375,
          4500.2099609375,
          4488.27978515625,
          4412.52978515625,
          4397.4501953125,
          4446.58984375,
          4392.58984375,
          4391.68994140625,
          4462.2099609375,
          4459.4501953125,
          4393.66015625,
          4271.77978515625,
          4296.1201171875,
          4175.2001953125,
          4183.9599609375,
          4287.5,
          4131.93017578125,
          4155.3798828125,
          4175.47998046875,
          4300.169921875,
          4146.8701171875,
          4123.33984375,
          3991.239990234375,
          4001.050048828125,
          3935.179931640625,
          3930.080078125
         ],
         "decreasing": {
          "line": {
           "color": "#ff0000"
          }
         },
         "high": [
          4688.47021484375,
          4697.419921875,
          4714.9501953125,
          4701.5,
          4708.7998046875,
          4717.75,
          4743.830078125,
          4699.39013671875,
          4702.8701171875,
          4664.6298828125,
          4672.9501953125,
          4646.02001953125,
          4652.93994140625,
          4595.4599609375,
          4608.02978515625,
          4612.60009765625,
          4694.0400390625,
          4705.06005859375,
          4695.259765625,
          4713.56982421875,
          4710.2998046875,
          4660.47021484375,
          4712.60009765625,
          4731.990234375,
          4666.7001953125,
          4587.89990234375,
          4651.14013671875,
          4697.669921875,
          4740.740234375,
          4791.490234375,
          4807.02001953125,
          4804.06005859375,
          4808.93017578125,
          4786.830078125,
          4796.64013671875,
          4818.6201171875,
          4797.7001953125,
          4725.009765625,
          4707.9501953125,
          4673.02001953125,
          4714.1298828125,
          4748.830078125,
          4744.1298828125,
          4665.1298828125,
          4632.240234375,
          4611.5498046875,
          4602.10986328125,
          4494.52001953125,
          4417.35009765625,
          4411.009765625,
          4453.22998046875,
          4428.740234375,
          4432.72021484375,
          4516.89013671875,
          4550.490234375,
          4595.31005859375,
          4542.8798828125,
          4539.66015625,
          4521.85986328125,
          4531.31982421875,
          4590.02978515625,
          4588.919921875,
          4526.330078125,
          4426.22021484375,
          4472.77001953125,
          4489.5498046875,
          4456.06005859375,
          4394.60009765625,
          4362.1201171875,
          4341.509765625,
          4294.72998046875,
          4385.33984375,
          4388.83984375,
          4378.4501953125,
          4401.47998046875,
          4416.77978515625,
          4342.1201171875,
          4327.009765625,
          4276.93994140625,
          4299.39990234375,
          4268.27978515625,
          4291.009765625,
          4247.56982421875,
          4271.0498046875,
          4358.89990234375,
          4412.669921875,
          4465.39990234375,
          4481.75,
          4522,
          4501.06982421875,
          4520.580078125,
          4546.02978515625,
          4575.64990234375,
          4637.2998046875,
          4627.77001953125,
          4603.06982421875,
          4548.7001953125,
          4583.5,
          4593.4501953125,
          4503.93994140625,
          4521.16015625,
          4520.41015625,
          4464.35009765625,
          4471,
          4453.919921875,
          4460.4599609375,
          4410.31005859375,
          4471.02978515625,
          4488.2900390625,
          4512.93994140625,
          4385.830078125,
          4299.02001953125,
          4278.14013671875,
          4240.7099609375,
          4308.4501953125,
          4269.68017578125,
          4169.81005859375,
          4200.10009765625,
          4307.66015625,
          4270.43017578125,
          4157.68994140625,
          4081.27001953125,
          4068.820068359375,
          4049.090087890625,
          3964.800048828125
         ],
         "increasing": {
          "line": {
           "color": "#00cc00"
          }
         },
         "low": [
          4650.77001953125,
          4672.85986328125,
          4679.419921875,
          4684.41015625,
          4672.77978515625,
          4694.22021484375,
          4682.169921875,
          4652.66015625,
          4659.89013671875,
          4585.43017578125,
          4625.259765625,
          4560,
          4510.27001953125,
          4504.72998046875,
          4495.1201171875,
          4540.509765625,
          4631.97021484375,
          4674.52001953125,
          4665.97998046875,
          4670.240234375,
          4667.60009765625,
          4606.52001953125,
          4611.22021484375,
          4651.89013671875,
          4600.22021484375,
          4531.10009765625,
          4583.16015625,
          4645.52978515625,
          4703.9599609375,
          4733.990234375,
          4780.0400390625,
          4778.080078125,
          4775.330078125,
          4765.75,
          4758.169921875,
          4774.27001953125,
          4699.43994140625,
          4671.259765625,
          4662.740234375,
          4582.240234375,
          4638.27001953125,
          4706.7099609375,
          4650.2900390625,
          4614.75,
          4568.7001953125,
          4530.2001953125,
          4477.9501953125,
          4395.33984375,
          4222.6201171875,
          4287.10986328125,
          4304.7998046875,
          4309.5,
          4292.4599609375,
          4414.02001953125,
          4483.52978515625,
          4544.31982421875,
          4470.39013671875,
          4451.5,
          4471.47021484375,
          4465.39990234375,
          4547,
          4484.31005859375,
          4401.41015625,
          4364.83984375,
          4429.27978515625,
          4429.68017578125,
          4373.81005859375,
          4327.22021484375,
          4267.10986328125,
          4221.509765625,
          4114.64990234375,
          4286.830078125,
          4315.1201171875,
          4279.5400390625,
          4322.56005859375,
          4345.56005859375,
          4284.97998046875,
          4199.85009765625,
          4157.8701171875,
          4223.10009765625,
          4209.7998046875,
          4200.490234375,
          4161.72021484375,
          4187.89990234375,
          4251.990234375,
          4335.64990234375,
          4390.56982421875,
          4424.2998046875,
          4469.10009765625,
          4455.81005859375,
          4465.169921875,
          4501.06982421875,
          4517.68994140625,
          4589.66015625,
          4581.31982421875,
          4530.41015625,
          4507.56982421875,
          4539.2099609375,
          4514.169921875,
          4450.0400390625,
          4450.2998046875,
          4474.60009765625,
          4408.3798828125,
          4381.33984375,
          4392.7001953125,
          4390.77001953125,
          4370.2998046875,
          4390.6298828125,
          4448.759765625,
          4384.47021484375,
          4267.6201171875,
          4200.81982421875,
          4175.0400390625,
          4162.89990234375,
          4188.6298828125,
          4124.27978515625,
          4062.510009765625,
          4147.080078125,
          4148.91015625,
          4106.009765625,
          4067.909912109375,
          3975.47998046875,
          3958.169921875,
          3928.820068359375,
          3858.8701171875
         ],
         "open": [
          4655.240234375,
          4689.2998046875,
          4679.419921875,
          4701.5,
          4700.72021484375,
          4708.43994140625,
          4712,
          4678.47998046875,
          4675.77978515625,
          4664.6298828125,
          4628.75,
          4640.25,
          4602.81982421875,
          4504.72998046875,
          4589.490234375,
          4548.3701171875,
          4631.97021484375,
          4690.85986328125,
          4691,
          4687.64013671875,
          4710.2998046875,
          4642.990234375,
          4636.4599609375,
          4719.1298828125,
          4652.5,
          4587.89990234375,
          4594.9599609375,
          4650.35986328125,
          4703.9599609375,
          4733.990234375,
          4795.490234375,
          4788.64013671875,
          4794.22998046875,
          4775.2099609375,
          4778.14013671875,
          4804.509765625,
          4787.990234375,
          4693.39013671875,
          4697.66015625,
          4655.33984375,
          4669.14013671875,
          4728.58984375,
          4733.56005859375,
          4637.990234375,
          4632.240234375,
          4588.02978515625,
          4547.35009765625,
          4471.3798828125,
          4356.31982421875,
          4366.64013671875,
          4408.43017578125,
          4380.580078125,
          4336.18994140625,
          4431.7900390625,
          4519.56982421875,
          4566.39013671875,
          4535.41015625,
          4482.7900390625,
          4505.75,
          4480.02001953125,
          4547,
          4553.240234375,
          4506.27001953125,
          4412.60986328125,
          4429.27978515625,
          4455.75,
          4456.06005859375,
          4384.56982421875,
          4332.740234375,
          4324.93017578125,
          4155.77001953125,
          4298.3798828125,
          4354.169921875,
          4363.14013671875,
          4322.56005859375,
          4401.31005859375,
          4342.1201171875,
          4327.009765625,
          4202.66015625,
          4223.10009765625,
          4252.5498046875,
          4279.5,
          4202.75,
          4188.81982421875,
          4288.14013671875,
          4345.10986328125,
          4407.33984375,
          4462.39990234375,
          4469.10009765625,
          4493.10009765625,
          4469.97998046875,
          4522.91015625,
          4541.08984375,
          4602.85986328125,
          4624.2001953125,
          4599.02001953125,
          4540.31982421875,
          4547.97021484375,
          4572.4501953125,
          4494.169921875,
          4474.64990234375,
          4494.14990234375,
          4462.64013671875,
          4437.58984375,
          4394.2998046875,
          4449.1201171875,
          4385.6298828125,
          4390.6298828125,
          4472.259765625,
          4489.169921875,
          4385.830078125,
          4255.33984375,
          4278.14013671875,
          4186.52001953125,
          4222.580078125,
          4253.75,
          4130.60986328125,
          4159.77978515625,
          4181.18017578125,
          4270.43017578125,
          4128.169921875,
          4081.27001953125,
          4035.179931640625,
          3990.080078125,
          3903.949951171875
         ],
         "showlegend": false,
         "type": "candlestick",
         "x": [
          "2021-11-12T00:00:00",
          "2021-11-15T00:00:00",
          "2021-11-16T00:00:00",
          "2021-11-17T00:00:00",
          "2021-11-18T00:00:00",
          "2021-11-19T00:00:00",
          "2021-11-22T00:00:00",
          "2021-11-23T00:00:00",
          "2021-11-24T00:00:00",
          "2021-11-26T00:00:00",
          "2021-11-29T00:00:00",
          "2021-11-30T00:00:00",
          "2021-12-01T00:00:00",
          "2021-12-02T00:00:00",
          "2021-12-03T00:00:00",
          "2021-12-06T00:00:00",
          "2021-12-07T00:00:00",
          "2021-12-08T00:00:00",
          "2021-12-09T00:00:00",
          "2021-12-10T00:00:00",
          "2021-12-13T00:00:00",
          "2021-12-14T00:00:00",
          "2021-12-15T00:00:00",
          "2021-12-16T00:00:00",
          "2021-12-17T00:00:00",
          "2021-12-20T00:00:00",
          "2021-12-21T00:00:00",
          "2021-12-22T00:00:00",
          "2021-12-23T00:00:00",
          "2021-12-27T00:00:00",
          "2021-12-28T00:00:00",
          "2021-12-29T00:00:00",
          "2021-12-30T00:00:00",
          "2021-12-31T00:00:00",
          "2022-01-03T00:00:00",
          "2022-01-04T00:00:00",
          "2022-01-05T00:00:00",
          "2022-01-06T00:00:00",
          "2022-01-07T00:00:00",
          "2022-01-10T00:00:00",
          "2022-01-11T00:00:00",
          "2022-01-12T00:00:00",
          "2022-01-13T00:00:00",
          "2022-01-14T00:00:00",
          "2022-01-18T00:00:00",
          "2022-01-19T00:00:00",
          "2022-01-20T00:00:00",
          "2022-01-21T00:00:00",
          "2022-01-24T00:00:00",
          "2022-01-25T00:00:00",
          "2022-01-26T00:00:00",
          "2022-01-27T00:00:00",
          "2022-01-28T00:00:00",
          "2022-01-31T00:00:00",
          "2022-02-01T00:00:00",
          "2022-02-02T00:00:00",
          "2022-02-03T00:00:00",
          "2022-02-04T00:00:00",
          "2022-02-07T00:00:00",
          "2022-02-08T00:00:00",
          "2022-02-09T00:00:00",
          "2022-02-10T00:00:00",
          "2022-02-11T00:00:00",
          "2022-02-14T00:00:00",
          "2022-02-15T00:00:00",
          "2022-02-16T00:00:00",
          "2022-02-17T00:00:00",
          "2022-02-18T00:00:00",
          "2022-02-22T00:00:00",
          "2022-02-23T00:00:00",
          "2022-02-24T00:00:00",
          "2022-02-25T00:00:00",
          "2022-02-28T00:00:00",
          "2022-03-01T00:00:00",
          "2022-03-02T00:00:00",
          "2022-03-03T00:00:00",
          "2022-03-04T00:00:00",
          "2022-03-07T00:00:00",
          "2022-03-08T00:00:00",
          "2022-03-09T00:00:00",
          "2022-03-10T00:00:00",
          "2022-03-11T00:00:00",
          "2022-03-14T00:00:00",
          "2022-03-15T00:00:00",
          "2022-03-16T00:00:00",
          "2022-03-17T00:00:00",
          "2022-03-18T00:00:00",
          "2022-03-21T00:00:00",
          "2022-03-22T00:00:00",
          "2022-03-23T00:00:00",
          "2022-03-24T00:00:00",
          "2022-03-25T00:00:00",
          "2022-03-28T00:00:00",
          "2022-03-29T00:00:00",
          "2022-03-30T00:00:00",
          "2022-03-31T00:00:00",
          "2022-04-01T00:00:00",
          "2022-04-04T00:00:00",
          "2022-04-05T00:00:00",
          "2022-04-06T00:00:00",
          "2022-04-07T00:00:00",
          "2022-04-08T00:00:00",
          "2022-04-11T00:00:00",
          "2022-04-12T00:00:00",
          "2022-04-13T00:00:00",
          "2022-04-14T00:00:00",
          "2022-04-18T00:00:00",
          "2022-04-19T00:00:00",
          "2022-04-20T00:00:00",
          "2022-04-21T00:00:00",
          "2022-04-22T00:00:00",
          "2022-04-25T00:00:00",
          "2022-04-26T00:00:00",
          "2022-04-27T00:00:00",
          "2022-04-28T00:00:00",
          "2022-04-29T00:00:00",
          "2022-05-02T00:00:00",
          "2022-05-03T00:00:00",
          "2022-05-04T00:00:00",
          "2022-05-05T00:00:00",
          "2022-05-06T00:00:00",
          "2022-05-09T00:00:00",
          "2022-05-10T00:00:00",
          "2022-05-11T00:00:00",
          "2022-05-12T00:00:00"
         ]
        },
        {
         "line": {
          "color": "#7138B6",
          "width": 2
         },
         "name": "SMA_20",
         "type": "scatter",
         "x": [
          "2021-11-12T00:00:00",
          "2021-11-15T00:00:00",
          "2021-11-16T00:00:00",
          "2021-11-17T00:00:00",
          "2021-11-18T00:00:00",
          "2021-11-19T00:00:00",
          "2021-11-22T00:00:00",
          "2021-11-23T00:00:00",
          "2021-11-24T00:00:00",
          "2021-11-26T00:00:00",
          "2021-11-29T00:00:00",
          "2021-11-30T00:00:00",
          "2021-12-01T00:00:00",
          "2021-12-02T00:00:00",
          "2021-12-03T00:00:00",
          "2021-12-06T00:00:00",
          "2021-12-07T00:00:00",
          "2021-12-08T00:00:00",
          "2021-12-09T00:00:00",
          "2021-12-10T00:00:00",
          "2021-12-13T00:00:00",
          "2021-12-14T00:00:00",
          "2021-12-15T00:00:00",
          "2021-12-16T00:00:00",
          "2021-12-17T00:00:00",
          "2021-12-20T00:00:00",
          "2021-12-21T00:00:00",
          "2021-12-22T00:00:00",
          "2021-12-23T00:00:00",
          "2021-12-27T00:00:00",
          "2021-12-28T00:00:00",
          "2021-12-29T00:00:00",
          "2021-12-30T00:00:00",
          "2021-12-31T00:00:00",
          "2022-01-03T00:00:00",
          "2022-01-04T00:00:00",
          "2022-01-05T00:00:00",
          "2022-01-06T00:00:00",
          "2022-01-07T00:00:00",
          "2022-01-10T00:00:00",
          "2022-01-11T00:00:00",
          "2022-01-12T00:00:00",
          "2022-01-13T00:00:00",
          "2022-01-14T00:00:00",
          "2022-01-18T00:00:00",
          "2022-01-19T00:00:00",
          "2022-01-20T00:00:00",
          "2022-01-21T00:00:00",
          "2022-01-24T00:00:00",
          "2022-01-25T00:00:00",
          "2022-01-26T00:00:00",
          "2022-01-27T00:00:00",
          "2022-01-28T00:00:00",
          "2022-01-31T00:00:00",
          "2022-02-01T00:00:00",
          "2022-02-02T00:00:00",
          "2022-02-03T00:00:00",
          "2022-02-04T00:00:00",
          "2022-02-07T00:00:00",
          "2022-02-08T00:00:00",
          "2022-02-09T00:00:00",
          "2022-02-10T00:00:00",
          "2022-02-11T00:00:00",
          "2022-02-14T00:00:00",
          "2022-02-15T00:00:00",
          "2022-02-16T00:00:00",
          "2022-02-17T00:00:00",
          "2022-02-18T00:00:00",
          "2022-02-22T00:00:00",
          "2022-02-23T00:00:00",
          "2022-02-24T00:00:00",
          "2022-02-25T00:00:00",
          "2022-02-28T00:00:00",
          "2022-03-01T00:00:00",
          "2022-03-02T00:00:00",
          "2022-03-03T00:00:00",
          "2022-03-04T00:00:00",
          "2022-03-07T00:00:00",
          "2022-03-08T00:00:00",
          "2022-03-09T00:00:00",
          "2022-03-10T00:00:00",
          "2022-03-11T00:00:00",
          "2022-03-14T00:00:00",
          "2022-03-15T00:00:00",
          "2022-03-16T00:00:00",
          "2022-03-17T00:00:00",
          "2022-03-18T00:00:00",
          "2022-03-21T00:00:00",
          "2022-03-22T00:00:00",
          "2022-03-23T00:00:00",
          "2022-03-24T00:00:00",
          "2022-03-25T00:00:00",
          "2022-03-28T00:00:00",
          "2022-03-29T00:00:00",
          "2022-03-30T00:00:00",
          "2022-03-31T00:00:00",
          "2022-04-01T00:00:00",
          "2022-04-04T00:00:00",
          "2022-04-05T00:00:00",
          "2022-04-06T00:00:00",
          "2022-04-07T00:00:00",
          "2022-04-08T00:00:00",
          "2022-04-11T00:00:00",
          "2022-04-12T00:00:00",
          "2022-04-13T00:00:00",
          "2022-04-14T00:00:00",
          "2022-04-18T00:00:00",
          "2022-04-19T00:00:00",
          "2022-04-20T00:00:00",
          "2022-04-21T00:00:00",
          "2022-04-22T00:00:00",
          "2022-04-25T00:00:00",
          "2022-04-26T00:00:00",
          "2022-04-27T00:00:00",
          "2022-04-28T00:00:00",
          "2022-04-29T00:00:00",
          "2022-05-02T00:00:00",
          "2022-05-03T00:00:00",
          "2022-05-04T00:00:00",
          "2022-05-05T00:00:00",
          "2022-05-06T00:00:00",
          "2022-05-09T00:00:00",
          "2022-05-10T00:00:00",
          "2022-05-11T00:00:00",
          "2022-05-12T00:00:00"
         ],
         "y": [
          4608.998461914062,
          4618.815454101563,
          4627.878955078125,
          4635.502954101563,
          4643.240966796875,
          4650.893969726562,
          4656.716967773437,
          4662.512475585938,
          4670.00146484375,
          4669.911474609375,
          4672.405981445312,
          4670.072485351562,
          4664.1919921875,
          4660.018505859375,
          4652.93701171875,
          4647.644018554687,
          4646.896508789063,
          4647.694506835937,
          4648.731518554688,
          4651.8690185546875,
          4651.175024414062,
          4648.739526367188,
          4649.187036132813,
          4648.187036132813,
          4643.992041015625,
          4637.495043945312,
          4635.809545898437,
          4636.1025390625,
          4637.31904296875,
          4647.147534179688,
          4653.7015380859375,
          4665.004541015625,
          4678.289038085937,
          4687.7430419921875,
          4700.6495361328125,
          4710.7430419921875,
          4711.434545898437,
          4711.176538085938,
          4711.655517578125,
          4709.569018554687,
          4711.773999023438,
          4716.38701171875,
          4713.84599609375,
          4713.555004882813,
          4711.378491210938,
          4709.615478515625,
          4701.290478515625,
          4686.35947265625,
          4670.57646484375,
          4648.8394775390625,
          4627.018481445312,
          4603.690966796875,
          4586.34697265625,
          4573.815454101563,
          4561.314453125,
          4551.1064453125,
          4539.949438476562,
          4530.1734375,
          4520.515454101563,
          4513.077954101563,
          4506.783471679688,
          4495.669970703125,
          4483.65048828125,
          4470.591479492187,
          4465.289477539062,
          4462.4019775390625,
          4457.278466796875,
          4454.824975585938,
          4449.556469726563,
          4443.008959960937,
          4439.9474609375,
          4442.854467773437,
          4439.958959960937,
          4429.494458007813,
          4421.494458007813,
          4410.199975585938,
          4402.771484375,
          4387.799487304687,
          4372.1409912109375,
          4359.957983398437,
          4343.574975585938,
          4328.586474609375,
          4316.3099609375,
          4309.348974609375,
          4303.6884765625,
          4300.521484375,
          4304.664501953125,
          4310.280004882812,
          4320.622509765625,
          4332.159521484375,
          4343.73251953125,
          4351.65302734375,
          4361.73203125,
          4377.999047851563,
          4388.7945556640625,
          4397.140551757812,
          4407.9900390625,
          4427.067553710937,
          4444.788549804687,
          4454.95205078125,
          4466.986547851562,
          4481.185034179687,
          4493.156030273438,
          4499.906030273438,
          4504.342529296875,
          4503.388525390625,
          4499.8170166015625,
          4499.868505859375,
          4497.260522460938,
          4494.131518554687,
          4481.7125,
          4469.365502929688,
          4449.34951171875,
          4426.967504882812,
          4411.219995117188,
          4391.29599609375,
          4371.771997070313,
          4351.413989257812,
          4340.166479492187,
          4323.452490234375,
          4304.608984375,
          4279.756994628906,
          4259.1830078125,
          4236.069494628906,
          4210.244006347656
         ]
        },
        {
         "line": {
          "color": "#00C2E0",
          "width": 2
         },
         "name": "SMA_10",
         "type": "scatter",
         "x": [
          "2021-11-12T00:00:00",
          "2021-11-15T00:00:00",
          "2021-11-16T00:00:00",
          "2021-11-17T00:00:00",
          "2021-11-18T00:00:00",
          "2021-11-19T00:00:00",
          "2021-11-22T00:00:00",
          "2021-11-23T00:00:00",
          "2021-11-24T00:00:00",
          "2021-11-26T00:00:00",
          "2021-11-29T00:00:00",
          "2021-11-30T00:00:00",
          "2021-12-01T00:00:00",
          "2021-12-02T00:00:00",
          "2021-12-03T00:00:00",
          "2021-12-06T00:00:00",
          "2021-12-07T00:00:00",
          "2021-12-08T00:00:00",
          "2021-12-09T00:00:00",
          "2021-12-10T00:00:00",
          "2021-12-13T00:00:00",
          "2021-12-14T00:00:00",
          "2021-12-15T00:00:00",
          "2021-12-16T00:00:00",
          "2021-12-17T00:00:00",
          "2021-12-20T00:00:00",
          "2021-12-21T00:00:00",
          "2021-12-22T00:00:00",
          "2021-12-23T00:00:00",
          "2021-12-27T00:00:00",
          "2021-12-28T00:00:00",
          "2021-12-29T00:00:00",
          "2021-12-30T00:00:00",
          "2021-12-31T00:00:00",
          "2022-01-03T00:00:00",
          "2022-01-04T00:00:00",
          "2022-01-05T00:00:00",
          "2022-01-06T00:00:00",
          "2022-01-07T00:00:00",
          "2022-01-10T00:00:00",
          "2022-01-11T00:00:00",
          "2022-01-12T00:00:00",
          "2022-01-13T00:00:00",
          "2022-01-14T00:00:00",
          "2022-01-18T00:00:00",
          "2022-01-19T00:00:00",
          "2022-01-20T00:00:00",
          "2022-01-21T00:00:00",
          "2022-01-24T00:00:00",
          "2022-01-25T00:00:00",
          "2022-01-26T00:00:00",
          "2022-01-27T00:00:00",
          "2022-01-28T00:00:00",
          "2022-01-31T00:00:00",
          "2022-02-01T00:00:00",
          "2022-02-02T00:00:00",
          "2022-02-03T00:00:00",
          "2022-02-04T00:00:00",
          "2022-02-07T00:00:00",
          "2022-02-08T00:00:00",
          "2022-02-09T00:00:00",
          "2022-02-10T00:00:00",
          "2022-02-11T00:00:00",
          "2022-02-14T00:00:00",
          "2022-02-15T00:00:00",
          "2022-02-16T00:00:00",
          "2022-02-17T00:00:00",
          "2022-02-18T00:00:00",
          "2022-02-22T00:00:00",
          "2022-02-23T00:00:00",
          "2022-02-24T00:00:00",
          "2022-02-25T00:00:00",
          "2022-02-28T00:00:00",
          "2022-03-01T00:00:00",
          "2022-03-02T00:00:00",
          "2022-03-03T00:00:00",
          "2022-03-04T00:00:00",
          "2022-03-07T00:00:00",
          "2022-03-08T00:00:00",
          "2022-03-09T00:00:00",
          "2022-03-10T00:00:00",
          "2022-03-11T00:00:00",
          "2022-03-14T00:00:00",
          "2022-03-15T00:00:00",
          "2022-03-16T00:00:00",
          "2022-03-17T00:00:00",
          "2022-03-18T00:00:00",
          "2022-03-21T00:00:00",
          "2022-03-22T00:00:00",
          "2022-03-23T00:00:00",
          "2022-03-24T00:00:00",
          "2022-03-25T00:00:00",
          "2022-03-28T00:00:00",
          "2022-03-29T00:00:00",
          "2022-03-30T00:00:00",
          "2022-03-31T00:00:00",
          "2022-04-01T00:00:00",
          "2022-04-04T00:00:00",
          "2022-04-05T00:00:00",
          "2022-04-06T00:00:00",
          "2022-04-07T00:00:00",
          "2022-04-08T00:00:00",
          "2022-04-11T00:00:00",
          "2022-04-12T00:00:00",
          "2022-04-13T00:00:00",
          "2022-04-14T00:00:00",
          "2022-04-18T00:00:00",
          "2022-04-19T00:00:00",
          "2022-04-20T00:00:00",
          "2022-04-21T00:00:00",
          "2022-04-22T00:00:00",
          "2022-04-25T00:00:00",
          "2022-04-26T00:00:00",
          "2022-04-27T00:00:00",
          "2022-04-28T00:00:00",
          "2022-04-29T00:00:00",
          "2022-05-02T00:00:00",
          "2022-05-03T00:00:00",
          "2022-05-04T00:00:00",
          "2022-05-05T00:00:00",
          "2022-05-06T00:00:00",
          "2022-05-09T00:00:00",
          "2022-05-10T00:00:00",
          "2022-05-11T00:00:00",
          "2022-05-12T00:00:00"
         ],
         "y": [
          4664.8259765625,
          4671.73896484375,
          4678.76396484375,
          4681.573974609375,
          4684.02197265625,
          4684.064990234375,
          4682.18896484375,
          4682.733984375,
          4688.208984375,
          4682.743994140625,
          4679.985986328125,
          4668.406005859375,
          4649.62001953125,
          4638.463037109375,
          4621.85205078125,
          4611.223046875,
          4611.604052734375,
          4612.655029296875,
          4609.254052734375,
          4620.99404296875,
          4622.3640625,
          4629.073046875,
          4648.754052734375,
          4657.91103515625,
          4666.13203125,
          4663.767041015625,
          4660.0150390625,
          4659.550048828125,
          4665.384033203125,
          4673.301025390625,
          4685.039013671875,
          4700.93603515625,
          4707.8240234375,
          4717.575048828125,
          4735.167041015625,
          4757.71904296875,
          4762.854052734375,
          4762.80302734375,
          4757.927001953125,
          4745.83701171875,
          4738.508984375,
          4731.83798828125,
          4719.86796875,
          4709.5349609375,
          4687.58994140625,
          4661.5119140625,
          4639.726904296875,
          4609.91591796875,
          4583.225927734375,
          4551.841943359375,
          4515.527978515625,
          4475.5439453125,
          4452.8259765625,
          4438.095947265625,
          4435.03896484375,
          4440.7009765625,
          4440.17197265625,
          4450.43095703125,
          4457.80498046875,
          4474.31396484375,
          4498.03896484375,
          4515.79599609375,
          4514.475,
          4503.08701171875,
          4495.539990234375,
          4484.102978515625,
          4474.3849609375,
          4459.218994140625,
          4441.307958984375,
          4411.703955078125,
          4381.85595703125,
          4369.912939453125,
          4365.442919921875,
          4355.901904296875,
          4347.44892578125,
          4336.29697265625,
          4331.1580078125,
          4316.37998046875,
          4302.9740234375,
          4308.21201171875,
          4305.293994140625,
          4287.260009765625,
          4267.177001953125,
          4262.796044921875,
          4259.92802734375,
          4264.74599609375,
          4278.17099609375,
          4304.180029296875,
          4338.27099609375,
          4356.10703125,
          4382.171044921875,
          4416.046044921875,
          4456.287060546875,
          4493.20205078125,
          4517.661083984375,
          4529.535107421875,
          4537.80908203125,
          4549.955078125,
          4551.306103515625,
          4553.7970703125,
          4551.80205078125,
          4546.3240234375,
          4530.025,
          4506.610009765625,
          4491.023974609375,
          4477.241943359375,
          4461.824951171875,
          4449.78193359375,
          4443.21494140625,
          4434.465966796875,
          4411.62294921875,
          4392.406982421875,
          4368.6740234375,
          4347.325,
          4331.416015625,
          4305.350048828125,
          4281.71904296875,
          4253.046044921875,
          4237.118017578125,
          4212.439013671875,
          4197.59501953125,
          4167.107006835938,
          4149.6919921875,
          4124.813989257813,
          4089.0719970703126
         ]
        },
        {
         "line": {
          "color": "#5B2D00",
          "width": 2
         },
         "name": "SMA_5",
         "type": "scatter",
         "x": [
          "2021-11-12T00:00:00",
          "2021-11-15T00:00:00",
          "2021-11-16T00:00:00",
          "2021-11-17T00:00:00",
          "2021-11-18T00:00:00",
          "2021-11-19T00:00:00",
          "2021-11-22T00:00:00",
          "2021-11-23T00:00:00",
          "2021-11-24T00:00:00",
          "2021-11-26T00:00:00",
          "2021-11-29T00:00:00",
          "2021-11-30T00:00:00",
          "2021-12-01T00:00:00",
          "2021-12-02T00:00:00",
          "2021-12-03T00:00:00",
          "2021-12-06T00:00:00",
          "2021-12-07T00:00:00",
          "2021-12-08T00:00:00",
          "2021-12-09T00:00:00",
          "2021-12-10T00:00:00",
          "2021-12-13T00:00:00",
          "2021-12-14T00:00:00",
          "2021-12-15T00:00:00",
          "2021-12-16T00:00:00",
          "2021-12-17T00:00:00",
          "2021-12-20T00:00:00",
          "2021-12-21T00:00:00",
          "2021-12-22T00:00:00",
          "2021-12-23T00:00:00",
          "2021-12-27T00:00:00",
          "2021-12-28T00:00:00",
          "2021-12-29T00:00:00",
          "2021-12-30T00:00:00",
          "2021-12-31T00:00:00",
          "2022-01-03T00:00:00",
          "2022-01-04T00:00:00",
          "2022-01-05T00:00:00",
          "2022-01-06T00:00:00",
          "2022-01-07T00:00:00",
          "2022-01-10T00:00:00",
          "2022-01-11T00:00:00",
          "2022-01-12T00:00:00",
          "2022-01-13T00:00:00",
          "2022-01-14T00:00:00",
          "2022-01-18T00:00:00",
          "2022-01-19T00:00:00",
          "2022-01-20T00:00:00",
          "2022-01-21T00:00:00",
          "2022-01-24T00:00:00",
          "2022-01-25T00:00:00",
          "2022-01-26T00:00:00",
          "2022-01-27T00:00:00",
          "2022-01-28T00:00:00",
          "2022-01-31T00:00:00",
          "2022-02-01T00:00:00",
          "2022-02-02T00:00:00",
          "2022-02-03T00:00:00",
          "2022-02-04T00:00:00",
          "2022-02-07T00:00:00",
          "2022-02-08T00:00:00",
          "2022-02-09T00:00:00",
          "2022-02-10T00:00:00",
          "2022-02-11T00:00:00",
          "2022-02-14T00:00:00",
          "2022-02-15T00:00:00",
          "2022-02-16T00:00:00",
          "2022-02-17T00:00:00",
          "2022-02-18T00:00:00",
          "2022-02-22T00:00:00",
          "2022-02-23T00:00:00",
          "2022-02-24T00:00:00",
          "2022-02-25T00:00:00",
          "2022-02-28T00:00:00",
          "2022-03-01T00:00:00",
          "2022-03-02T00:00:00",
          "2022-03-03T00:00:00",
          "2022-03-04T00:00:00",
          "2022-03-07T00:00:00",
          "2022-03-08T00:00:00",
          "2022-03-09T00:00:00",
          "2022-03-10T00:00:00",
          "2022-03-11T00:00:00",
          "2022-03-14T00:00:00",
          "2022-03-15T00:00:00",
          "2022-03-16T00:00:00",
          "2022-03-17T00:00:00",
          "2022-03-18T00:00:00",
          "2022-03-21T00:00:00",
          "2022-03-22T00:00:00",
          "2022-03-23T00:00:00",
          "2022-03-24T00:00:00",
          "2022-03-25T00:00:00",
          "2022-03-28T00:00:00",
          "2022-03-29T00:00:00",
          "2022-03-30T00:00:00",
          "2022-03-31T00:00:00",
          "2022-04-01T00:00:00",
          "2022-04-04T00:00:00",
          "2022-04-05T00:00:00",
          "2022-04-06T00:00:00",
          "2022-04-07T00:00:00",
          "2022-04-08T00:00:00",
          "2022-04-11T00:00:00",
          "2022-04-12T00:00:00",
          "2022-04-13T00:00:00",
          "2022-04-14T00:00:00",
          "2022-04-18T00:00:00",
          "2022-04-19T00:00:00",
          "2022-04-20T00:00:00",
          "2022-04-21T00:00:00",
          "2022-04-22T00:00:00",
          "2022-04-25T00:00:00",
          "2022-04-26T00:00:00",
          "2022-04-27T00:00:00",
          "2022-04-28T00:00:00",
          "2022-04-29T00:00:00",
          "2022-05-02T00:00:00",
          "2022-05-03T00:00:00",
          "2022-05-04T00:00:00",
          "2022-05-05T00:00:00",
          "2022-05-06T00:00:00",
          "2022-05-09T00:00:00",
          "2022-05-10T00:00:00",
          "2022-05-11T00:00:00",
          "2022-05-12T00:00:00"
         ],
         "y": [
          4673.1560546875,
          4669.3759765625,
          4672.50595703125,
          4680.89794921875,
          4691.951953125,
          4694.97392578125,
          4695.001953125,
          4692.96201171875,
          4695.52001953125,
          4673.53603515625,
          4664.998046875,
          4641.81005859375,
          4606.27802734375,
          4581.4060546875,
          4570.16806640625,
          4557.448046875,
          4581.398046875,
          4619.03203125,
          4637.10205078125,
          4671.82001953125,
          4687.280078125,
          4676.748046875,
          4678.47607421875,
          4678.72001953125,
          4660.44404296875,
          4640.25400390625,
          4643.28203125,
          4640.6240234375,
          4652.048046875,
          4686.1580078125,
          4729.8240234375,
          4758.5900390625,
          4775.0240234375,
          4783.10205078125,
          4784.17607421875,
          4785.6140625,
          4767.11806640625,
          4750.58203125,
          4732.751953125,
          4707.49794921875,
          4691.40390625,
          4696.55791015625,
          4689.15390625,
          4686.31796875,
          4667.68193359375,
          4631.619921875,
          4582.8958984375,
          4530.6779296875,
          4480.13388671875,
          4436.001953125,
          4399.43603515625,
          4368.1919921875,
          4374.9740234375,
          4396.0580078125,
          4434.0759765625,
          4481.96591796875,
          4512.151953125,
          4525.887890625,
          4519.551953125,
          4514.551953125,
          4514.11201171875,
          4519.4400390625,
          4503.062109375,
          4486.6220703125,
          4476.52802734375,
          4454.0939453125,
          4429.3298828125,
          4415.37587890625,
          4395.99384765625,
          4346.8798828125,
          4309.61796875,
          4310.49599609375,
          4315.5099609375,
          4315.8099609375,
          4348.01796875,
          4362.9759765625,
          4351.82001953125,
          4317.25,
          4290.1380859375,
          4268.4060546875,
          4247.61201171875,
          4222.7,
          4217.10400390625,
          4235.45400390625,
          4251.45,
          4281.87998046875,
          4333.6419921875,
          4391.2560546875,
          4441.08798828125,
          4460.7640625,
          4482.462109375,
          4498.45009765625,
          4521.31806640625,
          4545.31611328125,
          4574.55810546875,
          4576.60810546875,
          4577.16806640625,
          4578.59208984375,
          4557.29609375,
          4533.03603515625,
          4526.99599609375,
          4515.47998046875,
          4481.45791015625,
          4455.92392578125,
          4449.0119140625,
          4427.487890625,
          4408.169921875,
          4418.10595703125,
          4430.50595703125,
          4419.92001953125,
          4395.7580078125,
          4376.64404296875,
          4319.24208984375,
          4264.14404296875,
          4242.91201171875,
          4214.94208984375,
          4186.79404296875,
          4186.85,
          4210.0919921875,
          4181.966015625,
          4180.24794921875,
          4147.419970703125,
          4112.533984375,
          4039.535986328125,
          3996.177978515625
         ]
        }
       ],
       "layout": {
        "font": {
         "color": "#000000",
         "family": "Monospace",
         "size": 12
        },
        "margin": {
         "b": 20,
         "l": 20,
         "r": 20,
         "t": 20
        },
        "plot_bgcolor": "#efefef",
        "template": {
         "data": {
          "bar": [
           {
            "error_x": {
             "color": "#2a3f5f"
            },
            "error_y": {
             "color": "#2a3f5f"
            },
            "marker": {
             "line": {
              "color": "#E5ECF6",
              "width": 0.5
             },
             "pattern": {
              "fillmode": "overlay",
              "size": 10,
              "solidity": 0.2
             }
            },
            "type": "bar"
           }
          ],
          "barpolar": [
           {
            "marker": {
             "line": {
              "color": "#E5ECF6",
              "width": 0.5
             },
             "pattern": {
              "fillmode": "overlay",
              "size": 10,
              "solidity": 0.2
             }
            },
            "type": "barpolar"
           }
          ],
          "carpet": [
           {
            "aaxis": {
             "endlinecolor": "#2a3f5f",
             "gridcolor": "white",
             "linecolor": "white",
             "minorgridcolor": "white",
             "startlinecolor": "#2a3f5f"
            },
            "baxis": {
             "endlinecolor": "#2a3f5f",
             "gridcolor": "white",
             "linecolor": "white",
             "minorgridcolor": "white",
             "startlinecolor": "#2a3f5f"
            },
            "type": "carpet"
           }
          ],
          "choropleth": [
           {
            "colorbar": {
             "outlinewidth": 0,
             "ticks": ""
            },
            "type": "choropleth"
           }
          ],
          "contour": [
           {
            "colorbar": {
             "outlinewidth": 0,
             "ticks": ""
            },
            "colorscale": [
             [
              0,
              "#0d0887"
             ],
             [
              0.1111111111111111,
              "#46039f"
             ],
             [
              0.2222222222222222,
              "#7201a8"
             ],
             [
              0.3333333333333333,
              "#9c179e"
             ],
             [
              0.4444444444444444,
              "#bd3786"
             ],
             [
              0.5555555555555556,
              "#d8576b"
             ],
             [
              0.6666666666666666,
              "#ed7953"
             ],
             [
              0.7777777777777778,
              "#fb9f3a"
             ],
             [
              0.8888888888888888,
              "#fdca26"
             ],
             [
              1,
              "#f0f921"
             ]
            ],
            "type": "contour"
           }
          ],
          "contourcarpet": [
           {
            "colorbar": {
             "outlinewidth": 0,
             "ticks": ""
            },
            "type": "contourcarpet"
           }
          ],
          "heatmap": [
           {
            "colorbar": {
             "outlinewidth": 0,
             "ticks": ""
            },
            "colorscale": [
             [
              0,
              "#0d0887"
             ],
             [
              0.1111111111111111,
              "#46039f"
             ],
             [
              0.2222222222222222,
              "#7201a8"
             ],
             [
              0.3333333333333333,
              "#9c179e"
             ],
             [
              0.4444444444444444,
              "#bd3786"
             ],
             [
              0.5555555555555556,
              "#d8576b"
             ],
             [
              0.6666666666666666,
              "#ed7953"
             ],
             [
              0.7777777777777778,
              "#fb9f3a"
             ],
             [
              0.8888888888888888,
              "#fdca26"
             ],
             [
              1,
              "#f0f921"
             ]
            ],
            "type": "heatmap"
           }
          ],
          "heatmapgl": [
           {
            "colorbar": {
             "outlinewidth": 0,
             "ticks": ""
            },
            "colorscale": [
             [
              0,
              "#0d0887"
             ],
             [
              0.1111111111111111,
              "#46039f"
             ],
             [
              0.2222222222222222,
              "#7201a8"
             ],
             [
              0.3333333333333333,
              "#9c179e"
             ],
             [
              0.4444444444444444,
              "#bd3786"
             ],
             [
              0.5555555555555556,
              "#d8576b"
             ],
             [
              0.6666666666666666,
              "#ed7953"
             ],
             [
              0.7777777777777778,
              "#fb9f3a"
             ],
             [
              0.8888888888888888,
              "#fdca26"
             ],
             [
              1,
              "#f0f921"
             ]
            ],
            "type": "heatmapgl"
           }
          ],
          "histogram": [
           {
            "marker": {
             "pattern": {
              "fillmode": "overlay",
              "size": 10,
              "solidity": 0.2
             }
            },
            "type": "histogram"
           }
          ],
          "histogram2d": [
           {
            "colorbar": {
             "outlinewidth": 0,
             "ticks": ""
            },
            "colorscale": [
             [
              0,
              "#0d0887"
             ],
             [
              0.1111111111111111,
              "#46039f"
             ],
             [
              0.2222222222222222,
              "#7201a8"
             ],
             [
              0.3333333333333333,
              "#9c179e"
             ],
             [
              0.4444444444444444,
              "#bd3786"
             ],
             [
              0.5555555555555556,
              "#d8576b"
             ],
             [
              0.6666666666666666,
              "#ed7953"
             ],
             [
              0.7777777777777778,
              "#fb9f3a"
             ],
             [
              0.8888888888888888,
              "#fdca26"
             ],
             [
              1,
              "#f0f921"
             ]
            ],
            "type": "histogram2d"
           }
          ],
          "histogram2dcontour": [
           {
            "colorbar": {
             "outlinewidth": 0,
             "ticks": ""
            },
            "colorscale": [
             [
              0,
              "#0d0887"
             ],
             [
              0.1111111111111111,
              "#46039f"
             ],
             [
              0.2222222222222222,
              "#7201a8"
             ],
             [
              0.3333333333333333,
              "#9c179e"
             ],
             [
              0.4444444444444444,
              "#bd3786"
             ],
             [
              0.5555555555555556,
              "#d8576b"
             ],
             [
              0.6666666666666666,
              "#ed7953"
             ],
             [
              0.7777777777777778,
              "#fb9f3a"
             ],
             [
              0.8888888888888888,
              "#fdca26"
             ],
             [
              1,
              "#f0f921"
             ]
            ],
            "type": "histogram2dcontour"
           }
          ],
          "mesh3d": [
           {
            "colorbar": {
             "outlinewidth": 0,
             "ticks": ""
            },
            "type": "mesh3d"
           }
          ],
          "parcoords": [
           {
            "line": {
             "colorbar": {
              "outlinewidth": 0,
              "ticks": ""
             }
            },
            "type": "parcoords"
           }
          ],
          "pie": [
           {
            "automargin": true,
            "type": "pie"
           }
          ],
          "scatter": [
           {
            "fillpattern": {
             "fillmode": "overlay",
             "size": 10,
             "solidity": 0.2
            },
            "type": "scatter"
           }
          ],
          "scatter3d": [
           {
            "line": {
             "colorbar": {
              "outlinewidth": 0,
              "ticks": ""
             }
            },
            "marker": {
             "colorbar": {
              "outlinewidth": 0,
              "ticks": ""
             }
            },
            "type": "scatter3d"
           }
          ],
          "scattercarpet": [
           {
            "marker": {
             "colorbar": {
              "outlinewidth": 0,
              "ticks": ""
             }
            },
            "type": "scattercarpet"
           }
          ],
          "scattergeo": [
           {
            "marker": {
             "colorbar": {
              "outlinewidth": 0,
              "ticks": ""
             }
            },
            "type": "scattergeo"
           }
          ],
          "scattergl": [
           {
            "marker": {
             "colorbar": {
              "outlinewidth": 0,
              "ticks": ""
             }
            },
            "type": "scattergl"
           }
          ],
          "scattermapbox": [
           {
            "marker": {
             "colorbar": {
              "outlinewidth": 0,
              "ticks": ""
             }
            },
            "type": "scattermapbox"
           }
          ],
          "scatterpolar": [
           {
            "marker": {
             "colorbar": {
              "outlinewidth": 0,
              "ticks": ""
             }
            },
            "type": "scatterpolar"
           }
          ],
          "scatterpolargl": [
           {
            "marker": {
             "colorbar": {
              "outlinewidth": 0,
              "ticks": ""
             }
            },
            "type": "scatterpolargl"
           }
          ],
          "scatterternary": [
           {
            "marker": {
             "colorbar": {
              "outlinewidth": 0,
              "ticks": ""
             }
            },
            "type": "scatterternary"
           }
          ],
          "surface": [
           {
            "colorbar": {
             "outlinewidth": 0,
             "ticks": ""
            },
            "colorscale": [
             [
              0,
              "#0d0887"
             ],
             [
              0.1111111111111111,
              "#46039f"
             ],
             [
              0.2222222222222222,
              "#7201a8"
             ],
             [
              0.3333333333333333,
              "#9c179e"
             ],
             [
              0.4444444444444444,
              "#bd3786"
             ],
             [
              0.5555555555555556,
              "#d8576b"
             ],
             [
              0.6666666666666666,
              "#ed7953"
             ],
             [
              0.7777777777777778,
              "#fb9f3a"
             ],
             [
              0.8888888888888888,
              "#fdca26"
             ],
             [
              1,
              "#f0f921"
             ]
            ],
            "type": "surface"
           }
          ],
          "table": [
           {
            "cells": {
             "fill": {
              "color": "#EBF0F8"
             },
             "line": {
              "color": "white"
             }
            },
            "header": {
             "fill": {
              "color": "#C8D4E3"
             },
             "line": {
              "color": "white"
             }
            },
            "type": "table"
           }
          ]
         },
         "layout": {
          "annotationdefaults": {
           "arrowcolor": "#2a3f5f",
           "arrowhead": 0,
           "arrowwidth": 1
          },
          "autotypenumbers": "strict",
          "coloraxis": {
           "colorbar": {
            "outlinewidth": 0,
            "ticks": ""
           }
          },
          "colorscale": {
           "diverging": [
            [
             0,
             "#8e0152"
            ],
            [
             0.1,
             "#c51b7d"
            ],
            [
             0.2,
             "#de77ae"
            ],
            [
             0.3,
             "#f1b6da"
            ],
            [
             0.4,
             "#fde0ef"
            ],
            [
             0.5,
             "#f7f7f7"
            ],
            [
             0.6,
             "#e6f5d0"
            ],
            [
             0.7,
             "#b8e186"
            ],
            [
             0.8,
             "#7fbc41"
            ],
            [
             0.9,
             "#4d9221"
            ],
            [
             1,
             "#276419"
            ]
           ],
           "sequential": [
            [
             0,
             "#0d0887"
            ],
            [
             0.1111111111111111,
             "#46039f"
            ],
            [
             0.2222222222222222,
             "#7201a8"
            ],
            [
             0.3333333333333333,
             "#9c179e"
            ],
            [
             0.4444444444444444,
             "#bd3786"
            ],
            [
             0.5555555555555556,
             "#d8576b"
            ],
            [
             0.6666666666666666,
             "#ed7953"
            ],
            [
             0.7777777777777778,
             "#fb9f3a"
            ],
            [
             0.8888888888888888,
             "#fdca26"
            ],
            [
             1,
             "#f0f921"
            ]
           ],
           "sequentialminus": [
            [
             0,
             "#0d0887"
            ],
            [
             0.1111111111111111,
             "#46039f"
            ],
            [
             0.2222222222222222,
             "#7201a8"
            ],
            [
             0.3333333333333333,
             "#9c179e"
            ],
            [
             0.4444444444444444,
             "#bd3786"
            ],
            [
             0.5555555555555556,
             "#d8576b"
            ],
            [
             0.6666666666666666,
             "#ed7953"
            ],
            [
             0.7777777777777778,
             "#fb9f3a"
            ],
            [
             0.8888888888888888,
             "#fdca26"
            ],
            [
             1,
             "#f0f921"
            ]
           ]
          },
          "colorway": [
           "#636efa",
           "#EF553B",
           "#00cc96",
           "#ab63fa",
           "#FFA15A",
           "#19d3f3",
           "#FF6692",
           "#B6E880",
           "#FF97FF",
           "#FECB52"
          ],
          "font": {
           "color": "#2a3f5f"
          },
          "geo": {
           "bgcolor": "white",
           "lakecolor": "white",
           "landcolor": "#E5ECF6",
           "showlakes": true,
           "showland": true,
           "subunitcolor": "white"
          },
          "hoverlabel": {
           "align": "left"
          },
          "hovermode": "closest",
          "mapbox": {
           "style": "light"
          },
          "paper_bgcolor": "white",
          "plot_bgcolor": "#E5ECF6",
          "polar": {
           "angularaxis": {
            "gridcolor": "white",
            "linecolor": "white",
            "ticks": ""
           },
           "bgcolor": "#E5ECF6",
           "radialaxis": {
            "gridcolor": "white",
            "linecolor": "white",
            "ticks": ""
           }
          },
          "scene": {
           "xaxis": {
            "backgroundcolor": "#E5ECF6",
            "gridcolor": "white",
            "gridwidth": 2,
            "linecolor": "white",
            "showbackground": true,
            "ticks": "",
            "zerolinecolor": "white"
           },
           "yaxis": {
            "backgroundcolor": "#E5ECF6",
            "gridcolor": "white",
            "gridwidth": 2,
            "linecolor": "white",
            "showbackground": true,
            "ticks": "",
            "zerolinecolor": "white"
           },
           "zaxis": {
            "backgroundcolor": "#E5ECF6",
            "gridcolor": "white",
            "gridwidth": 2,
            "linecolor": "white",
            "showbackground": true,
            "ticks": "",
            "zerolinecolor": "white"
           }
          },
          "shapedefaults": {
           "line": {
            "color": "#2a3f5f"
           }
          },
          "ternary": {
           "aaxis": {
            "gridcolor": "white",
            "linecolor": "white",
            "ticks": ""
           },
           "baxis": {
            "gridcolor": "white",
            "linecolor": "white",
            "ticks": ""
           },
           "bgcolor": "#E5ECF6",
           "caxis": {
            "gridcolor": "white",
            "linecolor": "white",
            "ticks": ""
           }
          },
          "title": {
           "x": 0.05
          },
          "xaxis": {
           "automargin": true,
           "gridcolor": "white",
           "linecolor": "white",
           "ticks": "",
           "title": {
            "standoff": 15
           },
           "zerolinecolor": "white",
           "zerolinewidth": 2
          },
          "yaxis": {
           "automargin": true,
           "gridcolor": "white",
           "linecolor": "white",
           "ticks": "",
           "title": {
            "standoff": 15
           },
           "zerolinecolor": "white",
           "zerolinewidth": 2
          }
         }
        },
        "xaxis": {
         "rangeslider": {
          "visible": false
         }
        }
       }
      }
     },
     "metadata": {},
     "output_type": "display_data"
    }
   ],
   "source": [
    "# ^GSPC\n",
    "\n",
    "# Adding the moving average indicators, 5 day, 10 day, 20 day\n",
    "moving_averages = ta.Strategy(\n",
    "    name=\"moving indicators\",\n",
    "    ta=[\n",
    "        {\"kind\": \"sma\", \"length\": 20},\n",
    "        {\"kind\": \"sma\", \"length\": 10},\n",
    "        {\"kind\": \"sma\", \"length\": 5},\n",
    "    ]\n",
    ")\n",
    "\n",
    "# Calculating the moving averages and adding them to the dataframe\n",
    "daily_GSPC.ta.strategy(moving_averages)\n",
    "\n",
    "\n",
    "# Extracting around the last 6 months of data for GSPC\n",
    "# Note there are usually 253 trading days in a year, so 6 months of data is around 125 days\n",
    "daily_GSPC_SMA = daily_GSPC.iloc[-125:]\n",
    "\n",
    "#Creating a candlestick plot with green indicating increases in price and red indicating decreases in prices\n",
    "fig = plotly.Figure(data=[\n",
    "    plotly.Candlestick(\n",
    "        x=daily_GSPC_SMA[\"Date\"],\n",
    "        open=daily_GSPC_SMA['Open'],\n",
    "        high=daily_GSPC_SMA['High'],\n",
    "        low=daily_GSPC_SMA['Low'],\n",
    "        close=daily_GSPC_SMA['Close'],\n",
    "        increasing_line_color='#00cc00',\n",
    "        decreasing_line_color='#ff0000',\n",
    "        showlegend=False,\n",
    "    ),\n",
    "])\n",
    "\n",
    "# Formatting Plot margin, font, and colors\n",
    "layout = plotly.Layout(\n",
    "    margin=dict(l=20, r=20, t=20, b=20),\n",
    "    plot_bgcolor='#efefef',\n",
    "    # Font Families\n",
    "    font_family='Monospace',\n",
    "    font_color='#000000',\n",
    "    font_size=12,\n",
    "    xaxis=dict(\n",
    "        rangeslider=dict(\n",
    "            visible=False\n",
    "        ))\n",
    ")\n",
    "\n",
    "# In order to add the Moving Day Averages, we will add \"traces\" to the graph using the plotly api\n",
    "\n",
    "# 20 day Moving Day Average (or SMA which stands for Simple Moving Average)\n",
    "fig.add_trace(\n",
    "    plotly.Scatter(\n",
    "        x=daily_GSPC_SMA[\"Date\"],\n",
    "        y=daily_GSPC_SMA['SMA_20'],\n",
    "        line=dict(color='#7138B6', width=2),\n",
    "        name='SMA_20'\n",
    "    )\n",
    ")\n",
    "\n",
    "# SMA 10\n",
    "fig.add_trace(\n",
    "    plotly.Scatter(\n",
    "        x=daily_GSPC_SMA[\"Date\"],\n",
    "        y=daily_GSPC_SMA['SMA_10'],\n",
    "        line=dict(color='#00C2E0', width=2),\n",
    "        name='SMA_10'\n",
    "    )\n",
    ")\n",
    "\n",
    "# SMA 5\n",
    "fig.add_trace(\n",
    "    plotly.Scatter(\n",
    "        x=daily_GSPC_SMA[\"Date\"],\n",
    "        y=daily_GSPC_SMA['SMA_5'],\n",
    "        line=dict(color='#5B2D00', width=2),\n",
    "        name='SMA_5'\n",
    "    )\n",
    ")\n",
    "\n",
    "fig.update_layout(layout)"
   ]
  },
  {
   "cell_type": "markdown",
   "metadata": {},
   "source": [
    "Using 10 and 20 day SMA's we can employ a simple trading stratergy. Usually, when the SMA 10 (a trend of a shorter time period) crosses the SMA 20 (a trend of a longer time period) from below, it's called a cross-up. We can expect the stock to increase until the 10 SMA crosses back down the SMA 20. \n",
    "\n",
    "Longer-term investors also tend to use SMA 50 (50 day moving averages), SMA 100 (100 day moving averages), and SMA 200 (200 day moving averages). Then they use shorter trend indicators in comparison to longer term indicators to turn a profit. Be careful, however, as the SMA's don't always work in this way and news and volatility can cause stocks to perform in unexpected ways."
   ]
  },
  {
   "cell_type": "markdown",
   "metadata": {},
   "source": [
    "### 6. Analysis & Hypothesis Testing\n",
    "\n",
    "After we have plotted our graphs and processed our data, we must conduct analysis to actually understand what all of this tells us. With analysis, we can further understand our data and get more information when making trades. Usually investors will use a lot of indicators such as change in volume, moving day averages, and daily/weekly trends (such as the mid day rally with GOOGL stock) to make decisions. \n",
    "\n",
    "We will use Linear Regression and k-NN (k-Nearest Neighbours) to look at our data and predict trends and test some hypothesis's. \n",
    "\n",
    "Linear Regression is a model that determines relationships between the independent variables and dependent variables. In our case, we do not have a set of independent variables but we do have the dates. So we will use the fats to extract features such as day, month, year, etc. and then fit a linear regression model.\n",
    "\n",
    "We will fit this model on the daily stock data for ^GSPC. First, we will reindex our dataframe by date and sort it in ascending order. Then we will copy over the dataframe so adding features does not modify our dataset. Then we will create our features using the date. Apart from this, based on the closing price graphs, I can make a hypothesis that the first and last day of the week affect the closing stock price more than the other days. Using this hypothesis we can create another feature where we identify whether a day is Tuesday/Wednesday/Thursday (by a value of 0) or Monday/Friday (by a value of 1). If you think there are other features that may be helpful in predicting the price, feel free to add them in your own analysis!"
   ]
  },
  {
   "cell_type": "code",
   "execution_count": 33,
   "metadata": {},
   "outputs": [
    {
     "name": "stdout",
     "output_type": "stream",
     "text": [
      "1259\n"
     ]
    },
    {
     "data": {
      "text/html": [
       "<div>\n",
       "<style scoped>\n",
       "    .dataframe tbody tr th:only-of-type {\n",
       "        vertical-align: middle;\n",
       "    }\n",
       "\n",
       "    .dataframe tbody tr th {\n",
       "        vertical-align: top;\n",
       "    }\n",
       "\n",
       "    .dataframe thead th {\n",
       "        text-align: right;\n",
       "    }\n",
       "</style>\n",
       "<table border=\"1\" class=\"dataframe\">\n",
       "  <thead>\n",
       "    <tr style=\"text-align: right;\">\n",
       "      <th></th>\n",
       "      <th>Close</th>\n",
       "      <th>Year</th>\n",
       "      <th>Month</th>\n",
       "      <th>Week</th>\n",
       "      <th>Day</th>\n",
       "      <th>Dayofweek</th>\n",
       "      <th>Dayofyear</th>\n",
       "      <th>Is_month_end</th>\n",
       "      <th>Is_month_start</th>\n",
       "      <th>Is_quarter_end</th>\n",
       "      <th>Is_quarter_start</th>\n",
       "      <th>Is_year_end</th>\n",
       "      <th>Is_year_start</th>\n",
       "      <th>Mid-Week</th>\n",
       "    </tr>\n",
       "  </thead>\n",
       "  <tbody>\n",
       "    <tr>\n",
       "      <th>0</th>\n",
       "      <td>2402.320068</td>\n",
       "      <td>2017</td>\n",
       "      <td>5</td>\n",
       "      <td>20</td>\n",
       "      <td>15</td>\n",
       "      <td>0</td>\n",
       "      <td>135</td>\n",
       "      <td>False</td>\n",
       "      <td>False</td>\n",
       "      <td>False</td>\n",
       "      <td>False</td>\n",
       "      <td>False</td>\n",
       "      <td>False</td>\n",
       "      <td>1</td>\n",
       "    </tr>\n",
       "    <tr>\n",
       "      <th>1</th>\n",
       "      <td>2400.669922</td>\n",
       "      <td>2017</td>\n",
       "      <td>5</td>\n",
       "      <td>20</td>\n",
       "      <td>16</td>\n",
       "      <td>1</td>\n",
       "      <td>136</td>\n",
       "      <td>False</td>\n",
       "      <td>False</td>\n",
       "      <td>False</td>\n",
       "      <td>False</td>\n",
       "      <td>False</td>\n",
       "      <td>False</td>\n",
       "      <td>0</td>\n",
       "    </tr>\n",
       "    <tr>\n",
       "      <th>2</th>\n",
       "      <td>2357.030029</td>\n",
       "      <td>2017</td>\n",
       "      <td>5</td>\n",
       "      <td>20</td>\n",
       "      <td>17</td>\n",
       "      <td>2</td>\n",
       "      <td>137</td>\n",
       "      <td>False</td>\n",
       "      <td>False</td>\n",
       "      <td>False</td>\n",
       "      <td>False</td>\n",
       "      <td>False</td>\n",
       "      <td>False</td>\n",
       "      <td>0</td>\n",
       "    </tr>\n",
       "    <tr>\n",
       "      <th>3</th>\n",
       "      <td>2365.719971</td>\n",
       "      <td>2017</td>\n",
       "      <td>5</td>\n",
       "      <td>20</td>\n",
       "      <td>18</td>\n",
       "      <td>3</td>\n",
       "      <td>138</td>\n",
       "      <td>False</td>\n",
       "      <td>False</td>\n",
       "      <td>False</td>\n",
       "      <td>False</td>\n",
       "      <td>False</td>\n",
       "      <td>False</td>\n",
       "      <td>0</td>\n",
       "    </tr>\n",
       "    <tr>\n",
       "      <th>4</th>\n",
       "      <td>2381.72998</td>\n",
       "      <td>2017</td>\n",
       "      <td>5</td>\n",
       "      <td>20</td>\n",
       "      <td>19</td>\n",
       "      <td>4</td>\n",
       "      <td>139</td>\n",
       "      <td>False</td>\n",
       "      <td>False</td>\n",
       "      <td>False</td>\n",
       "      <td>False</td>\n",
       "      <td>False</td>\n",
       "      <td>False</td>\n",
       "      <td>1</td>\n",
       "    </tr>\n",
       "  </tbody>\n",
       "</table>\n",
       "</div>"
      ],
      "text/plain": [
       "         Close  Year  Month  Week  Day  Dayofweek  Dayofyear  Is_month_end  \\\n",
       "0  2402.320068  2017      5    20   15          0        135         False   \n",
       "1  2400.669922  2017      5    20   16          1        136         False   \n",
       "2  2357.030029  2017      5    20   17          2        137         False   \n",
       "3  2365.719971  2017      5    20   18          3        138         False   \n",
       "4   2381.72998  2017      5    20   19          4        139         False   \n",
       "\n",
       "   Is_month_start  Is_quarter_end  Is_quarter_start  Is_year_end  \\\n",
       "0           False           False             False        False   \n",
       "1           False           False             False        False   \n",
       "2           False           False             False        False   \n",
       "3           False           False             False        False   \n",
       "4           False           False             False        False   \n",
       "\n",
       "   Is_year_start  Mid-Week  \n",
       "0          False         1  \n",
       "1          False         0  \n",
       "2          False         0  \n",
       "3          False         0  \n",
       "4          False         1  "
      ]
     },
     "execution_count": 33,
     "metadata": {},
     "output_type": "execute_result"
    }
   ],
   "source": [
    "# Formatting the date and the indexing by Date\n",
    "daily_GSPC[\"Date\"] = pd.to_datetime(daily_GSPC[\"Date\"], format='%Y-%m-%d')\n",
    "daily_GSPC.index = daily_GSPC[\"Date\"]\n",
    "\n",
    "# Sorting by index\n",
    "daily_GSPC = daily_GSPC.sort_index(ascending=True, axis=0)\n",
    "\n",
    "# Copying over the dataframe with the columns that we want\n",
    "daily_GPSC_LR = pd.DataFrame(index=range(0, len(daily_GSPC)),columns=[\"Date\", \"Close\"])\n",
    "for i in range(0, len(daily_GOOGL)):\n",
    "  daily_GPSC_LR.iloc[i][\"Date\"] = daily_GSPC.iloc[i][\"Date\"]\n",
    "  daily_GPSC_LR.iloc[i][\"Close\"] = daily_GSPC.iloc[i][\"Close\"]\n",
    "\n",
    "# Creating features from date such as \"Year\", \"Month\", \"Week\", \"Is_month_start\", \"Is_quarter_end\", \"Is_year_end\", \n",
    "# \"Is_year_start\", etc.\n",
    "add_datepart(daily_GPSC_LR, 'Date')\n",
    "# Elapsed is just the time stamp so we can drop it\n",
    "daily_GPSC_LR.drop(\"Elapsed\", axis=1, inplace=True)\n",
    "# Adding my own feature\n",
    "daily_GPSC_LR[\"Mid-Week\"] = 0\n",
    "for i in range(0, len(daily_GPSC_LR)):\n",
    "  if(daily_GPSC_LR.loc[i, \"Dayofweek\"] == 0 or daily_GPSC_LR.loc[i, \"Dayofweek\"] == 4):\n",
    "    daily_GPSC_LR.loc[i, \"Mid-Week\"] = 1\n",
    "  else: \n",
    "    daily_GPSC_LR.loc[i, \"Mid-Week\"] = 0\n",
    "  \n",
    "print(len(daily_GPSC_LR))\n",
    "daily_GPSC_LR.head(5)"
   ]
  },
  {
   "cell_type": "markdown",
   "metadata": {},
   "source": [
    "Above we can see what our features look like. Next, we will split the data into training and validation sets to check the performance of the model. We see that there are 1259 rows. We will split it so there are 990 rows in the training set and 269 rows in the validation set."
   ]
  },
  {
   "cell_type": "code",
   "execution_count": 34,
   "metadata": {},
   "outputs": [
    {
     "data": {
      "text/plain": [
       "722.6732965480026"
      ]
     },
     "execution_count": 34,
     "metadata": {},
     "output_type": "execute_result"
    }
   ],
   "source": [
    "# Creating training and validation sets\n",
    "training = daily_GPSC_LR[:990]\n",
    "validation = daily_GPSC_LR[990:]\n",
    "\n",
    "# Creating the x and y values for the training and validation sets\n",
    "x_training = training.drop(\"Close\", axis=1)\n",
    "y_training = training[\"Close\"]\n",
    "x_validation = validation.drop(\"Close\", axis=1)\n",
    "y_validation = validation[\"Close\"]\n",
    "\n",
    "# Implementing linear regression\n",
    "model = LinearRegression()\n",
    "model.fit(x_training, y_training)\n",
    "\n",
    "# Predicting values using the model\n",
    "predictions = model.predict(x_validation)\n",
    "# Calculating root mean squared error\n",
    "rms = np.sqrt(np.mean(np.power((np.array(y_validation)-np.array(predictions)), 2)))\n",
    "rms"
   ]
  },
  {
   "cell_type": "markdown",
   "metadata": {},
   "source": [
    "Our RMS value is very high which indicates that our linear regression model has performed poorly in predicitng stock prices. We will plot out model's predictions to better understand what happened. "
   ]
  },
  {
   "cell_type": "code",
   "execution_count": 35,
   "metadata": {},
   "outputs": [
    {
     "data": {
      "image/png": "[encoded data removed]",
      "text/plain": [
       "<Figure size 1440x720 with 1 Axes>"
      ]
     },
     "metadata": {
      "needs_background": "light"
     },
     "output_type": "display_data"
    }
   ],
   "source": [
    "# Adding the predictions to the validation dataframe\n",
    "validation.insert(0, \"Predictions\", predictions)\n",
    "\n",
    "# Plotting our training set closing price and then the rest of the dataset's closing price with the prediction\n",
    "fig, ax = plt.subplots(figsize=(20, 10))\n",
    "ax.plot(training[\"Close\"], color = \"blue\", label=\"training\")\n",
    "ax.plot(validation[\"Close\"], color = \"orange\", label=\"validation\")\n",
    "ax.plot(validation[\"Predictions\"], color = \"green\", label=\"model\")\n",
    "plt.legend()\n",
    "plt.title(\"Linear Regression Model Fitted on ^GSPC Close Price Over Time\")\n",
    "# Indexing the x-axis to the timeline we are plotting data across\n",
    "plt.xticks([75, 275, 525, 775, 1025, 1275], labels=[\"2017\", \"2018\", \"2019\", \"2020\", \"2021\", \"2022\"])\n",
    "plt.xlabel(\"Year\")\n",
    "plt.ylabel(\"Closing Price (in USD)\")\n",
    "plt.show()"
   ]
  },
  {
   "cell_type": "markdown",
   "metadata": {},
   "source": [
    "It looks like our linear regression model overfits to the date and month column. Our regression model is more closely following our training set and fails to accurately predict the validation data. \n",
    "\n",
    "Noe let's use k-NN, another Machine Learning algorithm. Based on the independent variables, kNN finds the similarity between new data points and old data points based on the neighboring data points. "
   ]
  },
  {
   "cell_type": "code",
   "execution_count": 36,
   "metadata": {},
   "outputs": [
    {
     "data": {
      "text/plain": [
       "1577.1659222211115"
      ]
     },
     "execution_count": 36,
     "metadata": {},
     "output_type": "execute_result"
    }
   ],
   "source": [
    "# Defining scaler\n",
    "scaler = MinMaxScaler(feature_range=(0, 1))\n",
    "\n",
    "# We will use the same training and validation sets from the last section\n",
    "# scaling the data according to the feature_range defined above\n",
    "x_training_scaled = scaler.fit_transform(x_training)\n",
    "x_training = pd.DataFrame(x_training_scaled)\n",
    "x_validation_scaled = scaler.fit_transform(x_validation)\n",
    "x_validation = pd.DataFrame(x_validation_scaled)\n",
    "\n",
    "# Using gridsearch to ding the best parameter\n",
    "parameters = {'n_neighbors':[2,3,4,5,6,7,8,9]}\n",
    "knn = neighbors.KNeighborsRegressor()\n",
    "model = GridSearchCV(knn, parameters, cv=5)\n",
    "\n",
    "# Fit the model and make predictions\n",
    "model.fit(x_training, y_training)\n",
    "predictions = model.predict(x_validation)\n",
    "\n",
    "# Calculating Root Mean Square Error\n",
    "rms=np.sqrt(np.mean(np.power((np.array(y_validation)-np.array(predictions)),2)))\n",
    "rms\n"
   ]
  },
  {
   "cell_type": "markdown",
   "metadata": {},
   "source": [
    "The RMS value here is even larger than before meaning the k-NN algorithm performed even worse than the linear regression. Let's plot our predictions to see what they look like. "
   ]
  },
  {
   "cell_type": "code",
   "execution_count": 37,
   "metadata": {},
   "outputs": [
    {
     "data": {
      "image/png": "[encoded data removed]",
      "text/plain": [
       "<Figure size 1440x720 with 1 Axes>"
      ]
     },
     "metadata": {
      "needs_background": "light"
     },
     "output_type": "display_data"
    }
   ],
   "source": [
    "# Replacing predictions with the new ones we created\n",
    "validation = validation.drop([\"Predictions\"], axis=1)\n",
    "validation.insert(0, \"Predictions\", predictions)\n",
    "# Plotting our training set closing price and then the rest of the dataset's closing price with the prediction\n",
    "fig, ax = plt.subplots(figsize=(20, 10))\n",
    "ax.plot(training[\"Close\"], color = \"blue\", label=\"training\")\n",
    "ax.plot(validation[\"Close\"], color = \"orange\", label=\"validation\")\n",
    "ax.plot(validation[\"Predictions\"], color = \"green\", label=\"model\")\n",
    "plt.legend()\n",
    "plt.title(\"k-NN Model fitted to ^GSPC Close Price Over Time\")\n",
    "# Indexing the x-axis to the timeline we are plotting data across\n",
    "plt.xticks([75, 275, 525, 775, 1025, 1275], labels=[\"2017\", \"2018\", \"2019\", \"2020\", \"2021\", \"2022\"])\n",
    "plt.xlabel(\"Year\")\n",
    "plt.ylabel(\"Closing Price (in USD)\")\n",
    "plt.show()"
   ]
  },
  {
   "cell_type": "markdown",
   "metadata": {},
   "source": [
    "Off the bat, we can see the prediction by the model is very far away in terms of price of stock. This explains the larger RMS score. The RMSE value is almost similar to the linear regression model except halfway through it mimics the curve of the validation set. After using both these models, we can say that regression models have not worked well for our purposes. "
   ]
  },
  {
   "cell_type": "code",
   "execution_count": null,
   "metadata": {},
   "outputs": [],
   "source": []
  },
  {
   "cell_type": "code",
   "execution_count": null,
   "metadata": {},
   "outputs": [],
   "source": []
  }
 ],
 "metadata": {
  "interpreter": {
   "hash": "3fc60d7bf1340bb4956adbf53f74f3850f6401f711c9bb9ce1f59ffe0424dab6"
  },
  "kernelspec": {
   "display_name": "Python 3.8.12 ('CMSC320')",
   "language": "python",
   "name": "python3"
  },
  "language_info": {
   "codemirror_mode": {
    "name": "ipython",
    "version": 3
   },
   "file_extension": ".py",
   "mimetype": "text/x-python",
   "name": "python",
   "nbconvert_exporter": "python",
   "pygments_lexer": "ipython3",
   "version": "3.8.12"
  },
  "orig_nbformat": 4
 },
 "nbformat": 4,
 "nbformat_minor": 2
}
