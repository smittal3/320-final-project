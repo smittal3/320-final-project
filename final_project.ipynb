{
 "cells": [
  {
   "cell_type": "markdown",
   "metadata": {},
   "source": [
    "# Stock Market Analysis\n",
    "##### Shubham Mittal - CMSC320 Final Project Tutorial\n",
    "\n",
    "### 1. Introduction\n",
    "Interest in the stock market has been increasing especially after the introduction of more user friendly apps such as Robinhood and Coinbase. Financial data has also started becoming more accessible partly fueling this increase. The pandemic shook the global economy and the market experienced a lot of volatility. As a result, at the beginning of the pandemic, people started moving away from the stock market to more low risk investments. However, as the pandemic has continued, a new surge of people has started coming back to the stock market. \n",
    "\n",
    "In this tutorial, I will analyze stock market data in different intervals to identify intraday, weekly, monthly, and yearly trends. These trends could help identify periods of time that may be more lucrative for trading (a certain time of day or a certain month of a year) allowing investors to make better trading decisions. This tutorial will also help you gain a better understanding of the data science pipeline and hopefully allow you to analyze stock market data for your own purposes. \n",
    "\n",
    "(Need to add links to sources)\n",
    "Less likely to invest - https://www.statista.com/topics/7856/covid-19-and-investment-behavior-worldwide/#dossierKeyfigures\n",
    "Started investing more - https://www.cnbc.com/2021/04/08/a-large-chunk-of-the-retail-investing-crowd-got-their-start-during-the-pandemic-schwab-survey-shows.html\n",
    "\n",
    "\n",
    "### 2. Required Tools\n",
    "In order to understand this tutorial and follow along, you will need to have a basic understanding of Python. We will be using Python 3.8 in this tutorial and the following libraries: \n",
    "- Pandas\n",
    "- NumPy\n",
    "- yfinance \n",
    "- yahoofinancials\n",
    "Pandas and NumPy will be useful to manipulate and store our data. We will be getting financial data from Yahoo Finance using the yfinance and yahoofinancials libraries. \n",
    "\n",
    "All of the above libraries can be installed using pip (which is recommended) but the links (NEED TO ADD LINKS TO EACH LIBRARY) provide more detailed information on downloading for specific OS's."
   ]
  },
  {
   "cell_type": "code",
   "execution_count": null,
   "metadata": {},
   "outputs": [],
   "source": []
  }
 ],
 "metadata": {
  "interpreter": {
   "hash": "3fc60d7bf1340bb4956adbf53f74f3850f6401f711c9bb9ce1f59ffe0424dab6"
  },
  "kernelspec": {
   "display_name": "Python 3.8.12 ('CMSC320')",
   "language": "python",
   "name": "python3"
  },
  "language_info": {
   "name": "python",
   "version": "3.8.12"
  },
  "orig_nbformat": 4
 },
 "nbformat": 4,
 "nbformat_minor": 2
}
